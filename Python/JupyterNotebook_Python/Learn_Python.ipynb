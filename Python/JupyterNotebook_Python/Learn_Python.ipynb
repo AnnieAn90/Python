{
 "cells": [
  {
   "cell_type": "code",
   "execution_count": 1,
   "id": "cb2ace2c",
   "metadata": {},
   "outputs": [
    {
     "name": "stdout",
     "output_type": "stream",
     "text": [
      "Hello World!\n"
     ]
    }
   ],
   "source": [
    "print(\"Hello World!\")"
   ]
  },
  {
   "cell_type": "markdown",
   "id": "c122f771",
   "metadata": {},
   "source": [
    "# Heading Level 1\n",
    "This is our main heading! \n",
    "\n",
    "## Heading level 2\n",
    "This is our second heading! "
   ]
  },
  {
   "cell_type": "markdown",
   "id": "298e71f6",
   "metadata": {},
   "source": [
    "# New Heading Level 1\n",
    "\n",
    "## New Heading Level 2"
   ]
  }
 ],
 "metadata": {
  "kernelspec": {
   "display_name": "Python 3 (ipykernel)",
   "language": "python",
   "name": "python3"
  },
  "language_info": {
   "codemirror_mode": {
    "name": "ipython",
    "version": 3
   },
   "file_extension": ".py",
   "mimetype": "text/x-python",
   "name": "python",
   "nbconvert_exporter": "python",
   "pygments_lexer": "ipython3",
   "version": "3.7.11"
  }
 },
 "nbformat": 4,
 "nbformat_minor": 5
}
