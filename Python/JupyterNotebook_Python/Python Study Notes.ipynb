{
 "cells": [
  {
   "cell_type": "markdown",
   "id": "69192afc",
   "metadata": {},
   "source": [
    "# Python Basics\n",
    "This notebook serves as the sutdy notes for Python Language. The material is mainly follow the MIT courseware [Introduction to Computer Science and Programming Using Python](https://learning.edx.org/course/course-v1:MITx+6.00.1x+2T2017_2/home), and [Introdcution to Computational Thinking and Data Science](https://ocw.mit.edu/courses/electrical-engineering-and-computer-science/6-0002-introduction-to-computational-thinking-and-data-science-fall-2016/lecture-slides-and-files/). Course lectures are available on [YouTube](https://www.youtube.com/watch?v=C1lhuz6pZC0&list=PLUl4u3cNGP619EG1wp0kT-7rDE_Az5TNd)\n",
    "\n",
    "Online Study Resources: [LeetCode](https://leetcode.com/), [GeeksforGeeks](https://www.geeksforgeeks.org/), [Tech Interview Pro](https://www.yoreoyster.com/review/tech-interview-pro/), [Interviewing](https://interviewing.io/), [Official Python Documentation](https://docs.python.org/3/library/index.html), [Python Tutor](https://pythontutor.com/), [Dive Into Python3](https://diveintopython3.net/index.html).\n",
    "\n",
    "This Chapter describes the basic `objects/while/for/if/logic/operations` concepts in Python language. \n",
    "\n",
    "- [Scalar and Non-scalar Objects](#scaler-and-non-scalar-objects)\n",
    "- [Expressions in Python](#expressions-in-python)\n",
    "- [Binding Variables](#binding-variables-and-Values)\n",
    "- [Comparison Operators](#comparion-operators)\n",
    "- [Logic Operators](#logic-operators)\n",
    "- [Conditional Statement](#conditional-statement)\n",
    "- [Strings](#strings)\n",
    "- [While Loops](#while-loops)\n",
    "- [For Loops](#for-loops)\n",
    "- [Iteration](#iteration)\n",
    "- [Guess and Check](#guess-and-check-algorithm )"
   ]
  },
  {
   "cell_type": "markdown",
   "id": "2f82c824",
   "metadata": {},
   "source": [
    "## Scaler and Non-scalar Objects<a id=\"scaler_obj\"></a>\n",
    "\n",
    "`int`, `float`, `bool`, `NoneType` are built-in scalar obejcts (Python is an object-oriented language and eveything in python is an object of a class).\n",
    "\n",
    "`list`,` tuple`, `list`, `dictionary` are non-scalar objects.\n",
    "\n",
    "Can use `type()` to see the type (class) of an object.\n",
    "\n",
    "We can directly convert object of one type to another."
   ]
  },
  {
   "cell_type": "code",
   "execution_count": null,
   "id": "70853d1f",
   "metadata": {},
   "outputs": [],
   "source": [
    "print(type(5))"
   ]
  },
  {
   "cell_type": "code",
   "execution_count": null,
   "id": "20a6c8d2",
   "metadata": {},
   "outputs": [],
   "source": [
    "print(type(3.0))"
   ]
  },
  {
   "cell_type": "code",
   "execution_count": null,
   "id": "1d27a94a",
   "metadata": {},
   "outputs": [],
   "source": [
    "print(float(3))\n",
    "print(int(3.9))"
   ]
  },
  {
   "cell_type": "markdown",
   "id": "1f2abcd2",
   "metadata": {},
   "source": [
    "## Expressions in Python <a id=\"expression\"></a>\n",
    "\n",
    "Syntax for a simple expression `<object> <operator> <object>`\n",
    "\n",
    "Common operators on `ints` and `floats` are `+,-,*,/`, **int division** `//`, **remainder** `%` and the **power** `**`.\n",
    "\n",
    "Parentheses have the highest priority. \n"
   ]
  },
  {
   "cell_type": "code",
   "execution_count": null,
   "id": "5ea966fc",
   "metadata": {},
   "outputs": [],
   "source": [
    "# 6/3 get 2.0 returns float 3.0, 5//2 returns integer 2\n",
    "print(6/3)\n",
    "print(5//2)\n",
    "print(5%2)"
   ]
  },
  {
   "cell_type": "markdown",
   "id": "7ad12407",
   "metadata": {},
   "source": [
    "### Input/Output in Python\n",
    "Keywords are `print(), input()`\n",
    "\n",
    "`Text = input(\"Type anything...\")`, input() takes string input and we can convert string to integer using `num=int(input(\"Type a number\"))`"
   ]
  },
  {
   "cell_type": "markdown",
   "id": "576e0b34",
   "metadata": {},
   "source": [
    "## Binding variables and Values <a id=\"bind_var\"></a>\n",
    "Equal sign is an assignment of a value to a variable name. Re-bind variable names using new assignment statements. Previous value may still stored in memory but lost the handle of it."
   ]
  },
  {
   "cell_type": "markdown",
   "id": "f9c18fa8",
   "metadata": {},
   "source": [
    "## Comparion Operators <a id=\"compare\"></a>\n",
    "Used for integers and floats  `i>j`,`i>=j`, `i<j`, `i<=j`, **equality test** `i==j`, and **inequality test** `i!=j`."
   ]
  },
  {
   "cell_type": "markdown",
   "id": "b3a2759c",
   "metadata": {},
   "source": [
    "## Logic Operators <a id=\"logic\"></a>\n",
    "Used for bools `not a`, `a and b`, `a or b`."
   ]
  },
  {
   "cell_type": "markdown",
   "id": "dcc48dca",
   "metadata": {},
   "source": [
    "## Conditional Statement <a id=\"condition\"></a>\n",
    "`if (conditon): ... elif (condition): ... else:`, indentation matters in Python"
   ]
  },
  {
   "cell_type": "code",
   "execution_count": null,
   "id": "b1bae564",
   "metadata": {},
   "outputs": [],
   "source": [
    "# x = int(input('Enter an interger')) # input in Python\n",
    "# COMPOUND BOOLEANS\n",
    "x = 1; y =2; z = 3\n",
    "if x<y and x<z:\n",
    "    print('x is least')\n",
    "elif y<z: # ELSE IF\n",
    "    print('y is least')\n",
    "else:\n",
    "    print('z is least')\n"
   ]
  },
  {
   "cell_type": "markdown",
   "id": "f46b61ee",
   "metadata": {},
   "source": [
    "## Strings <a id=\"string\"></a>\n",
    "Strings can represent letters, special characters, spaces, digits. Strings are enclosed in double or single quotation marks. \n",
    "\n",
    "1. Double quotation is handy and we can mainly use double quotes.  \n",
    "\n",
    "2. Use `+` to add (concatenate) strings together\n",
    "\n",
    "3. Use `\" \"` as a blank space\n",
    "\n",
    "4. String is a **non-scalar** object, meaning there are attributes associated with each string object."
   ]
  },
  {
   "cell_type": "code",
   "execution_count": null,
   "id": "736e44af",
   "metadata": {},
   "outputs": [],
   "source": [
    "hi = \"Hello There!\"\n",
    "print(hi)\n",
    "name = \"eric!\"\n",
    "greeting = hi+\" \"+name\n",
    "print(greeting)"
   ]
  },
  {
   "cell_type": "markdown",
   "id": "b4652536",
   "metadata": {},
   "source": [
    "### String Operations\n",
    "`Concatenation, successive concatenation, length, indexing, slicing, reverse, in` (Note python uses a 0-based indexing system, while MATLAB uses the 1-based indexing system).\n",
    "\n",
    "Strings are **immutable**; however, we can do re-assignment to modify the String."
   ]
  },
  {
   "cell_type": "code",
   "execution_count": null,
   "id": "18b6e1ce",
   "metadata": {},
   "outputs": [],
   "source": [
    "hi = 'ab'+'cd' # CONCATENATION\n",
    "print(hi)\n",
    "hi1 = 3*'eric' # SUCCESSIVE CONCATENATION\n",
    "print(hi1)\n",
    "hi2 = len('eric') # THE LENGTH, ALSO INCLUDES THE SPACE\n",
    "print(hi2)\n",
    "hi3 = 'eric'[1] # INDEXING, BEGINS WITH INDEX 0, THIS RETURNS r\n",
    "print(hi3)\n",
    "hi4 = 'eric'[1:3] # SLICING, EXTRACTS SEQUENCE STARTING AT FIRST INDEX AND ENDING BEFORE THE 3 INDEX\n",
    "print(hi4)\n",
    "\n",
    "# STRING OPERATION EXAMPLES\n",
    "str1 = 'hello'\n",
    "str2 = ','\n",
    "str3 = 'world'\n",
    "               \n",
    "print('a' in str3) # bool, False, in/not in ARE TWO BASIC PYTHON MEMBERSHIP OPERATORS\n",
    "print('HELLO' == str1) # bool, False\n",
    "str4 = str1 + str3 # STRING CONCATENATION\n",
    "print('low' in str4) # bool, True\n",
    "print(str3[:-1]) # string, worl, note -1 means the last element, -2 means the second last element\n",
    "print(str4[1:9:2]) # string, elwr, EXTRACT THE LETTERS WITH INDEX 1,3,5,7\n",
    "print(str4[::-1]) # string, dlrowolleh, (REVERSE ORDER)\n",
    "print(str4) # str4 itself is not changed in slicing operations\n",
    "s = \"hello\" \n",
    "s = \"y\" + s[1:len(s)] # strings are immutable, but we can re-assign the string.\n",
    "print(s)"
   ]
  },
  {
   "cell_type": "markdown",
   "id": "9d996340",
   "metadata": {},
   "source": [
    "### String Comparison Operations\n",
    "`==, !=, >, >=, <, <= `\n",
    "\n",
    "PYTHON COMPARES STRING LEXICOGRAPHICALLY (USING ASCII VLAUE OF CHARACTERS)\n",
    "\n",
    "e.g. Str1 = \"Mary\", Str2 = \"Mac\", THE FIRST TWO CHARS ARE M = M, THE SECOND CHARS ARE THEN COMPARED a,a\n",
    "\n",
    "ARE STILL EQUAL, THE THIRD TWO CHARS ARE THEN COMPARED r(ASCII 114) > c (ASCII 099)\n",
    "\n",
    "A<B<C<...<Z<a<b<c<...<x<y<z"
   ]
  },
  {
   "cell_type": "code",
   "execution_count": null,
   "id": "96215609",
   "metadata": {},
   "outputs": [],
   "source": [
    "print(\"tim\" == \"tie\") # False\n",
    "print(\"free\" != \"freedom\") # True\n",
    "print(\"arrow\" > \"aron\") # True\n",
    "print(\"right\" >= \"left\") # True\n",
    "print(\"teeth\" < \"tee\") # False\n",
    "print(\"yellow\" <= \"fellow\") # False\n",
    "print(\"abc\">\"\") # True, NOTE THE EMPTY STRING \"\" IS SMALLER THAN ALL OTHER STRINGS"
   ]
  },
  {
   "cell_type": "markdown",
   "id": "3322bf0e",
   "metadata": {},
   "source": [
    "### String Method \n",
    "1. EVERYTHING IN PYTHON IS AN OBJECT. OBJECTS ARE SPECIAL BECAUSE WE CAN ASSOCIATE SPECIAL FUNCTIONS, REFERRED TO AS OBJECT METHODS, WITH THE OBJECT. \n",
    "2. More methods associated with Strings can be found [here](https://docs.python.org/3/library/stdtypes.html#string-methods)"
   ]
  },
  {
   "cell_type": "code",
   "execution_count": null,
   "id": "b44deb44",
   "metadata": {},
   "outputs": [],
   "source": [
    "s = 'abc'\n",
    "s.capitalize # returns the function type\n",
    "s.capitalize() # invoke the function and returns Abc (need () to indicate a method is invoked)\n",
    "print(s.capitalize()) \n",
    "s.upper() # Return a copy of the string with all the cased chars converted to uppercase\n",
    "print(s.upper())\n",
    "print(s.isupper()) # Return true if all cased characters in the string are uppercase\n",
    "            # and there is at least one cased character, false otherwise.\n",
    "print(s.islower()) # similar to s.isupper\n",
    "print(s.swapcase()) #Return a copy of the string with uppercase chars converted to lowercase, vice versa.\n",
    "print(s.find('e')) # Return the lowest index in the string where substring 'e' is found,-1 if sub is not found\n",
    "print(s.index('c')) # Like find(), but raise ValueError when the substring is not found.\n",
    "print(s.count('e')) # Return the number of non-overlapping occurrences of substring e\n",
    "print(s.replace('old','new')) # Return a copy of the str, all occurrences of substr 'old' replaced by 'new'"
   ]
  },
  {
   "cell_type": "markdown",
   "id": "71d7dcc1",
   "metadata": {},
   "source": [
    "## While Loops <a id=\"while\"></a>\n",
    "`while <condition>: <expression>`, note `<condition>` evaluates to a Boolean. If `<condition>` is `True`, do all the steps inside the while code block, and then check the `<condition>` again and repeat until `<condition>` is `False`. \n",
    "\n",
    "Indentation matters! "
   ]
  },
  {
   "cell_type": "code",
   "execution_count": null,
   "id": "4b05ca57",
   "metadata": {},
   "outputs": [],
   "source": [
    "# CONTRL FLOW while LOOPS , range(start,stop,step)\n",
    "n = 0\n",
    "while n<5: # CTRL + c IN THE CONSOLE TO STOP THE PROGRAM\n",
    "    print(n)\n",
    "    n = n+1"
   ]
  },
  {
   "cell_type": "markdown",
   "id": "3912e255",
   "metadata": {},
   "source": [
    "## For Loops <a id=\"for\"></a>\n",
    "`for n in range(5)`, is equivalent to n in [0,1,2,3,4] \n",
    "\n",
    "`range(7,10)` starts at 7 stops at 10 (7,8,9) and `range(5,11,2)` starts at 5, stops at 11, step 2 (5,7,9)\n",
    "\n",
    "`break` can be used for exiting the innermost loop (for,while)\n",
    "\n",
    "`for` can loop through characters in strings"
   ]
  },
  {
   "cell_type": "code",
   "execution_count": null,
   "id": "024fe773",
   "metadata": {},
   "outputs": [],
   "source": [
    "# break STATEMENT\n",
    "mysum = 0\n",
    "for i in range(5,11,2):\n",
    "    mysum = mysum + i\n",
    "    if mysum == 5:\n",
    "        break\n",
    "print(mysum)\n",
    "\n",
    "# h, o ,l, a (for CAN LOOP CHARACTERS IN THE STRING)\n",
    "for letter in 'hola': \n",
    "    print(letter)"
   ]
  },
  {
   "cell_type": "markdown",
   "id": "249cd860",
   "metadata": {},
   "source": [
    "## Iteration <a id=\"iteration\"></a>\n",
    "\n",
    "Repeatedly use the same code. Need to set an iteration variable outside loop then test variable to determine when done and change variable within the loop. \n",
    "\n",
    "Iterative algorithms allow us to do more complex things than simple arithmetic, one useful example are **guess and check** methods."
   ]
  },
  {
   "cell_type": "code",
   "execution_count": null,
   "id": "f7b4d98a",
   "metadata": {},
   "outputs": [],
   "source": [
    "x = 3\n",
    "ans = 0\n",
    "itersLeft = x\n",
    "while(itersLeft != 0):\n",
    "    ans = ans +x\n",
    "    itersLeft = itersLeft - 1\n",
    "print(str(x)+'*'+str(x)+'='+str(ans))"
   ]
  },
  {
   "cell_type": "markdown",
   "id": "9a0b0383",
   "metadata": {},
   "source": [
    "## Guess and Check Algorithm <a id=\"guess\"></a>\n",
    "\n",
    "We guess a solution and check iteratively. Guess a value for solution. Check if the solution is correct. Keep guessing until find solution or guessed all values. The process is exhaustive enumeration. Can work on problems with a finite number of possibilities."
   ]
  },
  {
   "cell_type": "code",
   "execution_count": null,
   "id": "0096e1e7",
   "metadata": {},
   "outputs": [],
   "source": [
    "# GUESS-AND-CHECK-cube root\n",
    "cube = 28\n",
    "for guess in range(abs(cube)+1):\n",
    "    if guess**3 >= abs(cube):\n",
    "        break\n",
    "if guess**3 != abs(cube):\n",
    "    print(cube, 'is not a perfect cube')\n",
    "else:\n",
    "    if cube < 0:\n",
    "        guess = -guess \n",
    "    print('Cube root of ' + str(cube) + ' is ' + str(guess))"
   ]
  },
  {
   "cell_type": "markdown",
   "id": "13ad39a6",
   "metadata": {},
   "source": [
    "# Function/Iteration/Recursion/Modules/Files\n",
    "\n",
    "This Chapter describes the Python `function/iteration/recrusion/modules/files`\n",
    "\n",
    "- [Bisection Search Algorithm](#bisection-search-algorithms)\n",
    "- [Floats amd Fractions](#floats-and-fractions)\n",
    "- [Newton-Rampson Root Finding Algorithm](#newton-raphson)\n",
    "- [Functions](#functions)\n",
    "- [Recursion](#recursion)\n",
    "- [Modules](#modules)\n",
    "- [Files](#files)"
   ]
  },
  {
   "cell_type": "markdown",
   "id": "bb955b3f",
   "metadata": {},
   "source": [
    "## Bisection Search Algorithms <a id=\"bisec\"></a>\n",
    "\n",
    "We can use this algorithm to compute the monthly payment of a mortgage.\n"
   ]
  },
  {
   "cell_type": "code",
   "execution_count": null,
   "id": "1bc299af",
   "metadata": {},
   "outputs": [],
   "source": [
    "\"\"\"\n",
    "BISECTION SEARCH - SQUARE ROOT\n",
    "# REALLY RADICALLY REDUCES COMPUTATION TIME\n",
    "\"\"\"\n",
    "x = 25\n",
    "epsilon = 0.01\n",
    "numGuesses = 0\n",
    "low = 1.0\n",
    "high = x\n",
    "ans = (high + low)/2.0\n",
    "\n",
    "while abs(ans**2-x) >= epsilon:\n",
    "    print('low = '+str(low)+' high = '+str(high)+' ans = '+ str(ans))\n",
    "    numGuesses += 1\n",
    "    if ans**2 < x:\n",
    "        low = ans\n",
    "    else:\n",
    "        high = ans\n",
    "    ans = (high + low)/2.0\n",
    "    \n",
    "print('numGuesses = '+ str(numGuesses)) \n",
    "print(str(ans) + ' is close to square root of '+ str(x))"
   ]
  },
  {
   "cell_type": "code",
   "execution_count": null,
   "id": "d403f877",
   "metadata": {},
   "outputs": [],
   "source": [
    "\"\"\"\n",
    "BISECTION SEARCH - CUBE ROOT\n",
    "# THIS SCRIPT ALSO ADDRESSES THE CASES WHERE X IN (-1,1) AND X < 0\n",
    "\"\"\"\n",
    "x = -8\n",
    "epsilon = 0.01\n",
    "numGuesses = 0\n",
    "low = 1.0\n",
    "high = abs(x)\n",
    "\n",
    "if abs(x) <= 1:\n",
    "    low = 0\n",
    "    high = 1\n",
    "\n",
    "ans = (high + low)/2.0 # BISECTION METHOD\n",
    "\n",
    "while abs(ans**3-abs(x)) >= epsilon:\n",
    "    print('low = '+str(low)+' high = '+str(high)+' ans = '+ str(ans))\n",
    "    numGuesses += 1\n",
    "    if ans**3 < abs(x):\n",
    "        low = ans\n",
    "    else:\n",
    "        high = ans\n",
    "    ans = (high + low)/2.0\n",
    "    \n",
    "if x < 0:\n",
    "    ans = -ans\n",
    "\n",
    "print('numGuesses = '+ str(numGuesses)) \n",
    "print(str(ans) + ' is close to cubic root of '+ str(x))"
   ]
  },
  {
   "cell_type": "markdown",
   "id": "8acb00ae",
   "metadata": {},
   "source": [
    "## Floats and Fractions <a id=\"float\"></a>\n",
    "\n",
    "1. Comupter represent numbers in binary format \n",
    "2. Decimal  number `302 = 3*100 + 0*10 + 2*1`\n",
    "3. Convert an interger to binary form\n",
    "4. For floats, IF WE MULTIPLE BY A POWER OF 2 (e.g 2^3) WHICH IS BIG ENOUGH TO CONVERT INTO  A WHOLE NUMBER, CAN THEN CONVERT TO BINARY, AND THEN DIVIDE BY THE SAME POWER OF 2\n",
    "    1. e.g. 3/8 = 0.375 = 3*10^-1 + 7*10^-2 + 5*10^-3; 0.375*(2**3) = 3 (DECIMAL), THEN CONVERT TO BINARY (NOW 11)\n",
    "    2. THEN DIVIDE BY 2**3(SHIFT RIGHT) TO GET 0.011 (BINARY)\n",
    "5. THERE ARE SOME PORBLEMS WITH COMPRAING TWO FLOAT POINTS BECAUSE COMPUTER TRIES TO SEE IF THE BINARIES ARE SAME.\n",
    "    1.  WE ALWAYS USE abs(x-y)< some small number, rather than x == y\n",
    "\n",
    "\n"
   ]
  },
  {
   "cell_type": "code",
   "execution_count": null,
   "id": "2c1f9afe",
   "metadata": {},
   "outputs": [],
   "source": [
    "#THE FOLLOWING PROGRAM CONVERTS INTERGERS TO BINARY FORMS\n",
    "num = -10\n",
    "if num < 0:\n",
    "    isNeg = True\n",
    "    num = abs(num)\n",
    "else:\n",
    "    isNeg = False\n",
    "result = ''\n",
    "if num == 0:\n",
    "    result = '0'\n",
    "while num > 0:\n",
    "    result = str(num%2) + result \n",
    "    num = num//2\n",
    "if isNeg:\n",
    "    result = '-'+ result\n",
    "print(result)"
   ]
  },
  {
   "cell_type": "code",
   "execution_count": null,
   "id": "706be163",
   "metadata": {},
   "outputs": [],
   "source": [
    "x = float(input('Enter a decimal number between 0 and 1:'))\n",
    "p = 0\n",
    "while ((2**p)*x)%1 != 0: # CONVERT TO A WHOLE NUMBER\n",
    "    print('Remainder = '+str((2**p)*x-int((2**p)*x)))\n",
    "    p += 1\n",
    "    \n",
    "num = int(x*(2**p))\n",
    "\n",
    "result = ''\n",
    "if num == 0:\n",
    "    result = '0'\n",
    "while num > 0: # CONVERT TO BINARY\n",
    "    result = str(num%2) + result\n",
    "    num = num//2\n",
    "    \n",
    "for i in range(p-len(result)):\n",
    "    result = '0' + result\n",
    "\n",
    "result = result[0:-p]+'.'+result[-p:]\n",
    "print('The binary representation of the decimal '+str(x)+' is'+str(result))\n",
    "    "
   ]
  },
  {
   "cell_type": "markdown",
   "id": "98ad0e24",
   "metadata": {},
   "source": [
    "## Newton-Raphson <a id=\"rampson\"></a>\n",
    "GENERAL APPROXIMATION ALGORITHM TO FIND ROOTS OF A POLYNOMIAL IN ONE VARIABLE\n",
    "P(X)=a_n x^n + a_n-1 x^n-1 + ... + a_1 x + a_0 = 0"
   ]
  },
  {
   "cell_type": "code",
   "execution_count": null,
   "id": "def88517",
   "metadata": {},
   "outputs": [],
   "source": [
    "# WE USE THIS METHOD TO SOLVE p(x) = x^2 -24 = 0, WHREE x IS THE SQUARE ROOT OF 24\n",
    "epsilon  = 0.01 \n",
    "y = 24.0 \n",
    "guess = y/2.0\n",
    "numGuesses = 0\n",
    "  \n",
    "while abs(guess*guess - y) >= epsilon:\n",
    "    numGuesses += 1\n",
    "    guess = guess - (((guess**2)-y)/(2*guess)) # Intuitive explanation from wiki\n",
    "print('numGuesses = '+str(numGuesses))\n",
    "print('Square root of '+str(y)+' is about '+ str(guess))\n"
   ]
  },
  {
   "cell_type": "markdown",
   "id": "ee19b610",
   "metadata": {},
   "source": [
    "## Functions <a id=\"func\"></a>\n",
    "1. Called/invokded/; `parameter/docstrings/body`; key word `def`; variable scope/global scope/function scope\n",
    "2. Returns None if no return given\n",
    "3. `printName(lastName = 'Huang',firstName = 'Zipeng', reverse = False)` (Most robust way with default value)"
   ]
  },
  {
   "cell_type": "code",
   "execution_count": null,
   "id": "c98f7008",
   "metadata": {},
   "outputs": [],
   "source": [
    "\"\"\"\n",
    "FUNCTIONS\n",
    "ARE NOT RUN IN A PROGRAM UNTIL THEY ARE CALLED/INVIKED\n",
    "THEY HAVE: NAME, PARAMETERS (0, OR MORE), DOCSTRING(EXPLAIN WHAT A FUNCTION DOES) , BODY\n",
    "\"\"\"\n",
    "def is_even(i): # def IS A KEYWORD, IS_EVEN (NAME), i is PARAMETER/ARGUMENT\n",
    "    \"\"\"\n",
    "    INPUT: i, a positive int\n",
    "    Returns True if i is even, otherwise False\n",
    "    \"\"\"\n",
    "    print(\"hi\")\n",
    "    return i%2 == 0 # None, if no return given, only one return executed inside a function\n",
    "                    # code insider function but after return statement noe excuted\n",
    "\n",
    "x = is_even(3) # x is False\n",
    "\n",
    "def func_a(): # no parameter\n",
    "    print('inside func_a')\n",
    "\n",
    "def func_b(y):\n",
    "    print('inside func_b')\n",
    "    return y\n",
    "\n",
    "def func_c(z):\n",
    "    print('inside func_c')\n",
    "    return z()\n",
    "\n",
    "print(func_a())\n",
    "print(5+func_b(2))\n",
    "print(func_c(func_a)) # call func_c, takes one parameter, another function (a func invokes another func)\n",
    "\n",
    "# INSIDE A FUCNTION, CAN ACCESS A VARIABLE DEFINED OUTSIDE\n",
    "# INSIDE A FUCNTION, CANNOT MODIFY A VARIABLE DEFINED OUTSIDE\n",
    "def g(y):\n",
    "    print(x)\n",
    "    print(x+1) # x = x+1 is not valid\n",
    "x = 5\n",
    "g(x)\n",
    "print(x)"
   ]
  },
  {
   "cell_type": "code",
   "execution_count": null,
   "id": "9d4c17ae",
   "metadata": {},
   "outputs": [],
   "source": [
    "\"\"\"\n",
    "KWYWORD ARGUMENTS AND DEFAULT VALUES\n",
    "\"\"\"\n",
    "def printName(firstName,lastName,reverse):\n",
    "    if reverse:\n",
    "        print(lastName + ','+firstName)\n",
    "    else:\n",
    "        print(firstName,lastName)\n",
    "        \n",
    "# EACH OF RHESE ONVOCATIONS IS EQUIVALENT\n",
    "printName('Zipeng','Huang',False)\n",
    "printName('Zipeng','Huang',reverse = False)\n",
    "printName('Zipeng',lastName = 'Huang',reverse = False)\n",
    "# THE LAST INVOCATION IS RECOMMENDED SINCE IT IS ROBUST \n",
    "printName(lastName = 'Huang',firstName = 'Zipeng', reverse = False)\n",
    "\n",
    "\"\"\"\n",
    "WE CAN ALSO SPECIFY THAT SOME ARGUMENTS HAVE DEFAULT VALUES, SO IF NO VALUE\n",
    "SUPPLIED, JUST USE THAT VALUE （Default value）\n",
    "\"\"\"\n",
    "def printName(firstName,lastName,reverse = False):\n",
    "    if reverse:\n",
    "        print(lastName + ','+firstName)\n",
    "    else:\n",
    "        print(firstName,lastName)\n",
    "\n",
    "printName('Zipeng','Huang')\n",
    "printName('Zipeng','Huang',True)\n"
   ]
  },
  {
   "cell_type": "markdown",
   "id": "ddf5fe8c",
   "metadata": {},
   "source": [
    "## Recursion <a id=\"recursion\"></a>\n",
    "1. DIVIDE AND CONQUER, `A FUNCTION CALLS ITSELF` (Mathematical Induction Reasoning)\n",
    "    1. WE SOLVE A HARD PROBLEM BY BREAKING IT INTO A SET OF SUBPROBLEMS SUCH THAT:\n",
    "    2. SUB-PROBLEMS ARE EASIER TO SOLVE THAN THE ORIGINAL\n",
    "    3. SOLUTIONS OF THE SUB-PROBELMS CAN BE COMBINED TO SOLVE THE ORIGINAL\n",
    "2. RECURSIVE STEP: THINK HOW TO REDUCE PROBLEM TO A SIMPLER/SMALLER VERSION OF SAME PROBLEM.\n",
    "3. BASE CASE: KEEP REDUCING RPOBLEM UNTIL REACH A SIMPLE CASE THAT CAN BE SOLVED DIRECTLY.\n",
    "4. ITERATION vs. RECURSION (DOES THE SAME THING) \n",
    "    1. RECURSION MAY BE SIMPLER, MORE INTUITIVE \n",
    "    2. RECURSION MAY BE EFFICIENT FROM PROGRAMMER'S POINT OF VIEW\n",
    "    3. RECURSION MAY NOT BE EFFICIENT FROM COMPUTER POINT OF VIEW"
   ]
  },
  {
   "cell_type": "code",
   "execution_count": null,
   "id": "781b1087",
   "metadata": {},
   "outputs": [],
   "source": [
    "# MULTIPLICATION-RECURSIVE SOLUTION\n",
    "# MATHEMATICAL INDUCTION REASONING OF THE CODE\n",
    "def mult(a,b):\n",
    "    if b == 1: # BASE CASE\n",
    "        return a\n",
    "    else: # RECURSIVE STEP\n",
    "        return a + mult(a,b-1)\n",
    "\n",
    "# FACTORIAL \n",
    "def fact(n):\n",
    "    if n==1:\n",
    "        return 1\n",
    "    else:\n",
    "        return n*fact(n-1)"
   ]
  },
  {
   "cell_type": "code",
   "execution_count": null,
   "id": "d0d0575d",
   "metadata": {},
   "outputs": [],
   "source": [
    "# TOWERS OF HANOI (THINK RECURSIVELY! )\n",
    "# SOLVE A SMALLER PROBELM/ SOLVE A BASIC PROBLEM\n",
    "# fr: from stack (INITAL TOWER); to: to stack (FINAL TOWER); spare: (SPARE TOWER);  \n",
    "def printMove(fr,to):\n",
    "    print('move from'+str(fr)+'to'+str(to))\n",
    "\n",
    "def Towers(n,fr,to,spare):\n",
    "    if n==1: \n",
    "        printMove(fr,to)\n",
    "    else:\n",
    "        # WE CAN HAVE MULTIPLE RECURSIVE CALLS INSIDE A FUNCTION\n",
    "        # THINK IT RECURSIVELY\n",
    "        Towers(n-1,fr,spare,to) # move the stack size of n-1 to a spare disc\n",
    "        Towers(1,fr,to,spare) # move the bottom to the desired disc\n",
    "        Towers(n-1,spare,to,fr) # move the n-1 back to the desired disc \n",
    "\n",
    "print(Towers(3,'P1','P2','P3'))"
   ]
  },
  {
   "cell_type": "code",
   "execution_count": null,
   "id": "7bca61ab",
   "metadata": {},
   "outputs": [],
   "source": [
    "# RECURSION WITH MULTIPLE BASE CASES\n",
    "# FIBONACCI NUMBERS\n",
    "def fib(x):\n",
    "    \"\"\"assumes x an int >=0, returns Fibonacci of x \"\"\"\n",
    "    if x == 0 or x ==1: # base cases\n",
    "        return 1\n",
    "    else: \n",
    "        return fib(x-1)+ fib(x-2) # we have two recurisve functions calls in a return"
   ]
  },
  {
   "cell_type": "code",
   "execution_count": null,
   "id": "d2ae29e9",
   "metadata": {},
   "outputs": [],
   "source": [
    "# RECURSION ON NON-NUMERICS (STRINGS)\n",
    "def isPalindrome(s):\n",
    "    def toChars(s): # convert string to all lower cases\n",
    "        s = s.lower() # convert to lower case\n",
    "        ans = ''\n",
    "        for c in s: # remove all the punctuations/space\n",
    "            if c in 'abcdefghijklmnopqrstuvwxyz':\n",
    "                ans = ans + c\n",
    "        return ans\n",
    "        \n",
    "    def isPal(s):\n",
    "        if len(s)<= 1: # recursive base case\n",
    "            return True\n",
    "        else: \n",
    "            return s[0] == s[-1] and isPal(s[1:-1]) # recursive step happens here\n",
    "                                                    # we compare the fisrt and last letter then\n",
    "                                                    # we convert the problem to a smaller probelm\n",
    "    \n",
    "    return isPal(toChars(s))"
   ]
  },
  {
   "cell_type": "markdown",
   "id": "82faa534",
   "metadata": {},
   "source": [
    "## Modules <a id=\"module\"></a>\n",
    "A module is a `.py` file containing python definitions and statements\n",
    "\n",
    "1. `import circle` (import a module), we can then use `circle.pi` to access a attribute/method inside a module\n",
    "2. `from circle import *`\n",
    "    1. from the module `circle` import everything\n",
    "    2. we can then directly use `pi` variable defined in cirle without suing `circle.pi`\n",
    "    3. Need to make sure no name collision when use importing method\n",
    "3. `from circle import pi` (equivalent to `import module_name.member name`)\n",
    "4. `import numpy as np`  (import **module** as **another name**)"
   ]
  },
  {
   "cell_type": "code",
   "execution_count": null,
   "id": "349348dc",
   "metadata": {},
   "outputs": [],
   "source": [
    "# the file circle.py contains \n",
    "pi = 3.14159\n",
    "def area(radius):\n",
    "    return pi*(radius**2)\n",
    "def circumference(radius):\n",
    "    return 2*pi*radius\n",
    "    \n",
    "# then we can import and use this module\n",
    "import circle\n",
    "pi = 3   # can still define the pi in the shell\n",
    "print(pi) # 3\n",
    "print(circle.pi) # 3.14159, look for pi defined in the module\n",
    "print(circle.circumference(3)) # 18.84953999  \n",
    "    \n",
    "# if we don't want to refer to functions and vars by their module, and the names don't\n",
    "# collide with other bindings, then we can use:\n",
    "from circle import* # means from the module, import everything (denoted by the star sign)\n",
    "print(pi)\n",
    "print(area(3)) # we can refer them by calling their own name"
   ]
  },
  {
   "cell_type": "markdown",
   "id": "d2cb178b",
   "metadata": {},
   "source": [
    "## Files <a id=\"files\"></a>\n",
    "\n",
    "Python provides an operating-system independent means to access files, using a file handle. \n",
    "\n",
    "`nameHandle = open('kids','w')` (open kids for write, r for read)\n",
    "\n",
    "`name = input('Enter name: ')`\n",
    "\n",
    "`nameHandle.write(name+ '\\n')`\n",
    "\n",
    "`nameHandle.close()`, (() means that we are referring to the close() function) \n"
   ]
  },
  {
   "cell_type": "code",
   "execution_count": null,
   "id": "441fb0fe",
   "metadata": {},
   "outputs": [],
   "source": [
    "\"\"\"\n",
    "WRITE/READ FILES\n",
    "\"\"\"\n",
    "nameHandle = open('kids','w') # 'kid': name of file; w: write command\n",
    "for i in range(2):\n",
    "    name = input('Enter name: ')\n",
    "    nameHandle.write(name+ '\\n')\n",
    "nameHandle.close()    \n",
    "    \n",
    "nameHandle = open('kids','r') # read\n",
    "for line in nameHandle:\n",
    "    print(line)\n",
    "nameHandle.close()   "
   ]
  },
  {
   "cell_type": "markdown",
   "id": "a701aec8",
   "metadata": {},
   "source": [
    "# Tuple/List/Mutability/Cloning/Dict\n",
    "\n",
    "This Chapter introduces the concept of `tuple/list/dict` and `cloning/mutability`\n",
    "\n",
    "- [Tuples](#tuples)\n",
    "- [Lists](#lists)\n",
    "- [Mutation, Aliasing, Cloning](#mutation-aliasing-cloning)\n",
    "- [Functions as Objects](#functions-as-objects)\n",
    "- [Strings, Tuples, Ranges, Lists](#strings-tuples-ranges-lists)\n",
    "- [Dictionaries](#Dictionaries)\n",
    "- [Global Variables](#global-variable)"
   ]
  },
  {
   "cell_type": "markdown",
   "id": "f929208c",
   "metadata": {},
   "source": [
    "## Tuples \n",
    "1. `Immutable` same as strings (cannot change element values)\n",
    "2. an ordered sequence of elements, can mix element types\n",
    "3. represented with parentheses `()`\n",
    "4. use index `t[0]` to access element, slice tuple as `t[1:2]`, `t[1]=2` gives error (cannot modify object)\n",
    "6. `(x,y) = (y,x)` ease to swap variable values\n",
    "7. used to return more than more value in a function\n",
    "8. nested tupes. we can iterate over the **tuples** like **range/string**"
   ]
  },
  {
   "cell_type": "code",
   "execution_count": null,
   "id": "cba38389",
   "metadata": {},
   "outputs": [],
   "source": [
    "te = () # empty tuple\n",
    "t = (2,\"one\",3) # () indicates a tuple type\n",
    "print(t)\n",
    "ts = (5,) #When a tuple has only one element, you must specify with a comma\n",
    "print(ts)\n",
    "print(len(t)) # returns 3\n",
    "print(t[0]) # evaluates to 2, using [] to index, we cannot change element inside tuple, t[1] = 4 not work\n",
    "print((2,\"one\",3)+(5,6)) # concatenate two tuples, evaluates (2,\"one\",3,5,6)\n",
    "print(t[1:2]) # slice tuple, (\"one\",) also give a comma which tells us it's a tuple\n",
    "x = (1, 2, (3, 'John', 4), 'Hi') # a tuple inside a tuple (nested tuples)\n",
    "print(x)\n",
    "print(x[2][2]) # returns int 4, double index\n",
    "print(x[-1][-1]) # returns string 'i', tricky one \n",
    "\n",
    "# CONVENIENTLY USED TO SWAP VARIABLE VALUES (This is good)\n",
    "x,y = 1,2\n",
    "(x,y) = (y,x) # Swap varibles\n",
    "print('x is '+ str(x)+', y is ' + str(y))"
   ]
  },
  {
   "cell_type": "code",
   "execution_count": null,
   "id": "c21ada84",
   "metadata": {},
   "outputs": [],
   "source": [
    "# USED TO RETURN MORE THAN ONE VALUE FROM A FUNCTION\n",
    "def quotient_and_remainder(x,y):\n",
    "    q = x//y\n",
    "    r = x%y\n",
    "    return(q,r)\n",
    "\n",
    "(quot,rem) = quotient_and_remainder(4,5)\n",
    "print('quotient is '+ str(quot) + ', remainder is '+str(rem))"
   ]
  },
  {
   "cell_type": "code",
   "execution_count": null,
   "id": "b31da6c5",
   "metadata": {},
   "outputs": [],
   "source": [
    "# CAN ITERATE OVER TUPLES\n",
    "def get_data(aTuple): # aTuple is a tuple of tuples\n",
    "    nums = () # empty tuples\n",
    "    words = ()\n",
    "    for t in aTuple: # interate over a tuple\n",
    "        nums = nums + (t[0],) # tuple concatenation\n",
    "        if t[1] not in words:\n",
    "            words = words + (t[1],)\n",
    "    min_nums = min(nums) # find the min value inside the integer tuples\n",
    "    max_nums = max(nums)\n",
    "    unique_words = len(words) # return number of unique tuples\n",
    "    return (min_nums,max_nums,unique_words)\n",
    "\n",
    "(small,large,words) = get_data(((1,'mine'),(3,'yours'),(5,'ours'),(7,'mine')))\n",
    "print('min is '+str(small)+', max is '+str(large)+', uniqe words is '+str(words))"
   ]
  },
  {
   "cell_type": "markdown",
   "id": "1620a84e",
   "metadata": {},
   "source": [
    "## Lists \n",
    "1. ordered sequence of information, accessible by index, denoted by square brackets `[]`\n",
    "2. list is `mutable`, elements can be changed， e.g. `L[1]=5`\n",
    "3. we can iterate over lists\n",
    "4. a list contains elements\n",
    "    1. usually homogeneous (i.e., all integers)\n",
    "    2. can contain mixed types (not common)\n"
   ]
  },
  {
   "cell_type": "code",
   "execution_count": null,
   "id": "6395f35c",
   "metadata": {},
   "outputs": [],
   "source": [
    "# Indices and ordering \n",
    "a_list = [] # empty list, index starts from 0\n",
    "b_list = [2,'a',4,True] # mixed element type \n",
    "L = [2,1,3] # uniform element type\n",
    "len(L) # 3\n",
    "L[0] # 2\n",
    "print(L[2]+1) # 4\n",
    "print(L[2]) # 3\n",
    "# L[3] # error\n",
    "\n",
    "# CHANGING ELEMENTS (MUTABLE)\n",
    "L[1] = 5 # L is now [2,5,3] \n",
    "print(L)\n",
    "\n",
    "# ITERATING OVER LIST, LIKE STRINGS, CAN ITERATE OVER LIST ELEMENTS DIRECTLY\n",
    "# NOTE: INDEX 0 TO len(L)-1, range(n) GOES FROM 0 to n-1\n",
    "total = 0\n",
    "for i in L:\n",
    "    total += i\n",
    "print(total)"
   ]
  },
  {
   "cell_type": "markdown",
   "id": "8a973b5e",
   "metadata": {},
   "source": [
    "### List Operations\n"
   ]
  },
  {
   "cell_type": "code",
   "execution_count": null,
   "id": "256588e0",
   "metadata": {},
   "outputs": [],
   "source": [
    "# OPERATION ON LISTS (ADD)\n",
    "L1 = [2,1,3]\n",
    "L1.append(5) # L1 is now [2,1,3,5], only works for list\n",
    "# lists are python objects, everything in python is an object\n",
    "# objects have data/methods/functions/, we can access this info by object_name.do_something()\n",
    "L2 = [4,5,6]\n",
    "L3 = L1 + L2 # [2,1,3,5,4,5,6]  concatenation +\n",
    "print(L3)\n",
    "L1.extend([0,6]) # mutated L1 to [2,1,3,5,0,6]\n",
    "print(L1) # [2,1,3,5,0,6]\n",
    "print(L3) # [2,1,3,5,4,5,6] \n",
    "\n",
    "# OPERATION ON LISTS (REMOVE)\n",
    "del(L1[3]) # delete element at a specific index\n",
    "print(L1) # [2,1,3,0,6]\n",
    "L = [2,1,3,6,3,7,0]\n",
    "L.remove(2) # remove a specific element,[1,3,6,3,7,0]\n",
    "L.remove(3) # L = [1,6,3,7,0], if an element appears multiple times, only remove the first instance\n",
    "del(L[1]) # l = [1,3,7,0]\n",
    "L.pop() # returns 0 and  mutates L = [1,3,7] (remove element at end of list)\n",
    "print(L)\n",
    "\n",
    "# CONVERT LISTS to STRINGS AND BACK\n",
    "s = 'I <3 cs' # string\n",
    "print(list(s)) # returns ['I','', '<','3','','c','s']\n",
    "print(s.split('<')) # retruns['I ', '3 cs'], splits on spaces if called without a parameter\n",
    "L = ['a','b','c'] # list\n",
    "print(''.join(L)) # returns 'abc' (use join to join a list to string)\n",
    "print('_'.join(L)) # returns 'a_b_c' \n",
    "\n",
    "# OTHER LIST OPERATIONS\n",
    "# MORE \n",
    "L = [9,6,0,3]\n",
    "print(sorted(L)) # returns sorted list, does not mutate\n",
    "print(L)\n",
    "L.sort() # mutates, L = [0,3,6,9]\n",
    "print(L)\n",
    "L.reverse() # mutates L = [9,6,3,0]\n",
    "print(L)\n",
    "\n",
    "# More list operations can be found from the link below\n",
    "import webbrowser\n",
    "webbrowser.open('https://docs.python.org/3/tutorial/datastructures.html') "
   ]
  },
  {
   "cell_type": "markdown",
   "id": "84156b67",
   "metadata": {},
   "source": [
    "### Loops/Fucntions/range/list\n",
    "1. range is a special procedure\n",
    "2. range returns sth that behaves like a tuple! doesn't generate elements at once\n",
    "3. rather it generates the first element, and provides and iteration method by which subsequent elements can be generated\n"
   ]
  },
  {
   "cell_type": "code",
   "execution_count": null,
   "id": "64fdcbef",
   "metadata": {},
   "outputs": [],
   "source": [
    "range(5) # equivalent to tuple (0,1,2,3,4)\n",
    "range(2,6) # equivalent to (2,3,4,5)\n",
    "range(5,2,-1) # equivalent to (5,4,3)\n",
    "for var in range(5):\n",
    "    print(var)\n",
    "for var in (0,1,2,3,4):\n",
    "    print(var)"
   ]
  },
  {
   "cell_type": "markdown",
   "id": "214b4038",
   "metadata": {},
   "source": [
    "## Mutation, aliasing, cloning\n",
    "1. Important and tricky, [Python Tutor](https://pythontutor.com/) is a good tool to sort this out. \n",
    "2. listes are mutable and they behave differently than immutable types\n",
    "3. cloning a list, `chill = cool[:]`\n",
    "4. Nested lists, side effects still possible after mutation (avoid mutation in iteration)"
   ]
  },
  {
   "cell_type": "code",
   "execution_count": null,
   "id": "27ec42bf",
   "metadata": {},
   "outputs": [],
   "source": [
    "# ALIASING\n",
    "warm = ['red','yellow','orange']\n",
    "hot = warm # warm points to exact address, different name, but points the same thing\n",
    "hot.append('pink')\n",
    "print(hot) # returns ['red','yellow','orange','pink']\n",
    "print(warm) # also returns ['red','yellow','orange','pink']\n",
    "\n",
    "# if two lists print the same thing, does not mean they are the same structure\n",
    "cool = ['blue','green','grey']\n",
    "chill = ['blue','green','grey']\n",
    "\n",
    "print(cool == chill) # return True, == returns True if the objects refereed to by the varibales are equal\n",
    "print(cool is chill) # return False, is returns True if two variables point to the same object\n",
    "\n",
    "print(cool) # ['blue','green','grey']\n",
    "print(chill) # ['blue','green','grey']\n",
    "chill[2] = 'blue'\n",
    "print(cool) # ['blue','green','grey']\n",
    "print(chill) # ['blue','green','blue']\n"
   ]
  },
  {
   "cell_type": "code",
   "execution_count": null,
   "id": "d5521895",
   "metadata": {},
   "outputs": [],
   "source": [
    "#CLONG A LIST (Creat a new list and copy evryt element)\n",
    "cool = ['blue','green','grey']\n",
    "chill = cool[:] # clone cool to chill (This is recomended!)\n",
    "chill.append('black')\n",
    "print(chill) # ['blue','green','grey','black']\n",
    "print(cool) # ['blue','green','grey']"
   ]
  },
  {
   "cell_type": "code",
   "execution_count": null,
   "id": "df09952d",
   "metadata": {},
   "outputs": [],
   "source": [
    "# SORTING LISTS\n",
    "# sort(), mutates the list, returns nothing\n",
    "# sorted(), does not mutate list, must assign result to a variable\n",
    "warm = ['red','yellow','orange']\n",
    "sortedwarm = warm.sort() # note wortedwarm is none type, since sort does not return anything\n",
    "print(warm)\n",
    "print(sortedwarm)\n",
    "cool = ['grey', 'green', 'blue']\n",
    "sortedcool = sorted(cool) # sorted returns the sorted version, thus should be assigned to a variable\n",
    "print(cool)\n",
    "print(sortedcool)"
   ]
  },
  {
   "cell_type": "code",
   "execution_count": null,
   "id": "6938c95e",
   "metadata": {},
   "outputs": [],
   "source": [
    "# NESTED LIST, side effects still possible after mutation\n",
    "warm = ['yellow','orange']\n",
    "hot = ['red']\n",
    "brightcolors = [warm]\n",
    "\n",
    "brightcolors.append(hot) # list of list\n",
    "print(brightcolors) # [['yellow','orange'],['red']]\n",
    "\n",
    "hot.append('pink')\n",
    "print(hot) # ['red','pink']\n",
    "print(brightcolors) # [['yellow','orange'],['red','pink']], also mutates\n",
    "\n",
    "print(hot+warm)\n",
    "print(hot)\n"
   ]
  },
  {
   "cell_type": "code",
   "execution_count": null,
   "id": "5f7e0275",
   "metadata": {},
   "outputs": [],
   "source": [
    "# MUTATION AND ITERATION\n",
    "# avoid mutating a list as you are iterating over it\n",
    "# remove duplicates from two lists\n",
    "def remove_dups(L1,L2):\n",
    "    for e in L1:\n",
    "        if e in L2:\n",
    "            L1.remove(e)\n",
    "            \n",
    "L1 = [1,2,3,4]\n",
    "L2 = [1,2,5,6]\n",
    "remove_dups(L1,L2) # This returns [2,3,4], not [3,4], you cannot iterate the list while mutating it\n",
    "                   # Python has an internal counter for the list, say you at 1, you removed 1, \n",
    "                   # it actually goes directly to the second element in L1 (3), and skips 2.\n",
    "print(L1)\n",
    "\n",
    "def remove_dups_new(L1,L2): # This is the correct way to implement \n",
    "    L1_copy = L1[:]  # we use clones\n",
    "    for e in L1_copy:\n",
    "        if e in L2:\n",
    "            L1.remove(e)\n",
    "            \n",
    "L1 = [1,2,3,4]\n",
    "L2 = [1,2,5,6]\n",
    "remove_dups_new(L1,L2)\n",
    "print(L1)\n"
   ]
  },
  {
   "cell_type": "markdown",
   "id": "7aa17a02",
   "metadata": {},
   "source": [
    "## Functions as Objects\n",
    "1. class object, can pass function as arguments of another function\n",
    "2. can process a function operation on each element in a list\n",
    "3. list of functions, pass a lost as an argument to a function\n",
    "4. `map(abs,[1,-2,3,-4])`, a general purpose (in the sense of **iterable**) of **high-order-programming (HOP)**. \n",
    "5. `map` is the key word. HOP is **useful** in analyzing high-dimensional data."
   ]
  },
  {
   "cell_type": "code",
   "execution_count": null,
   "id": "6a2c73bc",
   "metadata": {},
   "outputs": [],
   "source": [
    "# functions: have types\n",
    "# particularly useful to use function as arguments when coupled with lists (higher order programming)\n",
    "def applyToEach(L,f):\n",
    "    \"\"\"assumes L is a list, f a function, \n",
    "        mutates L by replacing each element, e, of L by f(e)\"\"\"\n",
    "    for i in range(len(L)):\n",
    "        L[i]=f(L[i])\n",
    "\n",
    "L = [1,-2,3.4]\n",
    "applyToEach(L,abs) # L = [1,2,3.4]\n",
    "print(L)\n",
    "applyToEach(L,int) # L = [1,2,3]\n",
    "print(L)"
   ]
  },
  {
   "cell_type": "code",
   "execution_count": null,
   "id": "737a7eea",
   "metadata": {},
   "outputs": [],
   "source": [
    "# LIST OF FUNCTIONS\n",
    "def applyFuns(L,x):\n",
    "     \"\"\"L is a list of functions, x is argument\"\"\"\n",
    "     for f in L:\n",
    "         print(f(x))\n",
    "applyFuns([abs,int],4) # 4 4"
   ]
  },
  {
   "cell_type": "code",
   "execution_count": null,
   "id": "3104d61d",
   "metadata": {},
   "outputs": [],
   "source": [
    "# GENERALIZATION OF HOPS, map (produces an iterable, so need to walk down it)\n",
    "for elt in map(abs,[1,-2,3,-4]): # simple form-a unary function and a collection of suitable arguments\n",
    "    print(elt) # map gives you a struture acts like a list, but in a way that you have to iterate to \n",
    "               # get all the vlaues, 1,2,3,4\n",
    "               \n",
    "L1 = [1,28,36]\n",
    "L2 = [2,57,9]\n",
    "for elt in map(min,L1,L2): # general form- an n-ary function and n collections of arguments\n",
    "    print(elt) # 1,28, 9"
   ]
  },
  {
   "cell_type": "markdown",
   "id": "7ef5e7d0",
   "metadata": {},
   "source": [
    "## Strings, Tuples, Ranges, Lists\n",
    "\n",
    "1. Only list is `mutable`\n",
    "2. Common operations: `acces element/ lengh/ concatenation (not range)/ repeats(not range)/ slice/ in/ not in/ interate`\n",
    "3. FOUR DIFF WAYS TO COLLECT THINGS TOGETHER INTO COMPOUND DATA STRUTURES `strings/tuples/ranges/lists`"
   ]
  },
  {
   "cell_type": "code",
   "execution_count": null,
   "id": "b45ae81b",
   "metadata": {},
   "outputs": [],
   "source": [
    "# COMMON OPERATIONS\n",
    "seq, seq1, seq2 = 'example', 'example1', 'example2'\n",
    "i = 1\n",
    "print(seq[i]) #  i^th element of sequence\n",
    "print(len(seq)) # length of sequence\n",
    "print(seq1+seq2) # concatenation of sequences (not range)\n",
    "n=2\n",
    "print(n*seq) # sequence that repeats seq n times (not range)\n",
    "# seq[start:end] # slice of sequence\n",
    "print('e' in seq) # True if e contained in sequence\n",
    "print('e' not in seq) # True if e is not contained in sequence\n",
    "for e in seq: # iterates over elements of sequence\n",
    "    print(e)\n",
    "\n",
    "# PROPERTIES\n",
    "#Type   Type of elements  Example           Mutable\n",
    "#str    characters        '','a','abc'      No\n",
    "#tuple  any type          (),(3,),('abc',4) No\n",
    "#range  integers          range(10)         No\n",
    "#list   any type         [],[3],['abc',4]   Yes"
   ]
  },
  {
   "cell_type": "markdown",
   "id": "0fca91fa",
   "metadata": {},
   "source": [
    "## Dictionaries \n",
    "1. Nice to index item of interest directly (store students grades, one data structure, no separate list)\n",
    "2. Similar to cell array in MATLAB\n",
    "3. Store pairs of data: `{key: value}` , e.g. `Grades = {''Ana':'B','John':'A+'}`\n",
    "4. `Grades['John'] = 'A+'`, looks up the key and returns the value\n",
    "5. Dictionaries are `mutable` data structures\n",
    "6. `values` in dictionary: can be **any type**. `keys`: must be **unique**, **immutable type** (int, float, string, tuple, bool)\n"
   ]
  },
  {
   "cell_type": "code",
   "execution_count": null,
   "id": "9f7294f9",
   "metadata": {},
   "outputs": [],
   "source": [
    "# messy if have a lot of diff info to keep track of\n",
    "def get_grade(student,name_list,grade_list,course_list):\n",
    "    i = name_list.index(student)\n",
    "    grade = grade_list[i]\n",
    "    course = course_list [i]\n",
    "    return (course,grade)\n",
    "\n",
    "# A better way and cleaner way - A dictionary\n",
    "# nice to index (custom index) item of interest directly (not always int)\n",
    "# key, value\n",
    "my_dict = {} # cell array in Matlab\n",
    "grades = {'Ana':'B','John':'A+','Denise':'A','Katy':'A'}\n",
    "print(grades['John']) # returns 'A+'    "
   ]
  },
  {
   "cell_type": "markdown",
   "id": "b76f7e72",
   "metadata": {},
   "source": [
    "### Dictionary Operations\n"
   ]
  },
  {
   "cell_type": "code",
   "execution_count": null,
   "id": "db7ace2b",
   "metadata": {},
   "outputs": [],
   "source": [
    "# DICTIONARY OPERATIONS\n",
    "grades = {'Ana':'B','John':'A+','Denise':'A','Katy':'A'}\n",
    "grades['Sylvan'] = 'A' # add an entry, only works in dict\n",
    "print('John' in grades) # returns True, test to see if a key is in the dictionary\n",
    "print('Daniel' in grades) # returns False\n",
    "del(grades['Ana']) # can remove an entry\n",
    "\n",
    "print(grades.keys()) # grdaes.key is a method, need type () to call the method, ['John', 'Denise', 'Katy'] (returns an iterable list)\n",
    "print(grades.values()) # ['A+', 'A', 'A'] (returns an iterable list)\n",
    "grades2 = grades.copy() # copy the dictionary\n",
    "print(grades.get('Huang',0)) # The safe way to get value from key 'Huang', if 'Huang' is \n",
    "                     # not a key, then it returns 0\n",
    "\n",
    "# values in dictionary: can be any type\n",
    "# keys: must be unique, immutable type (int,float,string,tuple,bool, careful with float keys)\n",
    "# a list cannot be a key in dictionaies since lists are mutable in python\n",
    "d = {1:{1:0},(1,3):\"twelve\",'const':[3.14,2.7,8.44]}\n",
    "\n",
    "# list vs dict\n",
    "# lsit: ordered sequence of elements,look up by an integer index, indices have an order, index is an integer\n",
    "# dict: matches \"keys\" to \"values\", look up one item by another item, no order is guaranteed, key can be any immutable type."
   ]
  },
  {
   "cell_type": "markdown",
   "id": "5a9fc560",
   "metadata": {},
   "source": [
    "### Three Function to Analyze Song Lyrics"
   ]
  },
  {
   "cell_type": "code",
   "execution_count": null,
   "id": "0d544b96",
   "metadata": {},
   "outputs": [],
   "source": [
    "\n",
    "\"\"\"\n",
    "EXAMPLE: 3 FUNCTIONS TO ANALYZE SONG LYRICS\n",
    "\"\"\"\n",
    "# CREATE A FREQ DICTIONARY MAPPING str:int\n",
    "def lyrics_to_frequencies(lyrics):\n",
    "    myDict = {}\n",
    "    for word in lyrics: # iterate over the list\n",
    "        if word in myDict: # if the word is in the dictionary\n",
    "            myDict[word] += 1 # increase the value associated with it by 1\n",
    "        else:\n",
    "            myDict[word] = 1\n",
    "    return myDict # returns a dictionary\n",
    "\n",
    "# FIND WORD THAT OCCURS THE MOST AND HOW MANY TIMES\n",
    "# 1. use a lsit, in case there is more than one word\n",
    "# 2. return a tuple(list,int) for (words_list,highest_freq)\n",
    "def most_common_words(freqs): # freqs is a dictionary\n",
    "    values = freqs.values() # all ints， note it is a special type not a list\n",
    "    if values: # find the maxium if values is not empty\n",
    "        best = max(values)\n",
    "    else:\n",
    "         best = 0\n",
    "    words = []\n",
    "    for k in freqs: # can iterate over keys in dictionary\n",
    "        if freqs[k]==best: # is the value is the best\n",
    "            words.append(k) # append works for list only\n",
    "    return (words,best) # returns a tuple\n",
    "\n",
    "\n",
    "# FIND THE WORDS THAT OCCUR AT LEAST X TIMES\n",
    "# let user choose \"at least X times\", return a lsit of tuples, each tuple is a (list,int)\n",
    "# containing the list of words ordered by their frequency\n",
    "# IDEA: from song dictionary, find most frequent word, delete most common word, repeat. \n",
    "def words_often(freqs,minTimes):\n",
    "    result = []\n",
    "    done = False # an initial flag\n",
    "    while not done:\n",
    "        temp = most_common_words(freqs)\n",
    "        if temp[1]>= minTimes: # do this untile the most common words appear leass than minTimes\n",
    "            result.append(temp)\n",
    "            for w in temp[0]: # temp[0] is a list defined as words in most_common_words function\n",
    "                del(freqs[w]) # can directly mutate dictionary; makes it easier to iterate\n",
    "        else:\n",
    "            done = True\n",
    "    return result\n",
    "\n",
    "lyrics = ['I','love','you','I','love','you','I']\n",
    "freqs = lyrics_to_frequencies(lyrics)\n",
    "freqs_copy = freqs.copy() # get a copy of the original dicitonary so that we will not change the original one\n",
    "\n",
    "print(words_often(freqs_copy,1))"
   ]
  },
  {
   "cell_type": "markdown",
   "id": "fabda815",
   "metadata": {},
   "source": [
    "### Fibonacci with a Dictionary\n",
    "1. Efficient , can store the computed fab number in a dict \n",
    "2. Do a lookup first in case already calculated the value\n",
    "3. Modify dictionary as progress through function cal (good for fft algorithm)\n"
   ]
  },
  {
   "cell_type": "code",
   "execution_count": null,
   "id": "cf5e30db",
   "metadata": {},
   "outputs": [],
   "source": [
    "\"\"\"\n",
    "FIBONACCI AND DICTIONARIES (VERY EFFICIENT)\n",
    "GLOBAL VARIABLES/ TRACKING EFFICIENCY\n",
    "\"\"\"\n",
    "# ORIGINALLY, WE HAD THIS RESURSIVE FUNCTION\n",
    "# TWO BASE CASES, CALL ITSELF TWICE, INEFFICIENT\n",
    "def fib(n):\n",
    "    global numFibCalls # global variable, we can access outside of the function\n",
    "    numFibCalls += 1\n",
    "    if n == 1:\n",
    "        return 1\n",
    "    if n == 2:\n",
    "        return 2\n",
    "    else:\n",
    "        return fib(n-1)+fib(n-2)\n",
    "\n",
    "# INSTEAD OF RECALCULATING THE SAME VALUES MANY TIMES\n",
    "# WE COULD KEEP TRACK IF ALREADY CALCULATED VALUES (FIBONACCI WITH A DICTIONARY)\n",
    "# USING A DICTONARY TO HOLD ON THE VALUES I HAVE ALREADY CALCULATED\n",
    "def fib_efficient(n,d):\n",
    "    # d is a base dictionary\n",
    "    global numFibCalls # accessible from outside scope of function\n",
    "    numFibCalls += 1\n",
    "    if n in d:\n",
    "        return d[n]\n",
    "    else:\n",
    "        ans = fib_efficient(n-1,d) + fib_efficient(n-2,d)\n",
    "        d[n] = ans # strore the ans in a dictinary\n",
    "        return ans\n",
    "    \n",
    "numFibCalls = 0\n",
    "fibArg = 12\n",
    "\n",
    "print(fib(fibArg))\n",
    "print('function calls', numFibCalls)\n",
    "\n",
    "numFibCalls = 0\n",
    "d = {1:1,2:2} # base cases in a dictionary, memoization: create a memo for youself\n",
    "print(fib_efficient(fibArg,d))\n",
    "print('function calls', numFibCalls)\n",
    "print(d) # the base dicironary is updated \n"
   ]
  },
  {
   "cell_type": "markdown",
   "id": "d40f28c6",
   "metadata": {},
   "source": [
    "## Global Variable\n",
    "1. Accessible from outside scope of fucntion, can be dangerous to use\n",
    "2. But can be convenient when want to keep track of info inside a function \n",
    "3. The key word is `global`, e.g. `global numFibCalls` as in the fibonacci example above\n"
   ]
  },
  {
   "cell_type": "markdown",
   "id": "ba03538a",
   "metadata": {},
   "source": [
    "# Testing/Debugging/Exception/Assertion\n",
    "- [Exceptions](#exceptions)\n",
    "- [Assertions](#assertions)"
   ]
  },
  {
   "cell_type": "code",
   "execution_count": null,
   "id": "2e5cfdd7",
   "metadata": {},
   "outputs": [],
   "source": [
    "\"\"\"\n",
    "TESTING, DEBUGGING\n",
    "\"\"\"\n",
    "\n",
    "\"\"\"\n",
    "ERROR MESSAGES-EASY\n",
    "\"\"\"\n",
    "# IndexError, test = [1,2,3] then test[4]\n",
    "# TypeError, int(test), '3'/4 (mixing data types)\n",
    "# NameError, referencing a non-existent variable\n",
    "# SyntaxError, a = len([1,2,3] (forgetting to close parenthesis, quotation, etc)\n",
    "# IOError: IO system reports malfunction (e.g. file not found)\n",
    "# AttributeError: attribute reference fails\n",
    "\n",
    "\"\"\"\n",
    "LOGIC ERRORS-HARD\n",
    "\"\"\"\n",
    "# think\n",
    "# draw pictures\n",
    "# explain the code to someone else /rubber ducky"
   ]
  },
  {
   "cell_type": "markdown",
   "id": "f2cd8803",
   "metadata": {},
   "source": [
    "## Exceptions \n",
    "1. What happens when procedure execution hits an unexpected condition `(SyntaxError/NameError/AttributeError/TypeError/ValueError/IOError)`\n",
    "2. keywords: `try:, except:, else:, finally:, raise:`\n",
    "3. Handling specific exceptions: `except ValueError`\n",
    "    "
   ]
  },
  {
   "cell_type": "code",
   "execution_count": null,
   "id": "98506b92",
   "metadata": {},
   "outputs": [],
   "source": [
    "# get an exception... to what was expected\n",
    "# what to do with exceptions?\n",
    "#　DEALING WITH EXCEPTIONS\n",
    "\n",
    "# try to execute each of the instuctions in turn\n",
    "try: \n",
    "    a = int(input(\"Tell me one number:\"))\n",
    "    b = int(input(\"Tell me another number\"))\n",
    "    print(\"a/b = \", a/b)\n",
    "    print(\"a+b = \", a+b)\n",
    "# if a exception is raised, jump to here\n",
    "except ValueError:  # separate except clauses to deal with a particular type of exception\n",
    "    print(\"Could not convert to a number\")\n",
    "except ZeroDivisionError:\n",
    "    print(\"Can't divide by zero\")\n",
    "except: # for all other errors\n",
    "    print(\"Something went very wrong.\")\n",
    "\n",
    "# OTHER EXCEPTIONS\n",
    "# else: body of this is excuetd when execution of associated try body completes with no exceptions\n",
    "# finally: body of this is always executed after try, else and except clauses, even if they raised\n",
    "         # another error or executed a break, continue or return\n",
    "         # useful for clean-up code that should be run no matter what else happened \n",
    "         # e.g. close a file\n"
   ]
  },
  {
   "cell_type": "markdown",
   "id": "3935d54f",
   "metadata": {},
   "source": [
    "### Exception Usages"
   ]
  },
  {
   "cell_type": "code",
   "execution_count": null,
   "id": "1a232376",
   "metadata": {},
   "outputs": [],
   "source": [
    "\"\"\"\n",
    "EXAMPLE EXCEPTION USAGE\n",
    "\"\"\"\n",
    "# 1st example\n",
    "# Loop only exits when correct type of input provided\n",
    "while True:\n",
    "    try: \n",
    "        n = input(\"Please enter an integer: \")\n",
    "        n = int(n)\n",
    "        break\n",
    "    except ValueError: # handles ValueError\n",
    "        print(\"Input not an integer; try again\")\n",
    "print(\"Correct input of an integer!\")\n",
    "\n",
    "# 2nd example\n",
    "# Contorl input\n",
    "data = []\n",
    "file_name = input(\"Provide a name of a file of data \")\n",
    "\n",
    "try:\n",
    "    fh = open(file_name,'r')\n",
    "except IOError:\n",
    "    print('cannot open', file_name)\n",
    "else:\n",
    "    for new in fh: # reading a new line\n",
    "        if new != '\\n':\n",
    "            addIt = new[:-1].split(',') # remove trailing \\n\n",
    "            data.append(addIt)\n",
    "    fh.close() # close file even if fail\n",
    "\n",
    "gradesData = []\n",
    "if data: # as long as got some data\n",
    "    for student in data: # loop through the data\n",
    "        try: \n",
    "            name = student[0:-1]\n",
    "            grades = int(student[-1]) # gives a vlaueError if the last element is not number\n",
    "            gradesData.append([name,[grades]])\n",
    "        except ValueError:\n",
    "            gradesData.append([student[:],[]])"
   ]
  },
  {
   "cell_type": "markdown",
   "id": "d3a8c2bf",
   "metadata": {},
   "source": [
    "### Exception as Control Flow"
   ]
  },
  {
   "cell_type": "code",
   "execution_count": null,
   "id": "78e8c911",
   "metadata": {},
   "outputs": [],
   "source": [
    "            \n",
    "\"\"\"\n",
    "EXCEPTION AS CONTROL FLOW\n",
    "\"\"\"\n",
    "# WE CAN RAISE AN EXCEPTION WHEN UNABLE TO PRODUCE A RESULT CONSISTENT WITH FUNCTIONS'S SPECIFICATION\n",
    "def get_ratio(L1,L2):\n",
    "    \"\"\" Assumes: L1 and L2 are lists of equal length of numbers \n",
    "        Returns: a list containing L1[i]/L2[i]\"\"\"\n",
    "    ratios = []\n",
    "    for index in range(len(L1)):\n",
    "        try:\n",
    "            ratios.append(L1[index]/float(L2[index]))\n",
    "        except ZeroDivisionError:\n",
    "            ratios.append(float('NaN')) # NaN = not a number\n",
    "        except: # manage flow of program by raising own error\n",
    "            raise ValueError('get_ratios called with bad arg')\n",
    "    return ratios\n",
    "\n",
    "# ANOTHER EXAMPLE\n",
    "# GET A NEW LIST WITH AVERAGE MARKS\n",
    "test_grades = [[['peter','parker'],[80.0, 70.0, 85.0]],[['bruce','wayne'],[100.0, 80.0, 74.0]],\n",
    "               [['captain','america'], [8.0,10.0,96.0]],[['deadpool'],[]]]\n",
    "\n",
    "def get_stats(class_list):\n",
    "    new_stats = []\n",
    "    for elt in class_list:\n",
    "        new_stats.append([elt[0],elt[1], avg(elt[1])])\n",
    "    return new_stats\n",
    "\n",
    "def avg(grades):\n",
    "    try: \n",
    "        return sum(grades)/len(grades)\n",
    "    except ZeroDivisionError:\n",
    "        print('no grades data') # no return for excetion, it actually assigns []\n",
    "        return 0.0\n",
    "        "
   ]
  },
  {
   "cell_type": "markdown",
   "id": "4dce2aec",
   "metadata": {},
   "source": [
    "## Assertions \n",
    "1. want to be sure that assumptions on state of computation are as expected\n",
    "2. use an `assert statement` to raise an `AssertionError` exception if assumptions not met (functions end immediately if assertion not met)\n",
    "3. an example of good defensive programming (make it easier to locate a source of a bug)\n",
    "4. Keywords: `assert not len(grades)==0, 'no grades data'` "
   ]
  },
  {
   "cell_type": "code",
   "execution_count": null,
   "id": "e0c017b3",
   "metadata": {},
   "outputs": [],
   "source": [
    "\n",
    "\"\"\"\n",
    "ASSERTIONS (GOOD WAY OF DOING DEFENSIVE PROGRAM)\n",
    "\"\"\"\n",
    "# Prevent circumstances from leading to unexpected results\n",
    "# Ensure that execution halts whenever an expected conditons not met\n",
    "# typically used to check inputs to fucntions procedures, but can be used anywhere\n",
    "# can be used to check outputs of a function to avoid propagating bad values\n",
    "def avg(grades):\n",
    "    # function ends immediately if assertion not met\n",
    "    assert not len(grades) == 0, 'no grades data'\n",
    "    return sum(grades)/len(grades)\n",
    "grades = [1.1,3.3]\n",
    "print(avg(grades))"
   ]
  },
  {
   "cell_type": "markdown",
   "id": "1b3d05f4",
   "metadata": {},
   "source": [
    "# Object Oriented Programming\n",
    "This Chapter introduces the concepts of object oriented programming (OOP) in Python. Everything in Python is an object and has a type. e.g. `1234` is an instance of an `int`, `a='hello'`, `a` is an instance of a string. Advantages of OOP include\n",
    "1. bundle data into packages together with procedures that work on them through well-defined interfaces\n",
    "2. divide-and-conquer development\n",
    "3. classes make it easy to reuse code\n",
    "\n",
    "- [Classes](#basic-classes)\n",
    "- [Special Object Operators](#special-object-operators)\n",
    "- [Getters and Setters](#getters-and-setters)\n",
    "- [Class Hiearchies](#class-hiearchies)\n",
    "- [Instance Variables and Class Variables](#instance-variables-and-class-variables)\n",
    "- [A Complete Example (MIT Students)](#a-complete-example-mit-students)\n",
    "- [A complete Example (Gradebook)](#a-complete-example-gradebook)\n",
    "- [Generators](#generators)"
   ]
  },
  {
   "cell_type": "markdown",
   "id": "4e493f0f",
   "metadata": {},
   "source": [
    "## Basic Classes \n",
    "1. Creating a class: define `name/attribute`. Keyword is `class`. \n",
    "2. `Attributes` are **data** and **procedures (method)** associated with a class\n",
    "3. `__init__(self,x,y)`, similar to constructors in C++\n",
    "4. `print(c.distance(origin))` and `print(Coordinate.distance(c,origin))` are equivalent\n",
    "5. Print representation of an object, `__str__` method\n",
    "4. `isinstance(c,Coordinate)` check if c is an object of the class Coordinate"
   ]
  },
  {
   "cell_type": "code",
   "execution_count": null,
   "id": "aca6889b",
   "metadata": {},
   "outputs": [],
   "source": [
    "# ATTRIBUTES: data and procedures that belong to the class\n",
    "class Coordinate(object): # In python, object is the superclass of Coordinate class\n",
    "    # Typically the fsirt function in a class\n",
    "    def __init__(self,x,y): # double underscore, self->instance, this func calls when you invoke\n",
    "        self.x = x          # creation of an instance, self automatically points the instance\n",
    "        self.y = y\n",
    "    \n",
    "    # Methods are procudeure attributes that can manipulate the data attributes\n",
    "    def distance(self,other): # other is another instance\n",
    "        x_diff_sq = (self.x-other.x)**2\n",
    "        y_diff_sq = (self.y-other.y)**2\n",
    "        return (x_diff_sq+y_diff_sq)**0.5\n",
    "    \n",
    "    # Python calls the __str__ method when used with print on you class object\n",
    "    # You choose what it does! e.g. print(c) -> <3,4>\n",
    "    def __str__(self): # override internal print \n",
    "        return \"<\"+str(self.x)+\",\"+str(self.y)+\">\" # Must reetrun a string  for this special method\n",
    "\n",
    "    # Other special methods\n",
    "    # https://docs.python.org/3/reference/datamodel.html#basic-customization\n",
    "    def __sub__(self,other): # override the interal substraction for instances in this class\n",
    "        return Coordinate(self.x-other.x,self.y-other.y) # create a instance (subtraction of two instances create a new instance)\n",
    "\n",
    "    # eval(repr(c)) == c\n",
    "    # Return a string containing a printable representation of an object (this is typically used for debugging)\n",
    "    # a string that looks like a valid Python expression that could be used to \n",
    "    # recreate an object with the same value\n",
    "    def __repr__(self):\n",
    "        return \"Coordinate({},{})\".format(self.getX(),self.getY())\n",
    "    \n",
    "c = Coordinate(3,4) # create a new instance, c frame , like functions\n",
    "origin = Coordinate(0,0) # creat another instance, origin fram \n",
    "\n",
    "# These two calling methods are equivalent　\n",
    "print(c.distance(origin)) # print the distance to another instance, c is a  frame\n",
    "print(Coordinate.distance(c,origin)) # equivalent to aobve but in a different way\n",
    "\n",
    "# PRINT REPRESENTATION OF AN OBJECT\n",
    "print(c) # <3,4>, you control what prints out from an object instance\n",
    "print(type(c)) # <class '__main__.Coordinate'>, prints the type of an object instance \n",
    "print(Coordinate, type(Coordinate)) # <class '__main__.Coordinate'> <class 'type'>\n",
    "print(isinstance(c,Coordinate)) # check if an object an instance of a class\n",
    "print(c-origin) # <3,4>, object subtraction \n"
   ]
  },
  {
   "cell_type": "markdown",
   "id": "c7b7dba5",
   "metadata": {},
   "source": [
    "## Special Object Operators\n",
    "1. `+,-,==,<,>,len(),print,` more information can be found [here](https://docs.python.org/3/reference/datamodel.html#basic-customization)\n",
    "2. Like `print`, we can override these to work with our class\n",
    "3. Define them with double undersocres before/after\n",
    "    1. `__add__` (self, other)  self + other\n",
    "    2. `__sub__`(self, other)  self - other\n",
    "    3. `__eq__`(self, other)  self == other\n",
    "    4. `__lt__`(self, other)  self < other\n",
    "    5. `__len__`(self)  len(self)\n",
    "    6. `__str__`(self)  print(self)\n"
   ]
  },
  {
   "cell_type": "markdown",
   "id": "3ef98543",
   "metadata": {},
   "source": [
    "##  Getters and Setters \n",
    "1. we do not want to directly manipulate the attributes associated with those instances. In stead, we use **getters** and **setters**.\n",
    "2. Good practice (for information hiding and avoiding potential bugs) to use **getters** (getting attributes) and **setters** (setting attributes)"
   ]
  },
  {
   "cell_type": "code",
   "execution_count": null,
   "id": "0532079a",
   "metadata": {},
   "outputs": [],
   "source": [
    "\"\"\"\n",
    "EXAMPLE: FRACTIONS\n",
    "\"\"\"\n",
    "class fraction(object):\n",
    "    def __init__(self,numer,denom):\n",
    "        self.numer = numer\n",
    "        self.denom = denom\n",
    "\n",
    "    def __str__(self):\n",
    "        return str(self.numer)+'/'+str(self.denom)\n",
    "\n",
    "    # getters, but why we use them? can be just directly use self.numer? \n",
    "    # The reason is that we do not want to directly manipulate the attributes associated with \n",
    "    # those instances\n",
    "    def getNumer(self):\n",
    "        return self.numer\n",
    "    def getDenom(self):\n",
    "        return self.denom\n",
    "    \n",
    "    # objects addition\n",
    "    def __add__(self,other): # use () to indicate a method\n",
    "        numerNew = other.getDenom()*self.getNumer()+ other.getNumer()*self.getDenom() \n",
    "        denomNew = other.getDenom()*self.getDenom()\n",
    "        return fraction(numerNew,denomNew)\n",
    "    \n",
    "    # objects subtraction\n",
    "    def __sub__(self,other):\n",
    "        numerNew = other.getDenom()*self.getNumer()- other.getNumer()*self.getDenom()\n",
    "        denomNew = other.getDenom()*self.getDenom()\n",
    "        return fraction(numerNew,denomNew)\n",
    "        \n",
    "    def convert(self):\n",
    "        return self.getNumer()/self.getDenom()\n",
    "\n",
    "# initialize objects    \n",
    "oneHalf = fraction(1,2)\n",
    "twoThirds = fraction(2,3)\n",
    "\n",
    "print(oneHalf) # -> 1/2\n",
    "print(twoThirds) # -> 2/3\n",
    "print(oneHalf.getNumer())\n",
    "\n",
    "new = oneHalf + twoThirds\n",
    "print(new.convert()) # -> 7/6"
   ]
  },
  {
   "cell_type": "code",
   "execution_count": null,
   "id": "3efedf1c",
   "metadata": {},
   "outputs": [],
   "source": [
    "\"\"\"\n",
    "EXAMPLE: A SET OF INTEGERS\n",
    "\"\"\"\n",
    "class intSet(object):\n",
    "    def __init__(self):\n",
    "        self.vals = [] # empty list\n",
    "\n",
    "    # Insert new integers to the our list , e is input argument   \n",
    "    def insert(self,e):\n",
    "        if not e in self.vals:\n",
    "            self.vals.append(e)\n",
    "\n",
    "    # Test to see is e is our list\n",
    "    def member(self,e):\n",
    "        return e in self.vals\n",
    "    \n",
    "    # Try to remove e from our list \n",
    "    def remove(self,e):\n",
    "        try:\n",
    "            self.vals.remove(e)\n",
    "        except:\n",
    "            raise ValueError(str(e)+' not found') # raise my own particular error\n",
    "    \n",
    "    # return an intersect instance, other is an instance here\n",
    "    # return the intersection of two interger sets     \n",
    "    def intersect(self, other):\n",
    "        result = intSet() # result is a new instance\n",
    "        for i in self.vals:\n",
    "            if other.member(i):\n",
    "                 result.insert(i)\n",
    "        return result        \n",
    "    \n",
    "    # modify the print()       \n",
    "    def __str__(self):\n",
    "        self.vals.sort()\n",
    "        #  return '{' + ','.join([str(e) for e in self.vals]) + '}' does the same job\n",
    "        result = ''\n",
    "        for e in self.vals:\n",
    "            result = result + str(e) + ','\n",
    "        return '{'+ result[:-1] +'}'\n",
    "\n",
    "    # modify the len()\n",
    "    def __len__(self):\n",
    "        return len(self.vals)\n",
    "    \n",
    "s = intSet()\n",
    "print(s) # {}\n",
    "s.insert(3) \n",
    "s.insert(4)\n",
    "print(s) #{3,4}\n",
    "s.insert(3)\n",
    "print(s.member(3)) # True\n",
    "print(s.member(6)) # False\n",
    "s.remove(3)\n",
    "print(s) # {4}\n",
    "# s.remove(3) # ValueError, 3 does not exist \n"
   ]
  },
  {
   "cell_type": "code",
   "execution_count": null,
   "id": "d0a8754b",
   "metadata": {},
   "outputs": [],
   "source": [
    "\"\"\"\n",
    "ANOTHER EXAMPLE - ANIMALS\n",
    "\"\"\"\n",
    "class Animal(object):\n",
    "    def __init__(self,age):\n",
    "        self.age = age\n",
    "        self.name = None # define other data attribute even we dont pass them into an instance   \n",
    "\n",
    "    # getters\n",
    "    def get_age(self):\n",
    "        return self.age\n",
    "    def get_name(self):\n",
    "        return self.name\n",
    "\n",
    "    # setters, can change the binding for attributes\n",
    "    def set_age(self,newage):\n",
    "        self.age = newage\n",
    "    def set_name(self,newname=\"\"): # default argument is an empty string\n",
    "        self.name = newname\n",
    "\n",
    "    # special print\n",
    "    def __str__(self):\n",
    "        return \"animal: \"+str(self.name)+\":\"+str(self.age)\n",
    "        \n",
    "myAnimal = Animal(3)\n",
    "myAnimal.set_name('foobar')\n",
    "# why we want to use getters and setters:\n",
    "print(myAnimal.age) # directly access the attribute\n",
    "print(myAnimal.get_age()) # use the method and calling to access the attirbute (better)\n",
    "                   # becasue we want to seperate the internal representation from access to that\n",
    "                   # representation (it's called information hiding)\n",
    "\n",
    "print(myAnimal) # animal: foobar: 3"
   ]
  },
  {
   "cell_type": "code",
   "execution_count": null,
   "id": "46006238",
   "metadata": {},
   "outputs": [],
   "source": [
    "\"\"\"\n",
    "EXAMPLE-WHY USING GETTERS AND SETTERS\n",
    "\"\"\"\n",
    "# use a.get_age() NOT a.age: good style, easy to maintain code, prevent bugs\n",
    "# always write a method to store the attributes inside it (setters()), to access using getters()\n",
    "class Animal(object):\n",
    "    def __init__(self,age):\n",
    "        self.years = age # class definition changes, self.age -> self.year (can produce bugs if access age using myAnimal.age)\n",
    "    def get_age(self):\n",
    "        return self.years"
   ]
  },
  {
   "cell_type": "markdown",
   "id": "fa2a7cbc",
   "metadata": {},
   "source": [
    "## Class Hiearchies \n",
    "1. Parent class (superclass)/ child class (subclass) \n",
    "2. Child class inherits all data and behaviors of parent class (But can add more info)\n",
    "3. Can also add more behavior and override some behavior\n",
    "4. `Class Cat(Animal):`, **cat** inherits from **Animal class**, a class heirachi tree is given in the figure shown below. Note that `object` is the superclass for all Python classes.\n",
    "\n",
    "![A class heirarchi tree](images/class_heirarchic.png)\n",
    "\n",
    "5. for an instance of a class, look for a method name in current class definition.  if not found, look for method name up the hierarchy (in parent, then grandparent, and so on). use first method up the hierarchy that you found with that method name."
   ]
  },
  {
   "cell_type": "code",
   "execution_count": null,
   "id": "a628c92e",
   "metadata": {},
   "outputs": [],
   "source": [
    "\"\"\"\n",
    "HIERARCHIES\n",
    "parent class (superclass), child class (subclass)\n",
    "e.g. animal-> person, cat, rabbit. persion-> student\n",
    "\"\"\"\n",
    "\n",
    "class Cat(Animal): # inherits all attributes of Animal\n",
    "    def speak(self): # add new functionality via new methods \n",
    "        print(\"meow\")\n",
    "    def __str__(self): # overrides __str__ from Animal\n",
    "        return \"cat:\"+str(self.name)+\":\"+str(self.age)\n",
    "    \n",
    "class Rabbit(Animal):\n",
    "    def speak(self): # Note here, __init__ is not missing, Rabbit class just uses the Animal Class's version\n",
    "        print(\"meep\")\n",
    "    def __str__(self):\n",
    "        return \"rabbit\"+str(self.name)+\":\"+str(self.age)\n",
    "\n",
    "class Person(Animal):\n",
    "    def __init__(self,name,age):\n",
    "        Animal.__init__(self,age) # explicitly call Animal constructor, in the superclass (self.age = age and self.name = None)\n",
    "        Animal.set_name(self,name) # call Animal's method to change the name associated with (self.name = name)\n",
    "                                   # instance of a person\n",
    "        self.freinds = [] # add a new data attribute (empty list)\n",
    "\n",
    "    # define new methods (getter/setter)\n",
    "    def get_friends(self):\n",
    "        return self.friends\n",
    "    def add_friend(self,fname):\n",
    "        if fname not in self.friends:\n",
    "            self.friends.append(fname)\n",
    "\n",
    "    def speak(self):\n",
    "        print(\"hello\")\n",
    "\n",
    "    def age_diff(self,other): # new method to give age diff in a user friendly way\n",
    "        diff = self.get_age()-other.get_age()\n",
    "        if self.age > other.age:\n",
    "            print(self.name,\"is\",diff,\"years older than\", other.name)\n",
    "        else:\n",
    "            print(self.name,\"is\",-diff,\"years younger than\",other.name)\n",
    "            \n",
    "    def __str__(self): # override Animal's __str__method\n",
    "        return \"person:\"+str(self.name)+\":\"+str(self.age)\n",
    "\n",
    "\n",
    "jelly = Cat(1)\n",
    "jelly.set_name(\"JellyBelly\")\n",
    "print(jelly) # print cat: JeLLyBelly:1\n",
    "# we can explicilty recover the underlying Animal method by \n",
    "print(Animal.__str__(jelly)) # animal: JellyBelly:1, remeber Animal is the super class here\n",
    "\n",
    "eric = Person(\"eric\",45)\n",
    "john = Person(\"john\",55)\n",
    "eric.speak()\n",
    "eric.age_diff(john)"
   ]
  },
  {
   "cell_type": "code",
   "execution_count": null,
   "id": "38d970e7",
   "metadata": {},
   "outputs": [],
   "source": [
    "\"\"\"\n",
    "ANOTHER SUBSUBCLASS EXAMPLE Animal->Person->Student\n",
    "\"\"\"\n",
    "import random\n",
    "\n",
    "class Student(Person):\n",
    "    def __init__(self,name,age,major = None):\n",
    "        Person.__init__(self,name,age) # call the person constructor \n",
    "        self.major = major # student has a new attribute data (major)\n",
    "    \n",
    "    # change major method\n",
    "    def change_major(self,major):\n",
    "        self.major = major\n",
    "\n",
    "    # override the speak method from Person class\n",
    "    def speak(self):\n",
    "        r = random.random()\n",
    "        if r < 0.25:\n",
    "            print(\"i have homework\")\n",
    "        elif 0.25 <= r <= 0.5:\n",
    "            print(\"i need sleep\")\n",
    "        elif 0.5 <= r <= 0.75: \n",
    "            print(\"i should eat\")\n",
    "        else:\n",
    "            print(\"i am watching tv\")\n",
    "\n",
    "    # Override the __str__ method      \n",
    "    def __str__(self):\n",
    "        return \"student:\"+str(self.name)+\":\"+str(self.age)+\":\"+str(self.major)\n",
    "    \n",
    "eric = Person('Eric',45)\n",
    "fred = Student('Fred',18,'Course VI')\n",
    "print(fred) # student:Fred:18:Course VI\n",
    "print(Person.__str__(fred))\n",
    "fred.speak()\n",
    "fred.speak()"
   ]
  },
  {
   "cell_type": "markdown",
   "id": "41bdc874",
   "metadata": {},
   "source": [
    "## Instance Variables and Class Variables\n",
    "1. `Instance variables` are specific to an insatnce (created for each instance, belongs to an instance)\n",
    "2. `Class variables` are defined inside classes but outside any class methods (also outside of `__init__`). They are shared among all objects/instances of that class. "
   ]
  },
  {
   "cell_type": "code",
   "execution_count": null,
   "id": "bfc01f9b",
   "metadata": {},
   "outputs": [],
   "source": [
    "\"\"\"\n",
    "CLASS VARIABLES\n",
    "\"\"\"\n",
    "# define inside the class definition, but outside of any of the methods\n",
    "# shared among all objects/instances of that class\n",
    "\n",
    "class Rabbit(Animal): # parent class\n",
    "    # class variable \n",
    "    tag = 1 \n",
    "    # Constrcutor\n",
    "    def __init__(self,age,parent1 = None, parent2 = None):\n",
    "        Animal.__init__(self,age)\n",
    "        self.parent1 = parent1 # here parent1 and parent2 are two Rabbit instances\n",
    "        self.parent2 = parent2\n",
    "        self.rid = Rabbit.tag \n",
    "        Rabbit.tag += 1 # incremneting class variable and changes it for all instances that \n",
    "                        # may reference it\n",
    "    def get_rid(self): \n",
    "        return str(self.rid).zfill(3) # method on string to pad the beginning with zeros\n",
    "    def get_parent1(self):            # e.g. 001 not 1\n",
    "        return self.parent1\n",
    "    def get_parent2(self):\n",
    "        return self.parent2\n",
    "\n",
    "    # Special class operations    \n",
    "    def __add__(self,other):\n",
    "        return Rabbit(0,self,other) # modify the addition to create new instance\n",
    "    def __eq__(self,other): # special method to compare two rabbits\n",
    "        parents_same = self.parent1.rid == other.parent1.rid \\\n",
    "                       and self.parent2.rid == other.parent2.rid\n",
    "        parents_opposite = self.parent2.rid == other.parent1.rid \\\n",
    "                       and self.parent1.rid == other.parent2.rid\n",
    "        return parents_same or parents_opposite\n",
    "\n",
    "peter = Rabbit(2) # rid = 1\n",
    "peter.set_name('Peter') \n",
    "hopsy = Rabbit(3) # rid = 2\n",
    "hopsy.set_name('Hopsy') \n",
    "cotton = Rabbit(1,peter,hopsy) # here peter and hopsy are instances, rid = 3\n",
    "cotton.set_name('Cottontail')\n",
    "mopsy = peter + hopsy # rid = 4\n",
    "mopsy.set_name('Mopsy')\n",
    "\n",
    "# Note,  __str__  method is defined in the Animal class\n",
    "print(mopsy.get_parent1()) #animal: Peter:2,  \n",
    "print(mopsy.get_parent2()) # animal: Hopsy:3\n",
    "print(mopsy==cotton) # True"
   ]
  },
  {
   "cell_type": "markdown",
   "id": "d50ddd2a",
   "metadata": {},
   "source": [
    "### Tips\n",
    "- [zfill()](https://www.tutorialsteacher.com/python/string-zfill#:~:text=The%20zfill()%20method%20returns,padding%20after%20the%20sign%20character.) is a built-in `string` operation in python. \n",
    "- `\\` is the explicit line break in Python"
   ]
  },
  {
   "cell_type": "markdown",
   "id": "c59c756c",
   "metadata": {},
   "source": [
    "## A Complete Example (MIT Students)\n",
    "Explore in some detail an example of building an application that organizes info about people \n",
    "\n",
    "![MIT students hierarchies](images/mit_student.PNG)"
   ]
  },
  {
   "cell_type": "markdown",
   "id": "98ade8e2",
   "metadata": {},
   "source": [
    "### Bulding a Class\n",
    "- start with a Person object\n",
    "    - Person: name, birthday\n",
    "    - get last name\n",
    "    - sort by last name\n",
    "    - get age"
   ]
  },
  {
   "cell_type": "code",
   "execution_count": null,
   "id": "fcef8499",
   "metadata": {},
   "outputs": [],
   "source": [
    "import datetime\n",
    "\n",
    "class Person(object):\n",
    "    def __init__(self,name):\n",
    "        self.name= name\n",
    "        self.birthday = None\n",
    "        self.lastName = name.split(' ')[-1] # name is a string, so split into a list of strings\n",
    "                                           # based on spaces\n",
    "    def getLastName(self):\n",
    "        return self.lastName\n",
    "    \n",
    "    def setBirthday(self,month,day,year):\n",
    "        self.birthday = datetime.date(year,month,day)\n",
    "    \n",
    "    def getAge(self):\n",
    "        if self.birthday == None:\n",
    "            raise ValueError\n",
    "        return (datetime.date.today()-self.birthday).days # convert into days/years\n",
    "    \n",
    "    def __lt__(self,other): # lt = less than, sort people by last name\n",
    "        if self.lastName == other.lastName: # if have same lastname, we sort them by their \n",
    "            return self.name < other.name   # fullname\n",
    "        return self.lastName < other.lastName\n",
    "    \n",
    "    def __str__(self): # override the print method\n",
    "        return self.name\n",
    "\n",
    "# Initialize instances \n",
    "p1 = Person('Mark Zuckerberg')\n",
    "p1.setBirthday(5,14,84)\n",
    "p2 = Person('Drew Houston')\n",
    "p2.setBirthday(3,4,83)\n",
    "p3 = Person('Bill Gates')\n",
    "p3.setBirthday(10,28,55)\n",
    "p4 = Person('Andrew Gates')\n",
    "p5 = Person('Steve Wozniak')\n",
    "#\n",
    "personList = [p1,p2,p3,p4,p5] # is a list with each element a person object\n",
    "# print them in order\n",
    "for e in personList:\n",
    "    print(e)\n",
    "# sort the names in order\n",
    "personList.sort() # sort() method in list use the __lt__ special class method\n",
    "for e in personList:\n",
    "    print(e)"
   ]
  },
  {
   "cell_type": "markdown",
   "id": "898acbee",
   "metadata": {},
   "source": [
    "### Use Inheritance \n",
    "- MITPerson: Person + ID Number\n",
    "    - assign ID numbers in sequence\n",
    "    - get ID number\n",
    "    - sort by ID number"
   ]
  },
  {
   "cell_type": "code",
   "execution_count": null,
   "id": "86d7dcf7",
   "metadata": {},
   "outputs": [],
   "source": [
    "\"\"\"\n",
    "USING INHERITANCE\n",
    "\"\"\"\n",
    "class MITPerson(Person): # Person is the superclass of the MITPerson class\n",
    "    \n",
    "    nextIdNum = 0 # next ID number to assign (class variable)\n",
    "    \n",
    "    def __init__(self,name):\n",
    "        Person.__init__(self,name) # initilaize Person attributes\n",
    "        self.idNum = MITPerson.nextIdNum # MITPerosn attribute: unique ID\n",
    "        MITPerson.nextIdNum += 1 # update the class variable\n",
    "        \n",
    "    def getIdNum(self):\n",
    "        return self.idNum\n",
    "    \n",
    "    def __lt__(self,other): # sorting them by ID numbers (override the __lt__ in Person class)\n",
    "        return self.idNum < other.idNum\n",
    "    \n",
    "    def speak(self,utterance):\n",
    "        return (self.getLastName()+\" say: \"+ utterance)\n",
    "\n",
    "m3 = MITPerson('Mark Zuckerberg')\n",
    "Person.setBirthday(m3,5,14,84)\n",
    "m2 = MITPerson('Drew Houston')\n",
    "Person.setBirthday(m2,3,4,83)\n",
    "m1 = MITPerson('Bill Gates')\n",
    "Person.setBirthday(m1,10,28,55)\n",
    "#\n",
    "MITPersonList = [m1, m2, m3]\n",
    "\n",
    "# print outher the mit list\n",
    "for e in MITPersonList:\n",
    "    print(e)\n",
    "# sort them by ID\n",
    "MITPersonList.sort() # sort from largest to smallest (sort use __lt__ method)\n",
    "for e in MITPersonList:\n",
    "    print(e)\n",
    "\n",
    "p1 = MITPerson('Eric')\n",
    "p2 = MITPerson('John')\n",
    "p3 = MITPerson('John')\n",
    "p4 = Person('John')\n",
    "#\n",
    "print(p1 < p2) # = p1.__lt__(p2), True, comared on id numbers (compare use ids)\n",
    "\n",
    "# use the __lt__ method associated with the type of p1, namely an MITPerson\n",
    "# print(p1 < p4) # = p1.__lt__(p4), Attribute error, p4 does not have a id attribute (compare use ids)\n",
    "\n",
    "# use the __lt__ method associated with the type of p4, namely a Person (the one that compares based on name\n",
    "print(p4 < p1) # = p4.__lt__(p1), Flase , p1 has a name attribute, (compared use names)"
   ]
  },
  {
   "cell_type": "markdown",
   "id": "699191e6",
   "metadata": {},
   "source": [
    "### Add More Classes\n",
    "- Students: several types, all MITPerson\n",
    "    - undergraduate student: has class year\n",
    "    - graduate student\n",
    "- `pass` is a special keyword says there is no expression in the body"
   ]
  },
  {
   "cell_type": "code",
   "execution_count": null,
   "id": "0273f7e7",
   "metadata": {},
   "outputs": [],
   "source": [
    "\"\"\"\n",
    "ADD MORE CLASSES\n",
    "\"\"\"\n",
    "class Student(MITPerson): # better to create a student superclass that covers all students (Also the class avariable)\n",
    "    pass # inherits all the attributes from the MITPerson superclass\n",
    "\n",
    "class UG(Student): # undergraduate student\n",
    "    def __init__(self,name,classYear):\n",
    "        MITPerson.__init__(self,name)\n",
    "        self.year = classYear\n",
    "    \n",
    "    def getClass(self):\n",
    "        return self.year\n",
    "    \n",
    "    def speak(self,utterance):\n",
    "        return MITPerson.speak(self,\" Dude, \"+utterance)\n",
    "    \n",
    "class Grad(Student):\n",
    "    pass\n",
    "\n",
    "class TransferStudent(Student):\n",
    "    pass\n",
    "\n",
    "def isStudent(obj): # check if is student\n",
    "    return isinstance(obj,Student)\n",
    "\n",
    "s1 = UG('Matt Damon',2017)\n",
    "s2 = UG('Ben Affleck',2017)\n",
    "s3 = UG('Lin Manuel Miranda',2018)\n",
    "s4 = Grad('Leonard di Caprio')\n",
    "s5 = TransferStudent('Robert deNiro')\n",
    "#\n",
    "print(s1)\n",
    "print(s1.getClass())\n",
    "print(s1.speak('Where is the quiz?'))\n",
    "print(s2.speak('I have no clue!'))\n"
   ]
  },
  {
   "cell_type": "markdown",
   "id": "73220095",
   "metadata": {},
   "source": [
    "### Using Inherited Method\n",
    "- add a Professor class of objects\n",
    "    - also a kind of MITPerson\n",
    "    - but has different behaviors\n",
    "- Use as an example to see how one can leverage methods from other classes in the hierarchy\n",
    "- Modularity helps, capture the behavior locally\n"
   ]
  },
  {
   "cell_type": "code",
   "execution_count": null,
   "id": "9b319bc4",
   "metadata": {},
   "outputs": [],
   "source": [
    "\"\"\"\n",
    "USING INHEREITED METHODS\n",
    "\"\"\"\n",
    "class Professor(MITPerson):\n",
    "    def __init__(self,name,department):\n",
    "        MITPerson.__init__(self,name)\n",
    "        self.department = department\n",
    "        \n",
    "    def speak(self, utterance): # shadow the MIT speak method, but uses the MIT speak method\n",
    "        new = 'In course '+ self.department + ' we say '\n",
    "        return MITPerson.speak(self,new + utterance)\n",
    "    \n",
    "    def lecture(self,topic):\n",
    "        return self.speak('it is obvious that '+ topic)\n",
    "        \n",
    "faculty = Professor('Doctor Arrogant','six')\n",
    "print(faculty.speak('Welcome'))\n",
    "print(faculty.lecture('Math'))\n"
   ]
  },
  {
   "cell_type": "markdown",
   "id": "438a2bcd",
   "metadata": {},
   "source": [
    "## A complete Example (Gradebook)\n",
    "\n",
    "1. create class that includes instances of other classes within it\n",
    "2. build a data structure that can hold grades for students\n",
    "3. gather together data and procedures for dealing with them in a single structure, so that users can manipulate without having to know internal details"
   ]
  },
  {
   "cell_type": "code",
   "execution_count": null,
   "id": "a42ec534",
   "metadata": {},
   "outputs": [],
   "source": [
    "\"\"\"\n",
    "EXAMPLE CLASS: GRADEBOOK\n",
    "create class that includes instance of other classes within in\n",
    "\"\"\"\n",
    "class Grades(object):\n",
    "    def __init__(self):\n",
    "        self.students = [] # list of student object\n",
    "        self.grades = {} # maps idNum -> list of grades\n",
    "        self.isSorted = True # true if self.student is sorted\n",
    "    \n",
    "    def addStudent(self,student): # Here studen is another instance\n",
    "        if student in self.students:\n",
    "            raise ValueError('Duplicate student')\n",
    "        self.students.append(student) # student is a list, we simply append it \n",
    "        self.grades[student.getIdNum()] = [] # grades is a dict, student is another instance\n",
    "                                             # create empty list associated with the key \n",
    "                                             # student.getIdNum() from another instance student\n",
    "        self.isSorted = False\n",
    "        \n",
    "    def addGrade(self,student,grade):\n",
    "        try: # student is another instance from other class\n",
    "            self.grades[student.getIdNum()].append(grade) # is a list, then we can append\n",
    "        except KeyError: #  KeyError generally means the key doesn't exist\n",
    "            raise ValueError('Student not in grade book')\n",
    "    \n",
    "    def getGrades(self,student):\n",
    "        try:\n",
    "            # return a copy, which means I can do things on that without destroying original set\n",
    "            return self.grades[student.getIdNum()][:]  # a safe thing to do\n",
    "        except KeyError:\n",
    "            raise ValueError('Student not in grade book')\n",
    "    \n",
    "    def allStudents(self): # sort all students\n",
    "        if not self.isSorted: # if not sorted\n",
    "            self.students.sort() # sort the list\n",
    "            self.isSorted = True\n",
    "        return self.students[:] # return a copy of list of students\n",
    "    \n",
    "    '''\n",
    "    # a new version with generator\n",
    "    def allStudents(self):\n",
    "        if not self.isSorted:\n",
    "            self.students.sort()\n",
    "            self.isSorted = True # print(six00.allStudents().__next__())\n",
    "        for s in self.students: # it gives the next one without generating the entire list\n",
    "            yield s    \n",
    "    '''           \n",
    "\n",
    "    # assume course is a type of Grade instance (equivalent to gradeReport(self)) \n",
    "    # This practice is good for information hiding  \n",
    "    def gradeReport(course): \n",
    "        report = [] # empty list\n",
    "        for s in course.allStudents(): # loop  over all the students\n",
    "            tot = 0.0\n",
    "            numGrades = 0\n",
    "            for g in course.getGrades(s): # run every grade in the gardes associated with that student\n",
    "                tot += g\n",
    "                numGrades += 1\n",
    "            try:\n",
    "                average = tot/numGrades # report the average\n",
    "                report.append(str(s)+'\\'s mean grade is ' +str(average)) # \\' = ' \n",
    "            except ZeroDivisionError:\n",
    "                report.append(str(s)+' has no grades')\n",
    "        return '\\n'.join(report) # join the list with carriage return (join list into a string)\n",
    "\n",
    "# student instance\n",
    "ug1 = UG('Matt Damon', 2018)\n",
    "ug2 = UG('Ben Affleck', 2019)\n",
    "ug3 = UG('Drew Houston', 2017)\n",
    "ug4 = UG('Mark Zuckerberg', 2017)\n",
    "g1 = Grad('Bill Gates')\n",
    "g2 = Grad('Steve Wozniak')\n",
    "\n",
    "# six00 is Grade instance\n",
    "six00 = Grades()\n",
    "# add students instances from other classes\n",
    "six00.addStudent(g1)\n",
    "six00.addStudent(ug2)\n",
    "six00.addStudent(ug1)\n",
    "six00.addStudent(g2)\n",
    "six00.addStudent(ug4)\n",
    "six00.addStudent(ug3)\n",
    "\n",
    "# Add students grades\n",
    "six00.addGrade(g1,100)\n",
    "six00.addGrade(g2,25)\n",
    "six00.addGrade(ug1,95)\n",
    "six00.addGrade(ug2,85)\n",
    "six00.addGrade(ug3,75)\n",
    "\n",
    "# add more grades\n",
    "six00.addGrade(g1,90)\n",
    "six00.addGrade(g2,45)\n",
    "six00.addGrade(ug1,80)\n",
    "six00.addGrade(ug2,75)\n",
    "\n",
    "# Note here we did not pass any course instance. In this case, the gradeReport function will just use six00 as its input argument.\n",
    "print(six00.gradeReport())\n",
    "print(Grades.gradeReport(six00)) # equivalent to the statement above"
   ]
  },
  {
   "cell_type": "markdown",
   "id": "38d4dca8",
   "metadata": {},
   "source": [
    "## Generators \n",
    "1. any procedure or method with `yield` statement called a **generator**\n",
    "2. generators have a `__next()__` method which starts/resumes execution of the procedure.\n",
    "3. Inside of generator:\n",
    "    1. `yield` suspends execution and returns a value\n",
    "    2. returning from a generator raises a `StopIteration` exception\n",
    "4. Generators separates the concept of computing a very long sequence of objects, from the actual process of computing them explicitly. Allows one to generate each new objects as needed as part of another computation. \n",
    "5. Have already seen this idea in range (`for I in range(4)`, same idea).  Think of **iterations** with `range` when use generators.\n",
    "6. System has some kind of memory associated with it.\n"
   ]
  },
  {
   "cell_type": "code",
   "execution_count": null,
   "id": "d68c822c",
   "metadata": {},
   "outputs": [],
   "source": [
    "\"\"\"\n",
    "GENERATORS\n",
    "solve the probelm - large list of student\n",
    "\"range\" is same idea\n",
    "\"\"\"\n",
    "# any procedure or method with yield statement called a generator\n",
    "# generators have a next() method which starts/resumes excution of the procedure\n",
    "# yield suspends execution and returns a value\n",
    "# returning from a generator raises a StopIteration\n",
    "# It lets us known how far i go in the computation before i stop and return a value\n",
    "def genTest():\n",
    "    yield 1\n",
    "    yield 2\n",
    "\n",
    "foo =genTest()\n",
    "print(type(foo))\n",
    "print(foo.__next__()) #-> 1\n",
    "print(foo.__next__()) #-> 2\n",
    "# foo.__next__() # Rasie StopIteration exception\n",
    "\n",
    "# print out 1, 2 in turn (same as range(1,3)) \n",
    "# generators are useful in doing iterations (computation-efficient, check the grade example using generators)\n",
    "for n in genTest(): \n",
    "    print(n)"
   ]
  },
  {
   "cell_type": "code",
   "execution_count": null,
   "id": "83f2edb9",
   "metadata": {},
   "outputs": [],
   "source": [
    "# Generate Fibonacci Numbers using generators\n",
    "def genFib():\n",
    "    fibn_1 = 1 # fib(n-1)\n",
    "    fibn_2 = 0 # fib(n-2)\n",
    "    while True:\n",
    "        # fib(n) = fib(n-1) + fib(n-2)\n",
    "        next = fibn_1 + fibn_2\n",
    "        yield next\n",
    "        fibn_2 = fibn_1\n",
    "        fibn_1 = next\n",
    "\n",
    "fib = genFib()\n",
    "print(fib.__next__()) # 1\n",
    "print(fib.__next__()) # 2\n",
    "print(fib.__next__()) # 3\n",
    "print(fib.__next__()) # 5\n",
    "\n",
    "# for n in genFib():\n",
    "#  print(n) \n",
    "# will produce all of the Fibonacci numbers (an infinite sequence)\n"
   ]
  },
  {
   "cell_type": "markdown",
   "id": "a45ecabb",
   "metadata": {},
   "source": [
    "# Algo Complexity, Searching and Sorting\n",
    "- [Algorithm Complexity](#algorithm-complexity)\n",
    "- [Search Algorithms](#search-algorithms)\n",
    "- [Sorting Algorithms](#sorting-algorithms)\n"
   ]
  },
  {
   "cell_type": "markdown",
   "id": "4fc9c287",
   "metadata": {},
   "source": [
    "## Algorithm Complexity\n",
    "\n",
    "`constant<log<linear<nlogn<polynomial<expoential<factorial`\n",
    "\n",
    "`n^2+2n+2` O(n^2)\n",
    "\n",
    "`log(n)+n+4` O(n)\n",
    "\n",
    "`n^2+10000n+3^10000` O(n^2)\n",
    "\n",
    "`0.0001*n*log(n)+300n` O(nlog(n))\n",
    "\n",
    "`2n^30+3^n` O(3^n)"
   ]
  },
  {
   "cell_type": "code",
   "execution_count": null,
   "id": "eab46c17",
   "metadata": {},
   "outputs": [],
   "source": [
    "# HOW TO EVALUATE EFFICIENCY OF PROGRAMS\n",
    "# timer/count/order of growth(most appropriate way)\n",
    "\n",
    "# TIMING A PROGRAM\n",
    "# NOT SO GOOD - VARY DEPENDING ON COMPUTES/ALOGORITHM/IMPLEMENTATIONS\n",
    "import time # bring that class into your own file\n",
    "\n",
    "def c_to_f(c):\n",
    "    return c*9/5 + 32\n",
    "\n",
    "t0 = time.clock()\n",
    "c_to_f(100000)\n",
    "t1 = time.clock()-t0\n",
    "print(\"t =\",t0,\":\",t1,\"s,\")\n",
    "\n",
    "# COUNTING OPERATIONS\n",
    "def c_to_f(c):\n",
    "    return c*9.0/5+32 # 3 ops\n",
    "\n",
    "# total op = 1+(1+2)n， n-> iterations\n",
    "def mysum(x):\n",
    "    total = 0 # 1 op\n",
    "    for i in range(x+1): # 1 op/ ite\n",
    "        total += i # 2 ops /ite\n",
    "    return total"
   ]
  },
  {
   "cell_type": "code",
   "execution_count": null,
   "id": "67149334",
   "metadata": {},
   "outputs": [],
   "source": [
    "# ORDER OF GROWTH\n",
    "# want to evaluate program's efficiency when input is very big\n",
    "# express the growth of program's run time as input size grows\n",
    "# upper bound on growth/ don't have to be precise\n",
    "# tyoes of orders of growth: constant<log<linear<nlogn<polynomial<expoential<factorial\n",
    "\n",
    "# O() is used to describe worst case - > whats is the behavior when as the problem input size\n",
    "# get really big\n",
    "    \n",
    "def fact_iter(n):\n",
    "    \"\"\" assumes a an int >= 0, computes factorial \"\"\"\n",
    "    answer = 1\n",
    "    while n>1:\n",
    "        answer *= n\n",
    "        n -= 1 # two steps\n",
    "    return answer\n",
    "\n",
    "# in toal 1+ 5n + 1 operations\n",
    "# worst case asymptotic complecity: O(n)\n",
    "    # ignore additive constants\n",
    "    # ignore multiplicative constants\n",
    "# n^2 +2n + 2 -> O(n^2)\n",
    "\n",
    "for i in range(n):\n",
    "    print('a')  # O(n)\n",
    "    \n",
    "for j in range(n*n):\n",
    "    print('b')  # O(n*n)\n",
    "    \n",
    "# O(n) + O(n*n) = O(n+n^2) = O(n^2)\n",
    "# O(f(n))*O(g(n)) = O(f(n)*g(n))"
   ]
  },
  {
   "cell_type": "markdown",
   "id": "3d0ac279",
   "metadata": {},
   "source": [
    "### Logrithmic Complexity\n",
    "- complexity grows as log of size of one of its inputs (very efficient)\n",
    "- example:\n",
    "    - bisection search\n",
    "    - binary search of a list"
   ]
  },
  {
   "cell_type": "markdown",
   "id": "e3abc3ed",
   "metadata": {},
   "source": [
    "### Linear Complexity\n",
    "- searching a list in sequence to see if an element is present\n",
    "- Iterative algorithms, for loops\n",
    "- Iterative and recursive factorial are the same order of growth\n"
   ]
  },
  {
   "cell_type": "markdown",
   "id": "282860c5",
   "metadata": {},
   "source": [
    "### Log-linear Complexity\n",
    "-  many practical algorithms are log-linear\n",
    "- very commonly used log-linear algorithm is `merge sort`"
   ]
  },
  {
   "cell_type": "markdown",
   "id": "0736821b",
   "metadata": {},
   "source": [
    "### Polynomial Complexity\n",
    "- most common polynomial algorithms are quadratic\n",
    "- commonly occurs when we have nested loops or recursive function calls\n",
    "- Computes n^2 very inefficiently\n",
    "- When dealing with nested loops, look at the `ranges`"
   ]
  },
  {
   "cell_type": "markdown",
   "id": "baa25377",
   "metadata": {},
   "source": [
    "### Exponential Complexity\n",
    "- very expensive, many programs are exponential (will lead us to consider approximate solutions more quickly)\n",
    "- recursive functions where more than one recursive call for each size of problem (Towers if Hanoi)"
   ]
  },
  {
   "cell_type": "markdown",
   "id": "5486229b",
   "metadata": {},
   "source": [
    "## Search Algorithms\n",
    "- `Brute force` \n",
    "- `Bisection` if the list is sorted (O(log n))\n",
    "- `linear search` can work for both sorted and unsorted lists.\n"
   ]
  },
  {
   "cell_type": "code",
   "execution_count": null,
   "id": "bec4aff5",
   "metadata": {},
   "outputs": [],
   "source": [
    "\"\"\"\n",
    "USE BISECTION SEARCH\n",
    "\"\"\"\n",
    "# a breaking and conqure problem\n",
    "# IMPLEMENTATION 1 O(nlog(n))\n",
    "def bisect_search1(L,e):\n",
    "    if L == []: # L is a list, check to see if e in a sorted list L\n",
    "        return False\n",
    "    elif len(L) == 1:\n",
    "        return L[0] == e\n",
    "    else:\n",
    "        half = len(L)//2\n",
    "        if L[half]>e:\n",
    "            return bisect_search1(L[:half],e) # copy requries O(n) operations\n",
    "        else:\n",
    "            return bisect_search1(L[half:],e)\n",
    "        \n",
    "# IMPLEMENTATION 2 (O(log n))\n",
    "def bisec_search2(L,e):\n",
    "    def bisect_search_helper(L,e,low,high):\n",
    "        if high == low:\n",
    "            return L[low]==e\n",
    "        mid = (low + high)//2\n",
    "        if L[mid] == e:\n",
    "            return True\n",
    "        elif L[mid] > e:\n",
    "            if low == mid: # nothing left to search\n",
    "                return False\n",
    "            else:\n",
    "                return bisect_search_helper(L, e, low, mid-1)\n",
    "        else:\n",
    "            return bisect_search_helper(L, e, mid + 1, high)\n",
    "    if len(L) == 0:\n",
    "        return False\n",
    "    else:\n",
    "        return bisect_search_helper(L, e, 0, len(L) - 1)\n",
    "    \n",
    "# SEARCH A  SORTED LIST -- n is len(L)\n",
    "# Linear search, O(n)\n",
    "# binary search, O(log n), but assume the list is sorted\n",
    "# When does it make sense to sort first then search ? \n",
    "        # SORT + O(log n) < O (n) -> SORT < O(n) - O(log n)\n",
    "        # when sorting is less than O(n) -> never true ! "
   ]
  },
  {
   "cell_type": "markdown",
   "id": "c5359216",
   "metadata": {},
   "source": [
    "## Sorting Algorithms\n",
    "- Monkey sort (stupid sort)\n",
    "- Bubble sort O(n^2)\n",
    "- Selection sort O(n^2)\n",
    "- Merge sort (divide and conquer approach O(n*log(n))) is the fastest a sort can be."
   ]
  },
  {
   "cell_type": "markdown",
   "id": "a45d009d",
   "metadata": {},
   "source": [
    "### Bubble Sort \n",
    "- compare consecutive pairs of elements\n",
    "- swap elements in pair such that smaller is first\n",
    "- when reach end of list, start over again\n",
    "- stop when no more swaps have been made"
   ]
  },
  {
   "cell_type": "code",
   "execution_count": null,
   "id": "dc28f457",
   "metadata": {},
   "outputs": [],
   "source": [
    "def bubble_sort(L):\n",
    "    swap = False\n",
    "    while not swap:\n",
    "        swap = True\n",
    "        for j in range(1, len(L)):\n",
    "            if L[j-1] > L[j]:\n",
    "                swap = False\n",
    "                temp = L[j]\n",
    "                L[j] = L[j-1]\n",
    "                L[j-1] = temp"
   ]
  },
  {
   "cell_type": "markdown",
   "id": "6c601e07",
   "metadata": {},
   "source": [
    "### Selection Sort\n",
    "- extract minimum element and swap it with element at index 0 (1st step)\n",
    "- in remaining sublist, extract minimum element swap it with the element at index 1 (subsequent steps)\n",
    "- keep the left portion of the list sorted\n",
    "    - at ith step, first i elements in list are sorted\n",
    "    - all other elements are bigger than first i elements"
   ]
  },
  {
   "cell_type": "code",
   "execution_count": null,
   "id": "4f740eed",
   "metadata": {},
   "outputs": [],
   "source": [
    "def selection_sort(L):\n",
    "    suffixSt = 0\n",
    "    while suffixSt != len(L): # O(N)\n",
    "        for i in range(suffixSt, len(L)): # O(N)\n",
    "            if L[i] < L[suffixSt]:\n",
    "                L[suffixSt], L[i] = L[i], L[suffixSt] # swap list values\n",
    "        suffixSt += 1"
   ]
  },
  {
   "cell_type": "markdown",
   "id": "a0689ac4",
   "metadata": {},
   "source": [
    "### Merge Sort\n",
    "- MERGE SORT -> DIVIDE AND CONQUER -> Split list in half until have sublists of any 1 element\n",
    "- if list is of length 0 or 1, already sorted\n",
    "- if list has more than one element, split into two lists, and sort each\n",
    "- merge sorted sublists\n",
    "    - look at first element of each, move smaller to end of the result\n",
    "    - when one list empty, just copy rest of other list"
   ]
  },
  {
   "cell_type": "code",
   "execution_count": null,
   "id": "edab4571",
   "metadata": {},
   "outputs": [],
   "source": [
    "# Merge Two list in a ordered manner\n",
    "def merge(left,right):\n",
    "    result = []\n",
    "    i, j = 0, 0\n",
    "    \n",
    "    while i < len(left) and j < len(right):\n",
    "        if left[i] < right[j]:\n",
    "            result.append(left[i])\n",
    "            i += 1\n",
    "        else:\n",
    "            result.append(right[j])\n",
    "            j += 1\n",
    "            \n",
    "    while (i < len(left)): # when right sublist is empty\n",
    "        result.append(left[i])\n",
    "        i += 1\n",
    "        \n",
    "    while (j < len(right)): # when left sublist is empty\n",
    "        result.append(right[j])\n",
    "        j += 1\n",
    "        \n",
    "    return result\n",
    "\n",
    "# merge sort algorithm (most efficient sort algorithm)\n",
    "def merge_sort(L):\n",
    "    if len(L) < 2: # base case\n",
    "        return L[:] \n",
    "    else:\n",
    "        middle = len(L)//2 # divide\n",
    "        left = merge_sort(L[:middle]) # call the merge_sort function recursively\n",
    "        right = merge_sort(L[middle:])\n",
    "        return merge(left,right) # conquer with the merge step"
   ]
  },
  {
   "cell_type": "markdown",
   "id": "6d9902ed",
   "metadata": {},
   "source": [
    "# Visualization of Data\n",
    "* [pylab](https://www.geophysik.uni-muenchen.de/~wack/teaching/Python/3_pylab.html#:~:text=Pylab%20is%20a%20module%20that,to%20create%20visualizations%20of%20data.) is a good package for plotting data in Pyhton. [matpltlab](https://matplotlib.org/) is also a good one. Note `pylab` uses the `Matlab` plotting style. \n",
    "* Matplotlib is the whole package; pylab is a module in matplotlib that gets installed alongside matplotlib; and matplotlib.pyplot is a module in matplotlib.\n",
    "* Pylab combines the pyplot functionality (for plotting) with the numpy functionality (for mathematics and for working with arrays) in a single namespace, making that namespace (or environment) even more MATLAB-like. For example, one can call the sin and cos functions just like you could in MATLAB, as well as having all the features of pyplot.\n",
    "* More details about `pylab,matpltlib,pyplot` [here](https://queirozf.com/entries/matplotlib-pylab-pyplot-etc-what-s-the-different-between-these)\n",
    "* `PyLab` is a convenience module that bulk imports `matplotlib.pyplot` (for plotting) and `NumPy` (for Mathematics and working with arrays) in a single name space. Although many examples use `PyLab`, it is **no longer recommended**. Use `pyplot` instead.\n",
    "\n",
    "- [Pylab Tutorial](#pylab-tutorial)\n",
    "- [Pyplot Tutorial](#pyplot-tutorial)\n"
   ]
  },
  {
   "cell_type": "markdown",
   "id": "64a3cd5d",
   "metadata": {},
   "source": [
    "## Pylab Tutorial\n",
    "- `plt.xlabel('xlabel')`, `plt.ylabel('ylabel')`, `plt.title('title')`\n",
    "- `plt.clf()` clean the window, `plt.ylim(0,1000)`, `plt.legend(loc = 'upper left')`, \n",
    "- Color/line style/line width similar to matlab plot\n",
    "- Subpot/axis scale similar to matlab plot\n",
    "- More documentation can be found from [here](https://www.kite.com/python/docs/pylab.plt.show)"
   ]
  },
  {
   "cell_type": "markdown",
   "id": "7d8b1c8f",
   "metadata": {},
   "source": [
    "### Basic Usage"
   ]
  },
  {
   "cell_type": "code",
   "execution_count": null,
   "id": "e71888ca",
   "metadata": {},
   "outputs": [],
   "source": [
    "# allows me to reference any library procedures as plt.<procName>\n",
    "import pylab as plt # plt -> plot, imported pylab into the name plt\n",
    "\n",
    "# generate some example data\n",
    "mySamples = []\n",
    "myLinear = []\n",
    "myQuadratic = []\n",
    "myCubic = []\n",
    "myExponential = []\n",
    "\n",
    "for i in range(0,30):\n",
    "    mySamples.append(i) # x values\n",
    "    myLinear.append(i) # y values　\n",
    "    myQuadratic.append(i**2)\n",
    "    myCubic.append(i**3)\n",
    "    myExponential.append(1.5**i)\n",
    "    \n",
    "# ALL PLOTS ON ONE GRAPH\n",
    "plt.plot(mySamples,myLinear) # x,y\n",
    "plt.plot(mySamples,myQuadratic)\n",
    "plt.plot(mySamples,myCubic)\n",
    "plt.plot(mySamples,myExponential)"
   ]
  },
  {
   "cell_type": "code",
   "execution_count": null,
   "id": "e3a0bd08",
   "metadata": {},
   "outputs": [],
   "source": [
    "import pylab\n",
    "xVals = [1, 2, 3, 4]\n",
    "yVals1 = [1, 2, 3, 4]\n",
    "pylab.plot(xVals, yVals1, 'b-', label = 'first')\n",
    "yVals2 = [1, 7, 3, 5]\n",
    "pylab.plot(xVals, yVals2, 'r--', label = 'second')\n",
    "pylab.legend()"
   ]
  },
  {
   "cell_type": "markdown",
   "id": "0baa8384",
   "metadata": {},
   "source": [
    "### Plot Multiple Figures and Labels"
   ]
  },
  {
   "cell_type": "code",
   "execution_count": null,
   "id": "95fd1f65",
   "metadata": {},
   "outputs": [],
   "source": [
    "# PLOTS ONSEPARATE GRAPHS / PROVIDEING LABELS\n",
    "plt.figure('lin')\n",
    "plt.xlabel('sample points') # labels\n",
    "plt.ylabel('linear function')\n",
    "plt.plot(mySamples,myLinear) \n",
    "\n",
    "plt.figure('quad')\n",
    "plt.plot(mySamples,myQuadratic)\n",
    "\n",
    "plt.figure('cube')\n",
    "plt.xlabel('sample points')\n",
    "plt.ylabel('cubic function')\n",
    "plt.plot(mySamples,myCubic)\n",
    "\n",
    "plt.figure('expo')\n",
    "plt.xlabel('sample points')\n",
    "plt.ylabel('exponential function')\n",
    "plt.plot(mySamples,myExponential)\n",
    "\n",
    "plt.figure('quad') # open the quad figure and we add label inside of it\n",
    "plt.xlabel('sample points')\n",
    "plt.ylabel('quadratic function')"
   ]
  },
  {
   "cell_type": "markdown",
   "id": "978a4cd2",
   "metadata": {},
   "source": [
    "### Titles and Scales"
   ]
  },
  {
   "cell_type": "code",
   "execution_count": null,
   "id": "d32e4787",
   "metadata": {},
   "outputs": [],
   "source": [
    "# ADDING TITLES/ CHANGE SCALES\n",
    "plt.figure('lin')\n",
    "plt.clf() # clear the previous windows, such as x, y labels\n",
    "plt.ylim(0,1000) # set limits on the axis or axes\n",
    "plt.plot(mySamples,myLinear) \n",
    "plt.title('Linear')\n",
    "\n",
    "plt.figure('quad')\n",
    "plt.clf()\n",
    "plt.ylim(0,1000)\n",
    "plt.plot(mySamples,myQuadratic)\n",
    "plt.title('Quadratic')\n",
    "\n",
    "plt.figure('cube')\n",
    "plt.clf()\n",
    "plt.plot(mySamples,myCubic)\n",
    "plt.title('Cubic')\n",
    "\n",
    "plt.figure('expo')\n",
    "plt.clf()\n",
    "plt.plot(mySamples,myExponential)\n",
    "plt.title('Exponential')"
   ]
  },
  {
   "cell_type": "markdown",
   "id": "15eb570f",
   "metadata": {},
   "source": [
    "### More Options (color/label/title/legend/linewidth...)"
   ]
  },
  {
   "cell_type": "code",
   "execution_count": null,
   "id": "d0f3af43",
   "metadata": {},
   "outputs": [],
   "source": [
    "# OVERLAYING PLOTS/ ADD LABELS / COLOR AND STYLE / LINE WIDETH\n",
    "# very similar to matlab, see documentation for choices of color and style\n",
    "plt.figure('lin quad')\n",
    "plt.clf()\n",
    "plt.plot(mySamples,myLinear,'b-',label = 'linear', linewidth=2.0) # add legend\n",
    "plt.plot(mySamples,myQuadratic,'ro', label = 'quadratic', linewidth=3.0)\n",
    "plt.yscale('log') # change to log scale\n",
    "plt.legend(loc = 'upper left') # specify label location\n",
    "plt.title('Linear vs. Quadratic')\n",
    " \n",
    "plt.figure('cube exp')\n",
    "plt.clf()\n",
    "plt.plot(mySamples,myCubic,'g^',label = 'cubic', linewidth=4.0 )\n",
    "plt.plot(mySamples,myExponential,'r--', label = 'exponential', linewidth=5.0)\n",
    "plt.legend() # let python decides what is the best location, necessary\n",
    "plt.title('Cubic vs. Exponential')"
   ]
  },
  {
   "cell_type": "markdown",
   "id": "c3287ac6",
   "metadata": {},
   "source": [
    "### Subplots"
   ]
  },
  {
   "cell_type": "code",
   "execution_count": null,
   "id": "cd4425bf",
   "metadata": {},
   "outputs": [],
   "source": [
    "# USING SUBPLOTS\n",
    "plt.figure('lin quad')\n",
    "plt.clf()\n",
    "plt.subplot(211) # 2 rows 1 column 1st location\n",
    "plt.ylim(0,900)\n",
    "plt.plot(mySamples,myLinear,'b-',label = 'linear', linewidth=2.0) # add legend\n",
    "plt.subplot(212)\n",
    "plt.ylim(0,900)\n",
    "plt.plot(mySamples,myQuadratic,'ro', label = 'quadratic', linewidth=3.0)\n",
    "plt.legend(loc = 'upper left') # specify label location\n",
    "plt.title('Linear vs. Quadratic')\n",
    " \n",
    "\n",
    "plt.figure('cube exp')\n",
    "plt.clf()\n",
    "plt.subplot(121) # 1 row 2 columns 1st location\n",
    "plt.ylim(0,140000)\n",
    "plt.plot(mySamples,myCubic,'g^',label = 'cubic', linewidth=4.0 )\n",
    "plt.subplot(122)\n",
    "plt.ylim(0,140000)\n",
    "plt.plot(mySamples,myExponential,'r--', label = 'exponential', linewidth=5.0)\n",
    "plt.legend() # let python decides what is the best location, necessary\n",
    "plt.title('Cubic vs. Exponential')"
   ]
  },
  {
   "cell_type": "markdown",
   "id": "75823623",
   "metadata": {},
   "source": [
    "### A Complete Example"
   ]
  },
  {
   "cell_type": "code",
   "execution_count": null,
   "id": "d95b2ada",
   "metadata": {},
   "outputs": [],
   "source": [
    "\"\"\"\n",
    "AN EXAMPLE\n",
    "\"\"\"\n",
    "def retire(monthly,rate, terms):\n",
    "    savings = [0]\n",
    "    base = [0]\n",
    "    mRate = rate/12\n",
    "    for i in range(terms):\n",
    "        base += [i] # addition in list\n",
    "        savings += [savings[-1]*(1+mRate)+monthly]\n",
    "    return base, savings # returning two elements\n",
    "\n",
    "# constant rate, varying monthlies\n",
    "def displayRetireWMonthlies(monthlies, rate, terms):\n",
    "    plt.figure('retireMonth')\n",
    "    plt.clf() # clear frame for reuse\n",
    "    for monthly in monthlies:\n",
    "        xvals, yvals = retire(monthly, rate, terms)\n",
    "        plt.plot(xvals, yvals, label = 'retire:'+str(monthly))\n",
    "        plt.legend(loc = 'upper left')\n",
    "\n",
    "displayRetireWMonthlies([500,600,700,800,900,1000,1100], 0.05, 40*12)\n",
    "\n",
    "# constant monthly, varying rates\n",
    "def displayRetireWRates(month, rates, terms):\n",
    "    plt.figure('retireRate')\n",
    "    plt.clf() # clear frame for reuse\n",
    "    for rate in rates:\n",
    "        xvals, yvals = retire(month, rate, terms)\n",
    "        plt.plot(xvals, yvals, label = 'retire:'+str(month)+ ':'+str(int(rate*100)))\n",
    "        plt.legend(loc = 'upper left')\n",
    "        \n",
    "displayRetireWRates(800,[.03, .05, .07], 40*12)\n",
    "\n",
    "\n",
    "def displayRetireWMonthsAndRates(monthlies, rates, terms):\n",
    "    plt.figure('retireBoth')\n",
    "    plt.clf()\n",
    "    plt.xlim(30*12, 40*12) # focus on last 10 years\n",
    "    # we can use in Matlab plot\n",
    "    monthLabels = ['r','b','g','k'] \n",
    "    rateLabels = ['-','o','--']\n",
    "    for i in range(len(monthlies)):\n",
    "        monthly = monthlies[i]\n",
    "        monthLabel = monthLabels[i%len(monthLabels)] # nice trick, remainder func cycle those labels\n",
    "        for j in range(len(rates)):\n",
    "            rate = rates[j]\n",
    "            rateLabel = rateLabels[j%len(rateLabels)]\n",
    "            xvals, yvals = retire(monthly, rate, terms)\n",
    "            plt.plot(xvals,yvals, monthLabel+rateLabel, label = 'retire:'+str(monthly)+ ':'+str(int(rate*100)))\n",
    "            plt.legend(loc = 'upper left')\n",
    "            \n",
    "displayRetireWMonthsAndRates([500,700,900,1100],[.03, .05, .07], 40*12)"
   ]
  },
  {
   "cell_type": "markdown",
   "id": "f674f64c",
   "metadata": {},
   "source": [
    "## Pyplot Tutorial\n",
    "- The most commonly-used [matplotlib](https://matplotlib.org/) plotting module\n",
    "- A useful tutorial is given [here](https://matplotlib.org/stable/tutorials/introductory/pyplot.html) and [here](https://www.tutorialspoint.com/matplotlib/index.htm). This [document](https://matplotlib.org/2.0.2/api/pyplot_api.html) provides descriptions about all functions in `pyplot`\n",
    "- Other useful documentations include [here](https://matplotlib.org/stable/api/pyplot_summary.html)\n",
    "- Another usful [Pyplot turotial](https://matplotlib.org/3.5.1/tutorials/introductory/pyplot.html#sphx-glr-tutorials-introductory-pyplot-py)"
   ]
  },
  {
   "cell_type": "markdown",
   "id": "f6140648",
   "metadata": {},
   "source": [
    "### 2D Plot\n",
    "- The most important function in matplotlib is `plot`, which allows you to plot 2D data."
   ]
  },
  {
   "cell_type": "code",
   "execution_count": null,
   "id": "2c6124ea",
   "metadata": {},
   "outputs": [],
   "source": [
    "import numpy as np\n",
    "import matplotlib.pyplot as plt\n",
    "\n",
    "# Compute the x and y coordinates for points on a sine curve\n",
    "x = np.arange(0, 3 * np.pi, 0.1)\n",
    "y = np.sin(x)\n",
    "\n",
    "# Plot the points using matplotlib\n",
    "plt.plot(x, y)\n",
    "plt.show()  # You must call plt.show() to make graphics appear."
   ]
  },
  {
   "cell_type": "code",
   "execution_count": null,
   "id": "8ebf4017",
   "metadata": {},
   "outputs": [],
   "source": [
    "import numpy as np\n",
    "import matplotlib.pyplot as plt\n",
    "# x1 = [1,2,3,4] # this plotting code still works with list (no need to use numpy)\n",
    "# y1 = [1,2,3,4]\n",
    "x1 = np.array([1,2,3,4])\n",
    "y1 = np.array([1,2,3,4])\n",
    "plt.plot(x1,y1,'b-', label = 'First')\n",
    "y2 = np.array([1,7,3,5])\n",
    "plt.plot(x1,y2,'r--',label = 'Second')\n",
    "plt.show\n",
    "plt.legend() # alternatively, plt.legend(['Sine', 'Cosine']), we can use this"
   ]
  },
  {
   "cell_type": "markdown",
   "id": "78d1dce2",
   "metadata": {},
   "source": [
    "### Titles, Axis Labels, Legends"
   ]
  },
  {
   "cell_type": "code",
   "execution_count": null,
   "id": "46dfe7ba",
   "metadata": {},
   "outputs": [],
   "source": [
    "import numpy as np\n",
    "import matplotlib.pyplot as plt\n",
    "\n",
    "# Compute the x and y coordinates for points on sine and cosine curves\n",
    "x = np.arange(0, 3 * np.pi, 0.1)\n",
    "y_sin = np.sin(x)\n",
    "y_cos = np.cos(x)\n",
    "\n",
    "# Plot the points using matplotlib\n",
    "plt.plot(x, y_sin)\n",
    "plt.plot(x, y_cos)\n",
    "plt.xlabel('x axis label')\n",
    "plt.ylabel('y axis label')\n",
    "plt.title('Sine and Cosine')\n",
    "plt.legend(['Sine', 'Cosine'])\n",
    "plt.show()"
   ]
  },
  {
   "cell_type": "markdown",
   "id": "16d5d007",
   "metadata": {},
   "source": [
    "### Subplots \n",
    "- You can plot different things in the same figure using the `subplot` function."
   ]
  },
  {
   "cell_type": "code",
   "execution_count": null,
   "id": "a3dbd0d3",
   "metadata": {},
   "outputs": [],
   "source": [
    "import numpy as np\n",
    "import matplotlib.pyplot as plt\n",
    "\n",
    "# Compute the x and y coordinates for points on sine and cosine curves\n",
    "x = np.arange(0, 3 * np.pi, 0.1)\n",
    "y_sin = np.sin(x)\n",
    "y_cos = np.cos(x)\n",
    "\n",
    "# Set up a subplot grid that has height 2 and width 1,\n",
    "# and set the first such subplot as active.\n",
    "plt.subplot(2, 1, 1)\n",
    "\n",
    "# Make the first plot\n",
    "plt.plot(x, y_sin)\n",
    "plt.title('Sine')\n",
    "\n",
    "# Set the second subplot as active, and make the second plot.\n",
    "plt.subplot(2, 1, 2)\n",
    "plt.plot(x, y_cos)\n",
    "plt.title('Cosine')\n",
    "\n",
    "# Show the figure.\n",
    "plt.show()"
   ]
  },
  {
   "cell_type": "markdown",
   "id": "f79917b9",
   "metadata": {},
   "source": [
    "### Plot Tables\n",
    "- More examples can be found from [here](https://www.pythonpool.com/matplotlib-table/)"
   ]
  },
  {
   "cell_type": "code",
   "execution_count": null,
   "id": "8d54517a",
   "metadata": {},
   "outputs": [],
   "source": [
    "import numpy as np\n",
    "import matplotlib.pyplot as plt\n",
    "\n",
    "\n",
    "fig, axs =plt.subplots(2,1)\n",
    "clust_data = np.random.random((10,3))\n",
    "collabel=(\"col 1\", \"col 2\", \"col 3\")\n",
    "axs[0].axis('tight')\n",
    "axs[0].axis('off')\n",
    "the_table = axs[0].table(cellText=clust_data,colLabels=collabel,loc='center')\n",
    "\n",
    "axs[1].plot(clust_data[:,0],clust_data[:,1])\n",
    "plt.show()"
   ]
  },
  {
   "cell_type": "markdown",
   "id": "2e47fc9a",
   "metadata": {},
   "source": [
    "# Knapsack Problems\n",
    "Using computation to help understand the world in which we live. Three computational models: **Optimization models**, **statistical models**. **simulation models**.\n",
    "\n",
    "- [Greedy Algorithm](#greedy-algorithm)\n",
    "- [Brute Force Algorithm](#brute-force-algorithm)\n",
    "- [Dynamic Programming ](#dynamic-programming)"
   ]
  },
  {
   "cell_type": "markdown",
   "id": "f095aa2f",
   "metadata": {},
   "source": [
    "## Knapsack Problem\n",
    "Optimization model: objective function (min or max sth), a set of constraints (e.g. budget)\n",
    "1. Knapsak problem (conceptual idea): store the most valuable stuff in you knapsack (backpack). \n",
    "2. Two variants: 0/1 knapsack probelm (more complicated) and continuous/fractional problem (easy to solve)"
   ]
  },
  {
   "cell_type": "markdown",
   "id": "caf8d89d",
   "metadata": {},
   "source": [
    "## Greedy Algorithm\n",
    "Greedy Algorithm: while knapsack not full: put \"best\" available item in kanpsack1. How do you define **best** available item? \n",
    "1. Complexity is O(n) (for loop) + O(nlog(n))(merge sort algorithm) = O(nlog(n)). This is algorithm is very efficient. \n",
    "2. Greedy algorithms choose `locally optimal` path and dont always yield a `globally optimal` solution. \n",
    "3. **Pros of Greedy**\n",
    "    1. Easy to implement\n",
    "    2. Computationally efficient\n",
    "4. **Cons of Greedy**\n",
    "    1. Does not always yield the best solution （we do not even know how close to the optimum is）"
   ]
  },
  {
   "cell_type": "code",
   "execution_count": null,
   "id": "354818b9",
   "metadata": {},
   "outputs": [],
   "source": [
    "# food class\n",
    "class Food(object):\n",
    "    def __init__(self, n, v, w):\n",
    "        self.name = n # name of the food\n",
    "        self.value = v # value of the food (objective)\n",
    "        self.calories = w # calorine of the food (constraint)\n",
    "    \n",
    "    # getters\n",
    "    def getValue(self):\n",
    "        return self.value\n",
    "\n",
    "    def getCost(self):\n",
    "        return self.calories\n",
    "\n",
    "    def density(self): # density of value/cost\n",
    "        return self.getValue()/self.getCost()\n",
    "\n",
    "    def __str__(self): # special string printing function \n",
    "        return self.name + ': <' + str(self.value)\\\n",
    "                 + ', ' + str(self.calories) + '>'"
   ]
  },
  {
   "cell_type": "code",
   "execution_count": null,
   "id": "cb062475",
   "metadata": {},
   "outputs": [],
   "source": [
    "# Function takes a list of names, values, calorines of equal length\n",
    "# to build menu list\n",
    "def buildMenu(names, values, calories):\n",
    "    \"\"\"names, values, calories lists of same length.\n",
    "       name a list of strings\n",
    "       values and calories lists of numbers\n",
    "       returns list of Foods\"\"\"\n",
    "    menu = [] # empty list\n",
    "    for i in range(len(values)):\n",
    "        menu.append(Food(names[i], values[i],\n",
    "                          calories[i]))\n",
    "    return menu # menu is a list contains instance element"
   ]
  },
  {
   "cell_type": "code",
   "execution_count": null,
   "id": "8505c268",
   "metadata": {},
   "outputs": [],
   "source": [
    "# Implementation of Flexible Greedy Algorithm\n",
    "# keyFunction is used to sort items from best to worst, keyfunction to define what is my best\n",
    "# Complexity is O(n)(for loop) + O(nlog(n))(merge sort algorithm) = O(nlog(n))\n",
    "def greedy(items, maxCost, keyFunction):\n",
    "    \"\"\"Assumes items a list, maxCost >= 0,\n",
    "         keyFunction maps elements of items to numbers\"\"\"\n",
    "    # use sorted here instead of sort function to avoid touch the original item list (mutable)\n",
    "    itemsCopy = sorted(items, key = keyFunction, # itemscopy and items are lists with instances as elements\n",
    "                       reverse = True) # sort items based on keyFunction from best to worst O(nlog n)\n",
    "    result = [] # empty list\n",
    "    totalValue, totalCost = 0.0, 0.0\n",
    "    for i in range(len(itemsCopy)): # O(n)\n",
    "        if (totalCost+itemsCopy[i].getCost()) <= maxCost: # test constraints\n",
    "            result.append(itemsCopy[i])\n",
    "            totalCost += itemsCopy[i].getCost() # update total cost\n",
    "            totalValue += itemsCopy[i].getValue() # update total value\n",
    "    return (result, totalValue) # return a tuple with reuslt(list) and totalvalue(float) "
   ]
  },
  {
   "cell_type": "code",
   "execution_count": null,
   "id": "b3c60fa0",
   "metadata": {},
   "outputs": [],
   "source": [
    "# Use the greedy algorithm\n",
    "def testGreedy(items, constraint, keyFunction):\n",
    "    taken, val = greedy(items, constraint, keyFunction) # taken = result, val = totalValue\n",
    "    print('Total value of items taken =', val)\n",
    "    for item in taken:\n",
    "        print('   ', item)"
   ]
  },
  {
   "cell_type": "code",
   "execution_count": null,
   "id": "fe1f3cee",
   "metadata": {},
   "outputs": [],
   "source": [
    "# Another way of using the greedy algorithm\n",
    "# foods=items is list of instances, maxiUnit (max calorine) = constraints \n",
    "# Test all three greedy algorithms\n",
    "def testGreedys(foods, maxUnits):\n",
    "\n",
    "    # Here Food.getValue is the keyFunction we use to sort the foods\n",
    "    print('Use greedy by value to allocate', maxUnits,\n",
    "          'calories')\n",
    "    # call the greedy algortihm\n",
    "    testGreedy(foods, maxUnits, Food.getValue) \n",
    "\n",
    "    # Sort by 1/Food.getCost(x) with anonymous function name\n",
    "    print('\\nUse greedy by cost to allocate', maxUnits,\n",
    "          'calories')\n",
    "    testGreedy(foods, maxUnits,\n",
    "               lambda x: 1/Food.getCost(x)) # lambda function is used here, x is an instance(object)\n",
    "    \n",
    "    # Sort by food density (Food.density) \n",
    "    print('\\nUse greedy by density to allocate', maxUnits,\n",
    "          'calories')\n",
    "    testGreedy(foods, maxUnits, Food.density)"
   ]
  },
  {
   "cell_type": "code",
   "execution_count": null,
   "id": "5c78756d",
   "metadata": {},
   "outputs": [],
   "source": [
    "# Data for greddy algorithms (food names, values, calories with same length)\n",
    "names = ['wine', 'beer', 'pizza', 'burger', 'fries',\n",
    "         'cola', 'apple', 'donut', 'cake']\n",
    "values = [89,90,95,100,90,79,50,10]\n",
    "calories = [123,154,258,354,365,150,95,195]\n",
    "\n",
    "# call the buildMenu function, returns a foods list with each element an instance of the Food class (data, methods)\n",
    "foods = buildMenu(names, values, calories)\n",
    "\n",
    "# we pass the foods, and the maximum calorie 1000\n",
    "testGreedys(foods, 1000)"
   ]
  },
  {
   "cell_type": "markdown",
   "id": "f33ce973",
   "metadata": {},
   "source": [
    "### lambda expression\n",
    "1. Used to create anonymous (no name) fucntions. \n",
    "    1. `lambda <id1,id2,...,idn> <expression>`, id means identifier \n",
    "    2. returns a function of n arguments\n",
    "2. Can be very handy, A [lambda function](https://www.w3schools.com/python/python_lambda.asp) is a small anonymous function. A lambda function can take any number of arguments, but can only have one expression.\n",
    "3. Possible to write amazing complicated lambda expressions (Don's use `def` instead)\n",
    "4. The power of lambda is better shown when you use them as an anonymous function inside another function.\n",
    "5. If the `lambda` does not fit in a single line, we can just write a function (easier for debugging). "
   ]
  },
  {
   "cell_type": "code",
   "execution_count": null,
   "id": "3a0e610d",
   "metadata": {},
   "outputs": [],
   "source": [
    "# single/double/triple identifiers\n",
    "x = lambda a : a + 10 # a function x with input a output a+10 \n",
    "print(x(5)) # 15\n",
    "\n",
    "x = lambda a, b : a * b\n",
    "print(x(5, 6)) # 30\n",
    "\n",
    "x = lambda a, b, c : a + b + c\n",
    "print(x(5, 6, 2)) #13\n",
    "\n",
    "# A function returns an lambda expression\n",
    "def myfunc(n):\n",
    "  return lambda a : a * n\n",
    "\n",
    "# call the function\n",
    "mydoubler = myfunc(2)\n",
    "\n",
    "print(mydoubler(11)) # 22"
   ]
  },
  {
   "cell_type": "markdown",
   "id": "6049470f",
   "metadata": {},
   "source": [
    "### Sorted Function \n",
    "1. The [sorted()](https://www.w3schools.com/python/ref_func_sorted.asp) function returns a sorted list of the specified iterable object. You can specify ascending or descending order. Strings are sorted alphabetically, and numbers are sorted numerically.\n",
    "2. Note: You cannot sort a list that contains BOTH string values AND numeric values.\n",
    "3. `sorted(iterable, key=key, reverse=reverse)`, note `.sort()` is mutable, we usually use `sorted()`. \n",
    "    1. `iterable`, \tRequired. The sequence to sort, list, dictionary, tuple etc.\n",
    "    2. `key`, Optional. A Function to execute to decide the order. Default is None\n",
    "    3. `reverse`, Optional. A Boolean. False will sort ascending, True will sort descending. Default is False"
   ]
  },
  {
   "cell_type": "code",
   "execution_count": null,
   "id": "949f3e6b",
   "metadata": {},
   "outputs": [],
   "source": [
    "# sorted ascending\n",
    "a = (1, 11, 2)\n",
    "x = sorted(a)\n",
    "print(x)\n",
    "\n",
    "a = (\"h\", \"b\", \"a\", \"c\", \"f\", \"d\", \"e\", \"g\")\n",
    "x = sorted(a)\n",
    "print(x)\n",
    "\n",
    "# sorted descending\n",
    "a = (\"h\", \"b\", \"a\", \"c\", \"f\", \"d\", \"e\", \"g\")\n",
    "x = sorted(a, reverse=True)\n",
    "print(x)"
   ]
  },
  {
   "cell_type": "code",
   "execution_count": null,
   "id": "277f7406",
   "metadata": {},
   "outputs": [],
   "source": [
    "# student class\n",
    "class Student:\n",
    "     def __init__(self, name, grade, age):\n",
    "        self.name = name\n",
    "        self.grade = grade\n",
    "        self.age = age\n",
    "     def __repr__(self):\n",
    "         return repr((self.name, self.grade, self.age))\n",
    "\n",
    "# student list with Student instance as its elements\n",
    "student_objects = [\n",
    "    Student('john', 'A', 15),\n",
    "    Student('jane', 'B', 12),\n",
    "    Student('dave', 'B', 10), ]\n",
    "\n",
    "# sort by age with lambda expression, in ascedning order\n",
    "sorted(student_objects, key=lambda student: student.age) \n",
    "\n",
    "# [('dave', 'B', 10), ('jane', 'B', 12), ('john', 'A', 15)]"
   ]
  },
  {
   "cell_type": "markdown",
   "id": "02045799",
   "metadata": {},
   "source": [
    "## Brute Force Algorithm\n",
    "\n",
    "1. enumerate all possible combinations of items.\n",
    "2. Then remove all of the combinations whose total units exceeds the allowed weight, \n",
    "3. and from the remanining combinations choose any one whose value is the largest. **(This method is often not practical)**"
   ]
  },
  {
   "cell_type": "markdown",
   "id": "6557c453",
   "metadata": {},
   "source": [
    "### Search Tree Implementation\n",
    "1. The tree is built top down starting with the root (left-most, depth-most)\n",
    "2. The first element is selected from the still to be considered items. (Left child and right child)\n",
    "3. The process is then applied recursively to non-leaf children \n",
    "4. Finally, chose a node with the highest value that meets constarints\n",
    "5. More details about search tree can be found from [wiki](https://en.wikipedia.org/wiki/Search_tree) \n",
    "6. Take or not-take. \n",
    "7. Complexity: O(2^(n+1))"
   ]
  },
  {
   "cell_type": "code",
   "execution_count": null,
   "id": "b3d607f3",
   "metadata": {},
   "outputs": [],
   "source": [
    "def maxVal(toConsider, avail):\n",
    "    \"\"\"Assumes toConsider a list of items, avail a weight\n",
    "       Returns a tuple of the total value of a solution to the\n",
    "         0/1 knapsack problem and the items of that solution\"\"\"\n",
    "    if toConsider == [] or avail == 0: # if empty, avail means the available room in backpack\n",
    "        result = (0, ())\n",
    "    elif toConsider[0].getCost() > avail: # if not empty, consider the 1st element\n",
    "        # Explore right branch only since we know the left item is too heavy to put in the backpack\n",
    "        result = maxVal(toConsider[1:], avail) # recursion happens here \n",
    "    else:\n",
    "        nextItem = toConsider[0] # if the first item is not too heavy, we take the first branch\n",
    "        # Explore left branch \n",
    "        withVal, withToTake = maxVal(toConsider[1:],\n",
    "                                     avail - nextItem.getCost()) # consider everything except the current element\n",
    "        withVal += nextItem.getValue() # get total value\n",
    "        # Explore right branch (check the sreach tree on lecture notes to get more intuitive)\n",
    "        withoutVal, withoutToTake = maxVal(toConsider[1:], avail)\n",
    "\n",
    "        # Choose better branch\n",
    "        if withVal > withoutVal:\n",
    "            result = (withVal, withToTake + (nextItem,))\n",
    "        else:\n",
    "            result = (withoutVal, withoutToTake)\n",
    "    return result"
   ]
  },
  {
   "cell_type": "code",
   "execution_count": null,
   "id": "5afccccc",
   "metadata": {},
   "outputs": [],
   "source": [
    "# Simple function tests the maxVal function\n",
    "def testMaxVal(foods, maxUnits, printItems = True):\n",
    "    print('Use search tree to allocate', maxUnits,\n",
    "          'calories')\n",
    "    val, taken = maxVal(foods, maxUnits)\n",
    "    print('Total value of items taken =', val)\n",
    "    if printItems:\n",
    "        for item in taken:\n",
    "            print('   ', item)"
   ]
  },
  {
   "cell_type": "code",
   "execution_count": null,
   "id": "a7264c1b",
   "metadata": {},
   "outputs": [],
   "source": [
    "names = ['wine', 'beer', 'pizza', 'burger', 'fries',\n",
    "         'cola', 'apple', 'donut', 'cake']\n",
    "values = [89,90,95,100,90,79,50,10]\n",
    "calories = [123,154,258,354,365,150,95,195]\n",
    "foods = buildMenu(names, values, calories) \n",
    "\n",
    "testGreedys(foods, 750)\n",
    "print('')\n",
    "# Gives The true optimal solution and run quickly \n",
    "# may suffer from very bigger manu\n",
    "testMaxVal(foods, 750) "
   ]
  },
  {
   "cell_type": "markdown",
   "id": "f5020c12",
   "metadata": {},
   "source": [
    "### Search Tree with Large Menu\n",
    "1. [random](https://docs.python.org/3/library/random.html) library: `random.randint(a,b)` generates a random integer in between a and b.\n",
    "2. it takes a lot of time with 45 items (Seems 45 items is the limit here!)\n",
    "3. What to do Next? Dynamic Programming to the rescue! "
   ]
  },
  {
   "cell_type": "code",
   "execution_count": null,
   "id": "bbb01eb5",
   "metadata": {},
   "outputs": [],
   "source": [
    "# use random library to generate large menu\n",
    "import random\n",
    "def buildLargeMenu(numItems, maxVal, maxCost):\n",
    "    # number of items, max value, max cost\n",
    "    items = [] # empty item list\n",
    "    for i in range(numItems):\n",
    "        items.append(Food(str(i),\n",
    "                          random.randint(1, maxVal),\n",
    "                          random.randint(1, maxCost)))\n",
    "    return items"
   ]
  },
  {
   "cell_type": "code",
   "execution_count": null,
   "metadata": {},
   "outputs": [],
   "source": [
    "# generate items from 5 to 45 (large menu) and try the search algorithm\n",
    "# it takes a lot of time with 45 items (Seems 45 items is the limit here!)\n",
    "#for numItems in (5, 10, 15, 20, 25, 30, 35, 40, 45):\n",
    "    #print('Try a menu with', numItems, 'items')\n",
    "    #items = buildLargeMenu(numItems, 90, 250)\n",
    "    #testMaxVal(items, 750, False)  "
   ]
  },
  {
   "cell_type": "markdown",
   "id": "1ca605c7",
   "metadata": {},
   "source": [
    "## Dynamic Programming \n",
    "1.  It is just a **name** invented by Richard Bellman (a bit histroy here) to hide the fact that he was doing mathematical research.\n",
    "2. When does it work?\n",
    "    1. a globally optimal solution can be found by combining optimal solutions to local subproblems (`fib(x)=fib(x-1)+fib(x-2）`, and optimal control problems)\n",
    "    2. finding an optimal solution involves solving the same problem multiple times (fib numbers)"
   ]
  },
  {
   "cell_type": "markdown",
   "id": "92c53c42",
   "metadata": {},
   "source": [
    "### Recursive Implementation of Fibonnaci Numbers\n",
    "1. Very slow with the recursive function defined above. \n",
    "2. fib(120) is not that big!!!"
   ]
  },
  {
   "cell_type": "code",
   "execution_count": null,
   "id": "9b6a89aa",
   "metadata": {},
   "outputs": [],
   "source": [
    "def fib(n):\n",
    "    if n == 0 or n == 1:\n",
    "        return 1\n",
    "    else:\n",
    "        return fib(n - 1) + fib(n - 2)"
   ]
  },
  {
   "cell_type": "code",
   "execution_count": null,
   "id": "cf2b04df",
   "metadata": {},
   "outputs": [],
   "source": [
    "# Very slow with the recursive function defined above. \n",
    "# fib(120) is not that big!!!\n",
    "#for i in range(121):\n",
    "    #print('fib(' + str(i) + ') =', fib(i))"
   ]
  },
  {
   "cell_type": "markdown",
   "id": "79b944bd",
   "metadata": {},
   "source": [
    "### Fast Fibonnaci Numbers\n",
    "1. store the answer and look it up when you need it (`basic trick hehind dynamic programming`).\n",
    "2. `Memorization`: you create a memo and you store a table of what we have done in the memo."
   ]
  },
  {
   "cell_type": "code",
   "execution_count": null,
   "id": "71a52db5",
   "metadata": {},
   "outputs": [],
   "source": [
    "# This code is way faster than the normal fibonnaci implementation\n",
    "def fastFib(n, memo = {}): # memo initially is an empty dictionary\n",
    "    \"\"\"Assumes n is an int >= 0, memo used only by recursive calls\n",
    "       Returns Fibonacci of n\"\"\"\n",
    "    if n == 0 or n == 1:\n",
    "        return 1\n",
    "    try:\n",
    "        return memo[n] # tries to find fibo in the memo\n",
    "    except KeyError: # if not compute the fibo number\n",
    "        result = fastFib(n-1, memo) + fastFib(n-2, memo)\n",
    "        memo[n] = result\n",
    "        return result"
   ]
  },
  {
   "cell_type": "code",
   "execution_count": null,
   "id": "efa2f21d",
   "metadata": {},
   "outputs": [],
   "source": [
    "for i in range(121):\n",
    "    print('fib(' + str(i) + ') =', fastFib(i))"
   ]
  },
  {
   "cell_type": "markdown",
   "id": "4cac5b44",
   "metadata": {},
   "source": [
    "### Dynamic Programming for Knapsack Problems\n",
    "1. use `memo` to store the cases we have already done (look-up table). "
   ]
  },
  {
   "cell_type": "code",
   "execution_count": null,
   "id": "5c2ea373",
   "metadata": {},
   "outputs": [],
   "source": [
    "# Include a memo dictionary for storing evaluated cases\n",
    "# The key of the tuple is a tuple: (itemstobe considered, the available weight)\n",
    "# item left to be considered represent by len(toConsider)\n",
    "def fastMaxVal(toConsider, avail, memo = {}):\n",
    "    \"\"\"Assumes toConsider a list of subjects, avail a weight\n",
    "         memo supplied by recursive calls\n",
    "       Returns a tuple of the total value of a solution to the\n",
    "         0/1 knapsack problem and the subjects of that solution\"\"\"\n",
    "    if (len(toConsider), avail) in memo: # just lookup in the memo\n",
    "        result = memo[(len(toConsider), avail)]\n",
    "    elif toConsider == [] or avail == 0: # empty items or no weight room\n",
    "        result = (0, ()) # nest tuples\n",
    "    elif toConsider[0].getCost() > avail: # value constraints not satisfied\n",
    "        #Explore right branch only\n",
    "        result = fastMaxVal(toConsider[1:], avail, memo)\n",
    "    else:\n",
    "        # Check the search tree from Lecture 2 for visualization\n",
    "        nextItem = toConsider[0] # choose the 1st item, food instance\n",
    "        #Explore left branch\n",
    "        withVal, withToTake =\\\n",
    "                 fastMaxVal(toConsider[1:],\n",
    "                            avail - nextItem.getCost(), memo) # do the recursive function\n",
    "        withVal += nextItem.getValue()\n",
    "        #Explore right branch\n",
    "        withoutVal, withoutToTake = fastMaxVal(toConsider[1:],\n",
    "                                                avail, memo)\n",
    "        #Choose better branch\n",
    "        if withVal > withoutVal:\n",
    "            result = (withVal, withToTake + (nextItem,))\n",
    "        else:\n",
    "            result = (withoutVal, withoutToTake)\n",
    "\n",
    "    memo[(len(toConsider), avail)] = result # update the memo dictionary\n",
    "    return result"
   ]
  },
  {
   "cell_type": "code",
   "execution_count": null,
   "id": "dd096f9c",
   "metadata": {},
   "outputs": [],
   "source": [
    "# Pass the food list, constraint max-units, and choose the algorithm, default printItem is true \n",
    "def testMaxVal(foods, maxUnits, algorithm, printItems = True):\n",
    "    print('Menu contains', len(foods), 'items')\n",
    "    print('Use search tree to allocate', maxUnits,\n",
    "          'calories')\n",
    "    val, taken = algorithm(foods, maxUnits)\n",
    "    if printItems:\n",
    "        print('Total value of items taken =', val)\n",
    "        for item in taken:\n",
    "            print('   ', item)"
   ]
  },
  {
   "cell_type": "code",
   "execution_count": null,
   "id": "9529f07e",
   "metadata": {},
   "outputs": [],
   "source": [
    "for numItems in (5, 10, 15, 20, 25, 30, 35, 40, 45, 50):\n",
    "    items = buildLargeMenu(numItems, 90, 250) # num of items, max value, max cost, create menu using random function\n",
    "    testMaxVal(items, 750, fastMaxVal, True)"
   ]
  },
  {
   "cell_type": "markdown",
   "id": "e7ff023d",
   "metadata": {},
   "source": [
    "## The Roll-Over Optimization Problem\n",
    "\n",
    "1. `score = (60-(a+b+c+d+e))*F+ a*ps1 + b*ps2 + c*ps3 + d*ps4 + e*ps5`\n",
    "2. Objective: \n",
    "    1. Given values for F, ps1, ps2, ps3, ps4, ps5\n",
    "    2. Find values for a,b,c,d,e that maximize score\n",
    "3. Constraints:\n",
    "    1. a,b,c,d,e are each 10 or 0 (**integer constraint**)\n",
    "    2. a+b+c+d+e>= 20\n",
    "4. This is just a combinatorial problem. \n",
    "5. We can solve this using recursive functions."
   ]
  },
  {
   "cell_type": "code",
   "execution_count": null,
   "id": "7507eeda",
   "metadata": {},
   "outputs": [],
   "source": [
    "# Need to be solved later! "
   ]
  },
  {
   "cell_type": "markdown",
   "id": "23bf65ae",
   "metadata": {},
   "source": [
    "# Graph Optimization Problems\n",
    "\n",
    "1. Now we want to look at class of models called graphs\n",
    "    1. Nodes, edges (directed/undirected/weighted/unweighted)\n",
    "2. Why graphs?\n",
    "    1. To capture useful relationships among entities (e.g. rail links between paris and london)\n",
    "3. A special kind of directed graph in which any pair of nodes is connected by a single path (`tree`)\n",
    "    1. `Search tree` to solve knapsack problem\n",
    "    2. root on the top, leaves on the bottom\n",
    "4. Why graphs are useful? \n",
    "    1. computer networks\n",
    "    2. Transportation networks\n",
    "    3. Finding sequences of links between elements\n",
    "    4. shortest path problem\n",
    "    5. graph partition problem\n",
    "    6. min-cut/max-flow problem\n",
    "5. Euler's Model. History: 7 bridges problem (Euler).\n",
    "    1. Each island a node, each bridge an undirected edge. Model abstracts away irrelevant details (size of islands/length of bridges)\n",
    "    2. Is there a path that contains each edge exactly once?  (Answer is no!)\n",
    "\n",
    "- [Build a Graph](#build-a-graph)\n",
    "- [Classic Graph Optimization Probelm](#classic-graph-optimization-probelm)"
   ]
  },
  {
   "cell_type": "markdown",
   "id": "4a6d7e9b",
   "metadata": {},
   "source": [
    "## Build a Graph\n",
    " "
   ]
  },
  {
   "cell_type": "markdown",
   "id": "a8bd9770",
   "metadata": {},
   "source": [
    "### Class Node\n"
   ]
  },
  {
   "cell_type": "code",
   "execution_count": null,
   "id": "b11ad458",
   "metadata": {},
   "outputs": [],
   "source": [
    "class Node(object):\n",
    "    def __init__(self, name):\n",
    "        \"\"\"Assumes name is a string\"\"\"\n",
    "        self.name = name\n",
    "    def getName(self):\n",
    "        return self.name\n",
    "    def __str__(self):\n",
    "        return self.name"
   ]
  },
  {
   "cell_type": "markdown",
   "id": "f5a8d0d9",
   "metadata": {},
   "source": [
    "### Class Edge"
   ]
  },
  {
   "cell_type": "code",
   "execution_count": null,
   "id": "0c1a3cd3",
   "metadata": {},
   "outputs": [],
   "source": [
    "class Edge(object):\n",
    "    def __init__(self, src, dest):\n",
    "        \"\"\"Assumes src and dest are nodes\"\"\"\n",
    "        self.src = src\n",
    "        self.dest = dest\n",
    "    def getSource(self):\n",
    "        return self.src\n",
    "    def getDestination(self):\n",
    "        return self.dest\n",
    "    def __str__(self):\n",
    "        return self.src.getName() + '->' + self.dest.getName()"
   ]
  },
  {
   "cell_type": "markdown",
   "id": "4e031504",
   "metadata": {},
   "source": [
    "### Digraph\n",
    "1. Digraph is a directed graph, edges pass in one direction only. \n",
    "2. Adjacency matrix, rows: source nodes; columns: destination nodes; `cell[s,d] = 1` if there is an edge from s to d = 0 otherwise\n",
    "3. Note adjacency matrix in digraphs are not symmetric\n",
    "4. `Adjacency list`: associated with each node a list of destination nodes. "
   ]
  },
  {
   "cell_type": "code",
   "execution_count": null,
   "id": "6c08d5ed",
   "metadata": {},
   "outputs": [],
   "source": [
    "class Digraph(object):\n",
    "    \"\"\"edges is a dict mapping each node to a list of\n",
    "    its children; edges = {nodes1:[node2,node3,...],...}\"\"\"\n",
    "    def __init__(self):\n",
    "        self.edges = {} # empty dictionary, with key as a node object, and value as a list of node objects\n",
    "\n",
    "    # nodes are reprensented as keys in dictionary\n",
    "    def addNode(self, node): # add node object \n",
    "        if node in self.edges: # if node already exist in the graph\n",
    "            raise ValueError('Duplicate node') \n",
    "        else:\n",
    "            self.edges[node] = [] # associate the node with empty edge list\n",
    "    \n",
    "    # edges are represneted by destinations as values in list associtaed with a source key\n",
    "    def addEdge(self, edge): # add and edge object\n",
    "        src = edge.getSource() # get source node\n",
    "        dest = edge.getDestination() # get destination node\n",
    "        if not (src in self.edges and dest in self.edges): # if either of the node is not in the edges\n",
    "            raise ValueError('Node not in graph')\n",
    "        self.edges[src].append(dest) # append destination node to the source node\n",
    "\n",
    "    def childrenOf(self, node): # return a destination nodes in a digraph\n",
    "        return self.edges[node]\n",
    "\n",
    "    def hasNode(self, node): # check if have the node in a digraph\n",
    "        return node in self.edges\n",
    "\n",
    "    def getNode(self, name): # name is a string,\n",
    "        for n in self.edges: # search all the keys in a dictionary\n",
    "            if n.getName() == name:\n",
    "                return n # return a node object with a name \"name\"\n",
    "        raise NameError(name)\n",
    "\n",
    "    def __str__(self): # print out all the directed edges\n",
    "        result = '' # empty string\n",
    "        for src in self.edges:\n",
    "            for dest in self.edges[src]:\n",
    "                result = result + src.getName() + '->'\\\n",
    "                         + dest.getName() + '\\n'\n",
    "        return result[:-1] #omit final newline"
   ]
  },
  {
   "cell_type": "markdown",
   "id": "f5d3c16f",
   "metadata": {},
   "source": [
    "### Graph \n",
    "1. Graph is a subclass of digraph\n",
    "2. Graph means undirected graph\n",
    "3. Any program thatw works with a `Digraph` will also work with a `Graph` (but not vice versa)"
   ]
  },
  {
   "cell_type": "code",
   "execution_count": null,
   "id": "0a2e72a9",
   "metadata": {},
   "outputs": [],
   "source": [
    "# Graph is a subclass of Digraph class\n",
    "class Graph(Digraph):\n",
    "    # overwrite the addEdge function (to get undirected edges)\n",
    "    def addEdge(self, edge):\n",
    "        Digraph.addEdge(self, edge)\n",
    "        rev = Edge(edge.getDestination(), edge.getSource()) # reverse the edge \n",
    "        Digraph.addEdge(self, rev)\n",
    "\n",
    "# Note we need this brace (same with function) after Graph to tell Python that we are declaring an instance\n",
    "g = Graph()"
   ]
  },
  {
   "cell_type": "markdown",
   "id": "966a2c42",
   "metadata": {},
   "source": [
    "## Classic Graph Optimization Probelm\n",
    "1. shortest path from one node to another\n",
    "2. shortest weighted path\n",
    "    1. minimize the sum of the weights of the edges in the path"
   ]
  },
  {
   "cell_type": "code",
   "execution_count": null,
   "id": "e05f4a79",
   "metadata": {},
   "outputs": [],
   "source": [
    "# function create a graph with cities as its nodes\n",
    "def buildCityGraph(graphType):\n",
    "    # here graphType can be a Digraph or a Graph\n",
    "    g = graphType() # need to use this braces\n",
    "\n",
    "    # add nodes to the graph\n",
    "    for name in ('Boston', 'Providence', 'New York', 'Chicago',\n",
    "                 'Denver', 'Phoenix', 'Los Angeles'): #Create 7 nodes\n",
    "        g.addNode(Node(name))\n",
    "    \n",
    "    # add edges to the graph\n",
    "    g.addEdge(Edge(g.getNode('Boston'), g.getNode('Providence')))\n",
    "    g.addEdge(Edge(g.getNode('Boston'), g.getNode('New York')))\n",
    "    g.addEdge(Edge(g.getNode('Providence'), g.getNode('Boston')))\n",
    "    g.addEdge(Edge(g.getNode('Providence'), g.getNode('New York')))\n",
    "    g.addEdge(Edge(g.getNode('New York'), g.getNode('Chicago')))\n",
    "    g.addEdge(Edge(g.getNode('Chicago'), g.getNode('Denver')))\n",
    "    g.addEdge(Edge(g.getNode('Chicago'), g.getNode('Phoenix')))\n",
    "    g.addEdge(Edge(g.getNode('Denver'), g.getNode('Phoenix')))\n",
    "    g.addEdge(Edge(g.getNode('Denver'), g.getNode('New York')))\n",
    "    g.addEdge(Edge(g.getNode('Los Angeles'), g.getNode('Boston')))\n",
    "    \n",
    "    return g"
   ]
  },
  {
   "cell_type": "markdown",
   "id": "8dd16bc8",
   "metadata": {},
   "source": [
    "### Depth First Search\n",
    "1. similiar to left-first depth-first method of enumerating a search tree\n",
    "2. main difference is that graph might have cycles, so we must keep track of what nodes we have visited to avoid going in infinite loops\n",
    "3. start at an inital node\n",
    "4. consider all the edges that leave that node, in some order\n",
    "5. Follow the first edge, and check to see if at goal node\n",
    "6. If not, repeat the priocess from new node\n",
    "7. Continue untile either find goal node, or run out of options\n",
    "    1. when run out of options, backtrack to the previous node and try the next edge, repeating this process"
   ]
  },
  {
   "cell_type": "code",
   "execution_count": null,
   "id": "0d829aa5",
   "metadata": {},
   "outputs": [],
   "source": [
    "# function prints the current path\n",
    "def printPath(path):\n",
    "    \"\"\"Assumes path is a list of nodes\"\"\"\n",
    "    result = ''\n",
    "    for i in range(len(path)):\n",
    "        result = result + str(path[i])\n",
    "        if i != len(path) - 1:\n",
    "            result = result + '->'\n",
    "    return result "
   ]
  },
  {
   "cell_type": "code",
   "execution_count": null,
   "id": "e65226f3",
   "metadata": {},
   "outputs": [],
   "source": [
    "# it will be straight forward if we visualize it in a graph\n",
    "def DFS(graph, start, end, path, shortest, toPrint = False):\n",
    "    \"\"\"Assumes graph is a Digraph; start and end are nodes;\n",
    "          path and shortest are lists of nodes\n",
    "       Returns a shortest path from start to end in graph\"\"\"\n",
    "    path = path + [start] # note here path is only local to the current function scope\n",
    "    if toPrint:\n",
    "        print('Current DFS path:', printPath(path))\n",
    "    if start == end: # base case \n",
    "        return path\n",
    "    for node in graph.childrenOf(start): # loop through all the child nodes\n",
    "        if node not in path: #avoid cycles\n",
    "            if shortest == None or len(path) < len(shortest):\n",
    "                newPath = DFS(graph, node, end, path, shortest,\n",
    "                              toPrint) # function recursion happens here\n",
    "                if newPath != None:\n",
    "                    shortest = newPath # shortest is kind of global since it is returned from DFS \n",
    "        elif toPrint:\n",
    "            print('Already visited', node)\n",
    "    return shortest"
   ]
  },
  {
   "cell_type": "code",
   "execution_count": null,
   "id": "80ef86bf",
   "metadata": {},
   "outputs": [],
   "source": [
    "def shortestPath(graph, start, end, toPrint = False):\n",
    "    \"\"\"Assumes graph is a Digraph; start and end are nodes\n",
    "       Returns a shortest path from start to end in graph\"\"\"\n",
    "    return DFS(graph, start, end, [], None, toPrint)"
   ]
  },
  {
   "cell_type": "code",
   "execution_count": null,
   "id": "0b8c51cf",
   "metadata": {},
   "outputs": [],
   "source": [
    "\n",
    "def testSP(source, destination):\n",
    "    g = buildCityGraph(Digraph)\n",
    "    sp = shortestPath(g, g.getNode(source), g.getNode(destination),\n",
    "                      toPrint = True)\n",
    "    if sp != None:\n",
    "        print('Shortest path from', source, 'to',\n",
    "              destination, 'is', printPath(sp))\n",
    "    else:\n",
    "        print('There is no path from', source, 'to', destination)"
   ]
  },
  {
   "cell_type": "code",
   "execution_count": null,
   "id": "6ae5b605",
   "metadata": {},
   "outputs": [],
   "source": [
    "#testSP('Chicago', 'Boston')\n",
    "testSP('Boston', 'Phoenix')"
   ]
  },
  {
   "cell_type": "markdown",
   "id": "23e29cb7",
   "metadata": {},
   "source": [
    "### Breadth First Search \n",
    "1. Almost the same with DFS\n",
    "2. start at an inital node\n",
    "3. consider all the edges that leave that node, in some order\n",
    "4. Follow the first edge, and check to see if at goal node\n",
    "5. If not, try the next edge from the current node\n",
    "6. Continue untile either find goal node, or run out of options\n",
    "    1. when run out of edge options, move to next node at some distance from start, and repeat\n",
    "    2. When run out of node options, move to next level in the graph (all nodes one step further from start), and repeat"
   ]
  },
  {
   "cell_type": "code",
   "execution_count": null,
   "id": "530dadc4",
   "metadata": {},
   "outputs": [],
   "source": [
    "printQueue = True \n",
    "\n",
    "# This code is intuitive if we can draw a graph \n",
    "def BFS(graph, start, end, toPrint = False):\n",
    "    \"\"\"Assumes graph is a Digraph; start and end are nodes\n",
    "       Returns a shortest path from start to end in graph\"\"\"\n",
    "    initPath = [start]\n",
    "    pathQueue = [initPath] # list of list\n",
    "\n",
    "    # While the pathQueue is not empt,w e perform the following code\n",
    "    while len(pathQueue) != 0:\n",
    "\n",
    "        #Get and remove oldest element in pathQueue\n",
    "        if printQueue:\n",
    "            print('Queue:', len(pathQueue))\n",
    "            for p in pathQueue:\n",
    "                print(printPath(p))\n",
    "\n",
    "        # get temporary path        \n",
    "        tmpPath = pathQueue.pop(0) # pop the first item in pathQueue\n",
    "\n",
    "        # Print out a path\n",
    "        if toPrint:\n",
    "            print('Current BFS path:', printPath(tmpPath))\n",
    "            print() # print newline\n",
    "\n",
    "        # get the last node    \n",
    "        lastNode = tmpPath[-1]\n",
    "\n",
    "        # output the path\n",
    "        if lastNode == end:\n",
    "            return tmpPath\n",
    "        \n",
    "        # loop thorugh next layer\n",
    "        for nextNode in graph.childrenOf(lastNode):\n",
    "            if nextNode not in tmpPath:\n",
    "                newPath = tmpPath + [nextNode]\n",
    "                pathQueue.append(newPath)\n",
    "\n",
    "    # if no path found, output None\n",
    "    return None"
   ]
  },
  {
   "cell_type": "code",
   "execution_count": null,
   "id": "9ac92773",
   "metadata": {},
   "outputs": [],
   "source": [
    "def shortestPath(graph, start, end, toPrint = False):\n",
    "    \"\"\"Assumes graph is a Digraph; start and end are nodes\n",
    "       Returns a shortest path from start to end in graph\"\"\"\n",
    "    return BFS(graph, start, end, toPrint)\n",
    "    \n",
    "testSP('Boston', 'Phoenix')"
   ]
  },
  {
   "cell_type": "markdown",
   "id": "3a104bf8",
   "metadata": {},
   "source": [
    "### Weighted Shortest Path Search\n",
    "1. Want to minimize the sum of the weights of the edges, not the numbder of edges\n",
    "2. `DFS` can be easily modified to do this\n",
    "3. `BFS` cannot, since shortest weighted path may have more than minimum number of hops"
   ]
  },
  {
   "cell_type": "markdown",
   "id": "52caf158",
   "metadata": {},
   "source": [
    "# Stochastic Thinking and Random Walks"
   ]
  },
  {
   "cell_type": "markdown",
   "id": "7a906054",
   "metadata": {},
   "source": [
    "## Stochastic Processes\n",
    "1. An ongoing process where the next state might depend on both the precious states and some random element.\n",
    "2. To model systems that are mathematically intractable."
   ]
  },
  {
   "cell_type": "code",
   "execution_count": null,
   "id": "89b06a65",
   "metadata": {},
   "outputs": [],
   "source": [
    "import random\n",
    " \n",
    "def rollDie():\n",
    "    \"\"\"returns a random int between 1 and 6 (uniformly)\"\"\"\n",
    "    return random.choice([1,2,3,4,5,6])\n",
    " \n",
    "def testRoll(n = 10):\n",
    "    result = ''\n",
    "    for i in range(n):\n",
    "        result = result + str(rollDie())\n",
    "    print(result)\n",
    "\n",
    "testRoll(5)"
   ]
  },
  {
   "cell_type": "markdown",
   "id": "e22531a4",
   "metadata": {},
   "source": [
    "### Die Rolling Simulation\n",
    "All the random process simulation has this kind of structure. \n",
    "No computer can generate pure random numbers. They actually generate pseudo random numbers instead. "
   ]
  },
  {
   "cell_type": "code",
   "execution_count": null,
   "id": "8723e7c1",
   "metadata": {},
   "outputs": [],
   "source": [
    "import random\n",
    "random.seed(0) # start with the same seed everytime\n",
    "\n",
    "def runSim(goal, numTrials, txt):\n",
    "    total = 0\n",
    "    for i in range(numTrials):\n",
    "        result = ''\n",
    "        for j in range(len(goal)):\n",
    "            result += str(rollDie())\n",
    "        if result == goal:\n",
    "            total += 1\n",
    "            \n",
    "    # Actual probability\n",
    "    print('Actual probability of', txt, '=',\n",
    "          round(1/(6**len(goal)), 8)) \n",
    "\n",
    "    # estimated probability (sampled probability)\n",
    "    estProbability = round(total/numTrials, 8)\n",
    "    print('Estimated Probability of', txt, '=',\n",
    "          round(estProbability, 8))\n",
    "    \n",
    "runSim('11111', 1000, '11111')"
   ]
  },
  {
   "cell_type": "markdown",
   "id": "317021b7",
   "metadata": {},
   "source": [
    "### The Birthday Problem\n",
    "1. What's the probability of at least two/three/four/etc people in a group having the same birthday. \n",
    "2. The actualy math is very complicated. In contrast, estimate this probability is very easy in simulations. "
   ]
  },
  {
   "cell_type": "code",
   "execution_count": null,
   "id": "538130b3",
   "metadata": {},
   "outputs": [],
   "source": [
    "import random\n",
    "random.seed(0) # start with the same seed everytime\n",
    "\n",
    "def sameDate(numPeople, numSame):\n",
    "    \"\"\"number of people in the group and number of same birthdays\"\"\"\n",
    "    possibleDates = range(366) # uniform birthday\n",
    "#   possibleDates = 4*list(range(0, 57)) + [58]\\\n",
    "#                    + 4*list(range(59, 366))\\\n",
    "#                    + 4*list(range(180, 270)) # change the birthday probability\n",
    "    birthdays = [0]*366 # a list\n",
    "    for p in range(numPeople):\n",
    "        birthDate = random.choice(possibleDates)\n",
    "        birthdays[birthDate] += 1\n",
    "    return max(birthdays) >= numSame\n",
    "\n",
    "def birthdayProb(numPeople, numSame, numTrials):\n",
    "    numHits = 0\n",
    "    for t in range(numTrials):\n",
    "        if sameDate(numPeople, numSame):\n",
    "            numHits += 1\n",
    "    return numHits/numTrials"
   ]
  },
  {
   "cell_type": "code",
   "execution_count": null,
   "id": "c02c865b",
   "metadata": {},
   "outputs": [],
   "source": [
    "import math\n",
    "\n",
    "for numPeople in [10, 20, 40, 100]:\n",
    "    print('For', numPeople,\n",
    "          'est. prob. of a shared birthday is',\n",
    "          birthdayProb(numPeople, 2, 10000))\n",
    "\n",
    "    # formula probability      \n",
    "    numerator = math.factorial(366)\n",
    "    denom = (366**numPeople)*math.factorial(366-numPeople)\n",
    "    print('Actual prob. for N = 100 =',\n",
    "          1 - numerator/denom)"
   ]
  },
  {
   "cell_type": "markdown",
   "id": "c62eb251",
   "metadata": {},
   "source": [
    "## Random Walks\n",
    "1. Random walks are important in many domains\n",
    "    1. Understanding the stock market (maybe)\n",
    "    2. Modeling diffusion processes\n",
    "2. Good illustration of how to use simulations to understand things\n",
    "3. Cover some important programming topics\n",
    "    1. Practice with classes\n",
    "    2. More about plotting\n",
    "4. Structure of Simulation\n",
    "    1. simulate one walks of k steps\n",
    "    2. simulate n such walks\n",
    "    3. report average distance from origin\n",
    "5. Useful abstractions\n",
    "    1. `location` (a place)\n",
    "    2. `field` (a collection of places and drunks)\n",
    "    3. `drunk` (somebody who wanders from place to place in a field)"
   ]
  },
  {
   "cell_type": "markdown",
   "id": "766304a6",
   "metadata": {},
   "source": [
    "### Class Location"
   ]
  },
  {
   "cell_type": "code",
   "execution_count": null,
   "id": "9b2947f3",
   "metadata": {},
   "outputs": [],
   "source": [
    "class Location(object):\n",
    "    def __init__(self, x, y):\n",
    "        \"\"\"x and y are numbers\"\"\"\n",
    "        self.x = x\n",
    "        self.y = y\n",
    "    \n",
    "    # immutable type: move does not change its location, but it returns a new location\n",
    "    def move(self, deltaX, deltaY): \n",
    "        \"\"\"deltaX and deltaY are numbers\"\"\"\n",
    "        return Location(self.x + deltaX, self.y + deltaY)\n",
    "\n",
    "    def getX(self):\n",
    "        return self.x\n",
    "\n",
    "    def getY(self):\n",
    "        return self.y\n",
    "    \n",
    "    # get distance from two things\n",
    "    def distFrom(self, other):\n",
    "        xDist = self.x - other.getX()\n",
    "        yDist = self.y - other.getY()\n",
    "        return (xDist**2 + yDist**2)**0.5\n",
    "\n",
    "    def __str__(self):\n",
    "        return '<' + str(self.x) + ', ' + str(self.y) + '>'"
   ]
  },
  {
   "cell_type": "markdown",
   "id": "253803af",
   "metadata": {},
   "source": [
    "### Class Drunk"
   ]
  },
  {
   "cell_type": "code",
   "execution_count": null,
   "id": "61b997fb",
   "metadata": {},
   "outputs": [],
   "source": [
    "# A base class to be inherited\n",
    "class Drunk(object):\n",
    "    def __init__(self, name = None):\n",
    "        \"\"\"Assumes name is a str\"\"\"\n",
    "        self.name = name\n",
    "\n",
    "    def __str__(self):\n",
    "        if self != None:\n",
    "            return self.name\n",
    "        return 'Anonymous'"
   ]
  },
  {
   "cell_type": "code",
   "execution_count": null,
   "id": "9ba72101",
   "metadata": {},
   "outputs": [],
   "source": [
    "import random\n",
    "\n",
    "# Usual drunk subclass, wanders around at random\n",
    "class UsualDrunk(Drunk):\n",
    "    def takeStep(self):\n",
    "        stepChoices = [(0,1), (0,-1), (1, 0), (-1, 0)] # goes one step (uniform steps)\n",
    "        return random.choice(stepChoices)"
   ]
  },
  {
   "cell_type": "code",
   "execution_count": null,
   "id": "119f58fb",
   "metadata": {},
   "outputs": [],
   "source": [
    "# masochistic drunk\n",
    "class MasochistDrunk(Drunk):\n",
    "    def takeStep(self):\n",
    "        stepChoices = [(0.0,1.1), (0.0,-0.9),\n",
    "                       (1.0, 0.0), (-1.0, 0.0)] # goes 1.1 step in north (biased random walk)\n",
    "        return random.choice(stepChoices)"
   ]
  },
  {
   "cell_type": "markdown",
   "id": "f1c1ecfa",
   "metadata": {},
   "source": [
    "### Class Field"
   ]
  },
  {
   "cell_type": "code",
   "execution_count": null,
   "id": "87cf1ecc",
   "metadata": {},
   "outputs": [],
   "source": [
    "class Field(object):\n",
    "    def __init__(self):\n",
    "        # dictionary, key is drunk instance, value is location instance\n",
    "        self.drunks = {} \n",
    "        \n",
    "    def addDrunk(self, drunk, loc):\n",
    "        if drunk in self.drunks:\n",
    "            raise ValueError('Duplicate drunk')\n",
    "        else:\n",
    "            self.drunks[drunk] = loc\n",
    "            \n",
    "    def moveDrunk(self, drunk):\n",
    "        if drunk not in self.drunks:\n",
    "            raise ValueError('Drunk not in field')\n",
    "        xDist, yDist = drunk.takeStep()\n",
    "        #use move method of Location to get new location\n",
    "        self.drunks[drunk] =\\\n",
    "            self.drunks[drunk].move(xDist, yDist)\n",
    "        \n",
    "    def getLoc(self, drunk):\n",
    "        if drunk not in self.drunks:\n",
    "            raise ValueError('Drunk not in field')\n",
    "        return self.drunks[drunk]"
   ]
  },
  {
   "cell_type": "markdown",
   "id": "666fa080",
   "metadata": {},
   "source": [
    "### Simulating a Single Walk"
   ]
  },
  {
   "cell_type": "code",
   "execution_count": null,
   "id": "3107764d",
   "metadata": {},
   "outputs": [],
   "source": [
    "def walk(f, d, numSteps):\n",
    "    \"\"\"Assumes: f a Field, d a Drunk in f, and numSteps an int >= 0.\n",
    "       Moves d numSteps times, and returns the distance between\n",
    "       the final location and the location at the start of the \n",
    "       walk.\"\"\"\n",
    "    start = f.getLoc(d)\n",
    "    for s in range(numSteps):\n",
    "        f.moveDrunk(d)\n",
    "    return start.distFrom(f.getLoc(d))"
   ]
  },
  {
   "cell_type": "markdown",
   "id": "0159d82d",
   "metadata": {},
   "source": [
    "### Simulating Multiple Walks"
   ]
  },
  {
   "cell_type": "code",
   "execution_count": null,
   "id": "5d912941",
   "metadata": {},
   "outputs": [],
   "source": [
    "def simWalks(numSteps, numTrials, dClass):\n",
    "    \"\"\"Assumes numSteps an int >= 0, numTrials an int > 0,\n",
    "         dClass a subclass of Drunk\n",
    "       Simulates numTrials walks of numSteps steps each.\n",
    "       Returns a list of the final distances for each trial\"\"\"\n",
    "    Homer = dClass('Homer')\n",
    "    origin = Location(0, 0)\n",
    "    distances = [] # empty list \n",
    "    for t in range(numTrials):\n",
    "        f = Field() # empty field\n",
    "        f.addDrunk(Homer, origin)\n",
    "        distances.append(round(walk(f, Homer,\n",
    "                                    numSteps), 1))\n",
    "    return distances"
   ]
  },
  {
   "cell_type": "markdown",
   "id": "9a571ee6",
   "metadata": {},
   "source": [
    "### Putting it All Together"
   ]
  },
  {
   "cell_type": "code",
   "execution_count": null,
   "id": "d8f7ad19",
   "metadata": {},
   "outputs": [],
   "source": [
    "def drunkTest(walkLengths, numTrials, dClass):\n",
    "    \"\"\"Assumes walkLengths a sequence of ints >= 0\n",
    "         numTrials an int > 0, dClass a subclass of Drunk\n",
    "       For each number of steps in walkLengths, runs simWalks with\n",
    "         numTrials walks and prints results\"\"\"\n",
    "    for numSteps in walkLengths:\n",
    "        distances = simWalks(numSteps, numTrials, dClass)\n",
    "        print(dClass.__name__, 'random walk of', numSteps, 'steps') # built-in class attribute __name__  (name of the class, e.g usualDrunk)\n",
    "        print(' Mean =', round(sum(distances)/len(distances), 4))\n",
    "        print(' Max =', max(distances), 'Min =', min(distances))"
   ]
  },
  {
   "cell_type": "code",
   "execution_count": null,
   "id": "ef28ba0b",
   "metadata": {},
   "outputs": [],
   "source": [
    "random.seed(0)\n",
    "drunkTest((10, 100, 1000, 10000), 100, UsualDrunk)"
   ]
  },
  {
   "cell_type": "code",
   "execution_count": null,
   "id": "9a5fd21a",
   "metadata": {},
   "outputs": [],
   "source": [
    "# We can try both usualDrunk and masochistDrunk classes\n",
    "def simAll(drunkKinds, walkLengths, numTrials):\n",
    "    for dClass in drunkKinds:\n",
    "        drunkTest(walkLengths, numTrials, dClass)\n",
    "        \n",
    "random.seed(0)\n",
    "simAll((UsualDrunk, MasochistDrunk),\n",
    "       (1000, 10000), 100)"
   ]
  },
  {
   "cell_type": "markdown",
   "id": "3511850a",
   "metadata": {},
   "source": [
    "### Visualization"
   ]
  },
  {
   "cell_type": "code",
   "execution_count": null,
   "id": "fa6570f4",
   "metadata": {},
   "outputs": [],
   "source": [
    "class styleIterator(object):\n",
    "    # styles is a tuple \n",
    "    def __init__(self, styles):\n",
    "        self.index = 0\n",
    "        self.styles = styles\n",
    "\n",
    "    def nextStyle(self):\n",
    "        result = self.styles[self.index]\n",
    "        if self.index == len(self.styles) - 1:\n",
    "            self.index = 0\n",
    "        else:\n",
    "            self.index += 1\n",
    "        return result"
   ]
  },
  {
   "cell_type": "code",
   "execution_count": null,
   "id": "ceacbd9c",
   "metadata": {},
   "outputs": [],
   "source": [
    "    \n",
    "def simDrunk(numTrials, dClass, walkLengths):\n",
    "    meanDistances = []\n",
    "    for numSteps in walkLengths:\n",
    "        print('Starting simulation of',\n",
    "              numSteps, 'steps')\n",
    "        trials = simWalks(numSteps, numTrials, dClass)\n",
    "        mean = sum(trials)/len(trials) # mean distance\n",
    "        meanDistances.append(mean)\n",
    "    return meanDistances"
   ]
  },
  {
   "cell_type": "code",
   "execution_count": null,
   "id": "5326cc47",
   "metadata": {},
   "outputs": [],
   "source": [
    "def simAll(drunkKinds, walkLengths, numTrials):\n",
    "    styleChoice = styleIterator(('m-', 'b--', 'g-.'))\n",
    "    for dClass in drunkKinds:\n",
    "        curStyle = styleChoice.nextStyle()\n",
    "        print('Starting simulation of', dClass.__name__)\n",
    "        means = simDrunk(numTrials, dClass, walkLengths)\n",
    "        pylab.plot(walkLengths, means, curStyle,\n",
    "                   label = dClass.__name__)\n",
    "    pylab.title('Mean Distance from Origin ('\n",
    "                + str(numTrials) + ' trials)')\n",
    "    pylab.xlabel('Number of Steps')\n",
    "    pylab.ylabel('Distance from Origin')\n",
    "    pylab.legend(loc = 'best')"
   ]
  },
  {
   "cell_type": "code",
   "execution_count": null,
   "id": "48330450",
   "metadata": {},
   "outputs": [],
   "source": [
    "import random, pylab\n",
    "random.seed(0)\n",
    "numSteps = (10,100,1000,10000,100000)\n",
    "simAll((UsualDrunk, MasochistDrunk), numSteps, 100)\n",
    "pylab.plot(numSteps, pylab.array(numSteps)**0.5, 'k-.',\n",
    "           label = 'Square root of steps')\n",
    "pylab.plot(numSteps, pylab.array(numSteps)*0.05, 'g-.',\n",
    "           label = 'numSteps*0.05')\n",
    "pylab.legend(loc = 'best')"
   ]
  },
  {
   "cell_type": "markdown",
   "id": "2a33be90",
   "metadata": {},
   "source": [
    "### A Subclass of Field"
   ]
  },
  {
   "cell_type": "code",
   "execution_count": null,
   "id": "000f2644",
   "metadata": {},
   "outputs": [],
   "source": [
    "# subclass of field \n",
    "class OddField(Field):\n",
    "    def __init__(self, numHoles = 1000,\n",
    "                 xRange = 100, yRange = 100):\n",
    "        Field.__init__(self)\n",
    "        self.wormholes = {} # wormholes class\n",
    "        for w in range(numHoles):\n",
    "            # where wormholes located\n",
    "            x = random.randint(-xRange, xRange) \n",
    "            y = random.randint(-yRange, yRange)\n",
    "            # telepoted locations of corresponding worm holes\n",
    "            newX = random.randint(-xRange, xRange)\n",
    "            newY = random.randint(-yRange, yRange)\n",
    "            newLoc = Location(newX, newY)\n",
    "            # update the location of wormholes\n",
    "            self.wormholes[(x, y)] = newLoc\n",
    "\n",
    "    # overwiriting the move drunk function \n",
    "    def moveDrunk(self, drunk):\n",
    "        Field.moveDrunk(self, drunk)\n",
    "        x = self.drunks[drunk].getX()\n",
    "        y = self.drunks[drunk].getY()\n",
    "        # if the drunk ends in the wormhole, it will be teleported to the corresponding location\n",
    "        if (x, y) in self.wormholes:\n",
    "            self.drunks[drunk] = self.wormholes[(x, y)]"
   ]
  },
  {
   "cell_type": "code",
   "execution_count": null,
   "id": "31e3386f",
   "metadata": {},
   "outputs": [],
   "source": [
    "# Get final locations\n",
    "def getFinalLocs(numSteps, numTrials, dClass):\n",
    "    locs = []\n",
    "    d = dClass()\n",
    "    for t in range(numTrials):\n",
    "        f = OddField()\n",
    "        f.addDrunk(d, Location(0, 0))\n",
    "        for s in range(numSteps):\n",
    "            f.moveDrunk(d)\n",
    "        locs.append(f.getLoc(d))\n",
    "    return locs"
   ]
  },
  {
   "cell_type": "code",
   "execution_count": null,
   "id": "e21d7b4d",
   "metadata": {},
   "outputs": [],
   "source": [
    "def plotLocs(drunkKinds, numSteps, numTrials):\n",
    "    styleChoice = styleIterator(('k+', 'r^', 'mo'))\n",
    "    for dClass in drunkKinds:\n",
    "        locs = getFinalLocs(numSteps, numTrials, dClass)\n",
    "        xVals, yVals = [], []\n",
    "        for loc in locs:\n",
    "            xVals.append(loc.getX())\n",
    "            yVals.append(loc.getY())\n",
    "        xVals = pylab.array(xVals)\n",
    "        yVals = pylab.array(yVals)\n",
    "        meanX = sum(abs(xVals))/len(xVals)\n",
    "        meanY = sum(abs(yVals))/len(yVals)\n",
    "        curStyle = styleChoice.nextStyle()\n",
    "        pylab.plot(xVals, yVals, curStyle,\n",
    "                      label = dClass.__name__ +\\\n",
    "                      ' mean abs dist = <'\n",
    "                      + str(meanX) + ', ' + str(meanY) + '>')\n",
    "    pylab.title('Location at End of Walks ('\n",
    "                + str(numSteps) + ' steps)')\n",
    "    pylab.ylim(-1000, 1000)\n",
    "    pylab.xlim(-1000, 1000)\n",
    "    pylab.xlabel('Steps East/West of Origin')\n",
    "    pylab.ylabel('Steps North/South of Origin')\n",
    "    pylab.legend(loc = 'lower center')"
   ]
  },
  {
   "cell_type": "code",
   "execution_count": null,
   "id": "a385a4a9",
   "metadata": {},
   "outputs": [],
   "source": [
    "import random, pylab\n",
    "random.seed(0)\n",
    "plotLocs((UsualDrunk, MasochistDrunk), 10000, 1000)"
   ]
  },
  {
   "cell_type": "markdown",
   "id": "e1ea6ca4",
   "metadata": {},
   "source": [
    "### Spots Reached During One Walk"
   ]
  },
  {
   "cell_type": "code",
   "execution_count": null,
   "id": "d10cbf15",
   "metadata": {},
   "outputs": [],
   "source": [
    "#TraceWalk using oddField          \n",
    "def traceWalk(fieldKinds, numSteps):\n",
    "    styleChoice = styleIterator(('b+', 'r^', 'ko'))\n",
    "    for fClass in fieldKinds:\n",
    "        d = UsualDrunk()\n",
    "        f = fClass()\n",
    "        f.addDrunk(d, Location(0, 0))\n",
    "        locs = []\n",
    "        for s in range(numSteps):\n",
    "            f.moveDrunk(d)\n",
    "            locs.append(f.getLoc(d))\n",
    "        xVals, yVals = [], []\n",
    "        for loc in locs:\n",
    "            xVals.append(loc.getX())\n",
    "            yVals.append(loc.getY())\n",
    "        curStyle = styleChoice.nextStyle()\n",
    "        pylab.plot(xVals, yVals, curStyle,\n",
    "                   label = fClass.__name__)\n",
    "    pylab.title('Spots Visited on Walk ('\n",
    "                + str(numSteps) + ' steps)')\n",
    "    pylab.xlabel('Steps East/West of Origin')\n",
    "    pylab.ylabel('Steps North/South of Origin')\n",
    "    pylab.legend(loc = 'best')"
   ]
  },
  {
   "cell_type": "code",
   "execution_count": null,
   "id": "fa82c5ce",
   "metadata": {},
   "outputs": [],
   "source": [
    "import random, pylab\n",
    "random.seed(0)\n",
    "traceWalk((Field, OddField), 500)"
   ]
  },
  {
   "cell_type": "markdown",
   "id": "a1bd4a2c",
   "metadata": {},
   "source": [
    "# Monte Carlo Simulation\n",
    "1. A method of estimating the value of an unknown quantity using the principles of inferential statistics\n",
    "2. Inferential statistics\n",
    "    1. Population: a set of examples\n",
    "    2. Sample: a proper subset of a population\n",
    "    3. key fact: `random sample (has to be random)`  tends to exhibit the same properties as the population from which it is drawn\n",
    "3. Exactly what we did with random walks"
   ]
  },
  {
   "cell_type": "markdown",
   "id": "b2520dc9",
   "metadata": {},
   "source": [
    "## An Example with Flipping Coins\n",
    "1. Given a single coin, estimate fraction of heads you would get if you flipped the coin an infinite number of times\n",
    "2. Confidence in our estimate depends upon two things\n",
    "    1. size of samples\n",
    "    2. variance of samples\n",
    "3. When variance grows, we need larger samples to have the same degree of confidence\n"
   ]
  },
  {
   "cell_type": "markdown",
   "id": "c879bcd3",
   "metadata": {},
   "source": [
    "## Roulette Wheel \n",
    "1. No need to simulate, since answers obvious\n",
    "2. allows us to compare simualtion results to actual probabilities"
   ]
  },
  {
   "cell_type": "markdown",
   "id": "e6cc503a",
   "metadata": {},
   "source": [
    "### Fair Reoulette"
   ]
  },
  {
   "cell_type": "code",
   "execution_count": null,
   "id": "16257b4b",
   "metadata": {},
   "outputs": [],
   "source": [
    "class FairRoulette(): # no object superclass? \n",
    "    def __init__(self):\n",
    "        self.pockets = []\n",
    "        for i in range(1,37): # 36 pockets \n",
    "            self.pockets.append(i)\n",
    "        self.ball = None\n",
    "        self.pocketOdds = len(self.pockets) - 1 # 35, if you win, you get 36 dollars, your 1 dollar + 35 other dollars\n",
    "\n",
    "    def spin(self):\n",
    "        self.ball = random.choice(self.pockets)\n",
    "\n",
    "    def betPocket(self, pocket, amt): # amt is the amount you put to bet\n",
    "        if str(pocket) == str(self.ball): # if you bet correctly\n",
    "            return amt*self.pocketOdds # you get amt*35 back\n",
    "        else: return -amt # you loose the money \n",
    "    def __str__(self):\n",
    "        return 'Fair Roulette'"
   ]
  },
  {
   "cell_type": "code",
   "execution_count": null,
   "id": "5e89ba55",
   "metadata": {},
   "outputs": [],
   "source": [
    "\n",
    "def playRoulette(game, numSpins, pocket, bet, toPrint):\n",
    "    \"\"\" game = Reoulette class, numSpins, pocket = the number you choose, \n",
    "        bet = how much you bet, toPrint = print out \"\"\"\n",
    "    totPocket = 0 # total amount of money \n",
    "    for i in range(numSpins):\n",
    "        game.spin()\n",
    "        totPocket += game.betPocket(pocket, bet)\n",
    "    if toPrint:\n",
    "        print(numSpins, 'spins of', game)\n",
    "        print('Expected return betting', pocket, '=',\\\n",
    "              str(100*totPocket/numSpins) + '%\\n') # expected return rate\n",
    "    return (totPocket/numSpins) # expected total return"
   ]
  },
  {
   "cell_type": "code",
   "execution_count": null,
   "id": "3b40f454",
   "metadata": {},
   "outputs": [],
   "source": [
    "import random\n",
    "random.seed(0)\n",
    "\n",
    "game = FairRoulette() # fair roulette class\n",
    "for numSpins in (100, 1000000):\n",
    "    for i in range(3):\n",
    "        playRoulette(game, numSpins, 2, 1, True)"
   ]
  },
  {
   "cell_type": "markdown",
   "id": "6d9f44eb",
   "metadata": {},
   "source": [
    "### European and American Roulette"
   ]
  },
  {
   "cell_type": "code",
   "execution_count": null,
   "id": "b0a59ad6",
   "metadata": {},
   "outputs": [],
   "source": [
    "class EuRoulette(FairRoulette):\n",
    "    def __init__(self):\n",
    "        FairRoulette.__init__(self)\n",
    "        self.pockets.append('0')\n",
    "    def __str__(self):\n",
    "        return 'European Roulette'\n",
    "\n",
    "class AmRoulette(EuRoulette):\n",
    "    def __init__(self):\n",
    "        EuRoulette.__init__(self)\n",
    "        self.pockets.append('00')\n",
    "    def __str__(self):\n",
    "        return 'American Roulette'"
   ]
  },
  {
   "cell_type": "code",
   "execution_count": null,
   "id": "8650dcc6",
   "metadata": {},
   "outputs": [],
   "source": [
    "def findPocketReturn(game, numTrials, trialSize, toPrint):\n",
    "    pocketReturns = []\n",
    "    for t in range(numTrials):\n",
    "        trialVals = playRoulette(game, trialSize, 2, 1, toPrint)\n",
    "        pocketReturns.append(trialVals)\n",
    "    return pocketReturns"
   ]
  },
  {
   "cell_type": "code",
   "execution_count": null,
   "id": "171feb99",
   "metadata": {},
   "outputs": [],
   "source": [
    "import random\n",
    "random.seed(0)\n",
    "numTrials = 20\n",
    "resultDict = {}\n",
    "games = (FairRoulette, EuRoulette, AmRoulette)\n",
    "for G in games:\n",
    "    resultDict[G().__str__()] = []\n",
    "for numSpins in (1000, 10000, 100000, 1000000):\n",
    "    print('\\nSimulate', numTrials, 'trials of',\n",
    "          numSpins, 'spins each')\n",
    "    for G in games:\n",
    "        pocketReturns = findPocketReturn(G(), numTrials,\n",
    "                                         numSpins, False)\n",
    "        expReturn = 100*sum(pocketReturns)/len(pocketReturns)\n",
    "        print('Exp. return for', G(), '=',\n",
    "             str(round(expReturn, 4)) + '%')"
   ]
  },
  {
   "cell_type": "markdown",
   "id": "74726c1c",
   "metadata": {},
   "source": [
    "## Mean and Standard Deviation\n",
    "1. standard deviation simply the square root of the variance\n",
    "2. outliers can have a big effect\n",
    "3. standard deviation should always be considered relative to mean\n",
    "4. `Empirical rule` **only works for normal distribution**\n",
    "    1. around `68%` data within `one` standard deviation of mean\n",
    "    2. around `95%` of data within `1.96` standard deviations of mean\n",
    "    3. aournd `99.7%` of data within `3` standard deviations of mean\n",
    "    4. Underlying assumptions: the mean estimation error is zero and the distribution of the error in the estimate is normal"
   ]
  },
  {
   "cell_type": "code",
   "execution_count": null,
   "id": "298af23e",
   "metadata": {},
   "outputs": [],
   "source": [
    "def getMeanAndStd(X):\n",
    "    mean = sum(X)/float(len(X))\n",
    "    tot = 0.0\n",
    "    for x in X:\n",
    "        tot += (x - mean)**2\n",
    "    std = (tot/len(X))**0.5\n",
    "    return mean, std"
   ]
  },
  {
   "cell_type": "code",
   "execution_count": null,
   "id": "92c12a41",
   "metadata": {},
   "outputs": [],
   "source": [
    "x = [1,2,3,3,2,1]\n",
    "mean, std = getMeanAndStd(x)\n",
    "print(\"mean is \" + str(mean) + \", and std is \"+ str(std))"
   ]
  },
  {
   "cell_type": "code",
   "execution_count": null,
   "id": "00f9dbd4",
   "metadata": {},
   "outputs": [],
   "source": [
    "import random\n",
    "random.seed(0)\n",
    "numTrials = 20\n",
    "resultDict = {}\n",
    "games = (FairRoulette, EuRoulette, AmRoulette)\n",
    "for G in games:\n",
    "    resultDict[G().__str__()] = []\n",
    "for numSpins in (100, 1000, 10000):\n",
    "    print('\\nSimulate', numTrials, 'trials of',\n",
    "          numSpins, 'spins each')\n",
    "    for G in games:\n",
    "        pocketReturns = findPocketReturn(G(), numTrials,\n",
    "                                         numSpins, False)\n",
    "\n",
    "        mean, std = getMeanAndStd(pocketReturns) \n",
    "        resultDict[G().__str__()].append((numSpins,100*mean,100*std))\n",
    "\n",
    "        print('Exp. return for', G(), '=',\n",
    "             str(round(100*mean, 3)) + '%', '+/-'+str(round(100*1.96*std,3))+'% with 95% confidence')"
   ]
  },
  {
   "cell_type": "markdown",
   "id": "767d86aa",
   "metadata": {},
   "source": [
    "# Confidence Intervels"
   ]
  },
  {
   "cell_type": "markdown",
   "id": "3c363686",
   "metadata": {},
   "source": [
    "## Discrete Normally Distributed Data"
   ]
  },
  {
   "cell_type": "code",
   "execution_count": null,
   "id": "2536c0ec",
   "metadata": {},
   "outputs": [],
   "source": [
    "# Discrete Gaussian Data\n",
    "import random, pylab\n",
    "random.seed(0)\n",
    "\n",
    "dist, numSamples = [], 1000000\n",
    "\n",
    "for i in range(numSamples):\n",
    "    # biult-in function of random library, 1st arg is mean, 2nd is std\n",
    "    dist.append(random.gauss(0, 100)) \n",
    "    \n",
    "# weights = [1/numSamples]*len(dist) # weight is a list\n",
    "# plot histogram, weight changes y-axes\n",
    "# v is a tuple, with 1 st item as a list of y-axies 2 nd item a list of x-axis and 3rd item a list a patches for plotting\n",
    "v = pylab.hist(dist, bins = 100,\n",
    "               weights = [1/numSamples]*len(dist)) # output is a tuple\n",
    "# v = pylab.hist(dist, bins = 100) # output is a tuple\n",
    "\n",
    "pylab.xlabel('x')\n",
    "pylab.ylabel('Relative Frequency')\n",
    "               \n",
    "print('Fraction within ~200 of mean =',\n",
    "      sum(v[0][30:70])) # 200 means the 2 standard deviation, check what kind of fraction fall whitin the 2 std around the mean"
   ]
  },
  {
   "cell_type": "markdown",
   "id": "943d952e",
   "metadata": {},
   "source": [
    "## Normal Distribution \n",
    "1. probability of a random variable lying between two values (probability density function)\n",
    "2. Defines a curve where the values on the x-axis lie between minimum and maximum value of the variable\n",
    "3. Area under curve between two points, is probability of example falling within that range\n",
    "4. This kind of distributions happen very often\n",
    "\n",
    "![pdf](images/pdf_formula.PNG)\n",
    "\n",
    "4. Y-axis are `densities` (derivative of cumulative distribution function). Hence, we use integration to interpret a PDF."
   ]
  },
  {
   "cell_type": "code",
   "execution_count": null,
   "id": "8af79d33",
   "metadata": {},
   "outputs": [],
   "source": [
    "import pylab\n",
    "\n",
    "# pdf function\n",
    "def gaussian(x, mu, sigma):\n",
    "  factor1 = (1.0/(sigma*((2*pylab.pi)**0.5)))\n",
    "  factor2 = pylab.e**-(((x-mu)**2)/(2*sigma**2))\n",
    "  return factor1*factor2\n",
    "  \n",
    "xVals, yVals = [], []\n",
    "mu, sigma = 0, 1\n",
    "x = -4\n",
    "while x <= 4:\n",
    "    xVals.append(x)\n",
    "    yVals.append(gaussian(x, mu, sigma))\n",
    "    x += 0.05\n",
    "\n",
    "\n",
    "pylab.plot(xVals, yVals)\n",
    "pylab.title('Normal Distribution, mu = ' + str(mu)\\\n",
    "            + ', sigma = ' + str(sigma))"
   ]
  },
  {
   "cell_type": "markdown",
   "id": "38f48959",
   "metadata": {},
   "source": [
    "### SciPy Integration\n",
    "1. [scipy.integrate.quad](https://docs.scipy.org/doc/scipy/reference/generated/scipy.integrate.quad.html) has up to four arguments\n",
    "    1. a function or method to be integrated\n",
    "    2. a number representing the lower limit of the integration\n",
    "    3. a number representing the upper limit of integration\n",
    "    4. an optional tuple supplying values for all arguments, except the first, of the function to be integrated\n",
    "2. returns a tuple\n",
    "    1. approximation to result\n",
    "    2. estimate of absolute error"
   ]
  },
  {
   "cell_type": "code",
   "execution_count": null,
   "id": "cc0f77cc",
   "metadata": {},
   "outputs": [],
   "source": [
    "import scipy.integrate, random\n",
    "# scipy.integrate gives you all the methods for integration\n",
    "\n",
    "def checkEmpirical(numTrials):\n",
    "  for t in range(numTrials):\n",
    "     mu = random.randint(-10, 10)\n",
    "     sigma = random.randint(1, 10)\n",
    "     print('For mu =', mu, 'and sigma =', sigma)\n",
    "     for numStd in (1, 1.96, 3):\n",
    "\n",
    "         # guassian is a function of 3 argument, here we fix mu and sigma and only intgerate over x\n",
    "         # Integrate the gaussian function\n",
    "        area = scipy.integrate.quad(gaussian,\n",
    "                                    mu-numStd*sigma,\n",
    "                                    mu+numStd*sigma,\n",
    "                                    (mu, sigma))[0] \n",
    "        \n",
    "        print(' Fraction within', numStd,\n",
    "              'std =', round(area, 4))\n",
    "        \n",
    "checkEmpirical(3)"
   ]
  },
  {
   "cell_type": "markdown",
   "id": "7708968c",
   "metadata": {},
   "source": [
    "## Central Limit Theorem\n",
    "1. Population is a set of examples, and sample is a subset of population\n",
    "2. Given a sufficiently large sample\n",
    "    1. The means of the samples in a set of samples (the sample means) will be approximately normally distributed\n",
    "    2. This normal distribution will have a mean close to the mean of the population\n",
    "    3. The variance of the sample means will be close to the variance of the population divided by the sample size\n",
    "3. It doesn't matter what the shape of the distribution of values happens to be \n",
    "4. If we are trying to estimate the mean of a population using sufficiently large samples\n",
    "5. The CLT allows us to use the empirical rule when computing confidence intervals\n"
   ]
  },
  {
   "cell_type": "markdown",
   "id": "e653f3ca",
   "metadata": {},
   "source": [
    "### Checking CLT for a Continuous Die\n",
    "\n",
    "1. Here the population is `1000000`, mean is `2.5`, std is `1.44`, variance is `2.08`\n",
    "2. the sample size is `50`, mean is `2.5`, std is `0.2`, variance is `0.04`, which is approximately eqaul to `2.08/50`"
   ]
  },
  {
   "cell_type": "code",
   "execution_count": null,
   "id": "b175a1d1",
   "metadata": {},
   "outputs": [],
   "source": [
    "def getMeanAndStd(X):\n",
    "    mean = sum(X)/float(len(X))\n",
    "    tot = 0.0\n",
    "    for x in X:\n",
    "        tot += (x - mean)**2\n",
    "    std = (tot/len(X))**0.5\n",
    "    return mean, std\n",
    "\n",
    "def plotMeans(numDice, numRolls, numBins, legend, color, style):\n",
    "    means = []\n",
    "    for i in range(numRolls//numDice):\n",
    "        vals = 0\n",
    "        for j in range(numDice):\n",
    "            vals += 5*random.random() \n",
    "        means.append(vals/float(numDice))\n",
    "    pylab.hist(means, numBins, color = color, label = legend,\n",
    "               weights = [1/len(means)]*len(means),\n",
    "               hatch = style)\n",
    "    return getMeanAndStd(means)\n",
    "\n",
    "import pylab, random\n",
    "# roll 1 die, 1000000 times, with 19 bins\n",
    "mean, std = plotMeans(1, 1000000, 19, '1 die', 'b', '*')\n",
    "print('Mean of rolling 1 die =', str(mean) + ',', 'Std =', std)\n",
    "# roll 50 die, 1000000 times (1000000/50 rolls), with 19 bins\n",
    "mean, std = plotMeans(50, 1000000, 19, 'Mean of 50 dice', 'r', '//')\n",
    "print('Mean of rolling 50 dice =', str(mean) + ',', 'Std =', std)\n",
    "\n",
    "pylab.title('Rolling Continuous Dice')\n",
    "pylab.xlabel('Value')\n",
    "pylab.ylabel('Probability')\n",
    "pylab.legend()"
   ]
  },
  {
   "cell_type": "markdown",
   "id": "db8c5b14",
   "metadata": {},
   "source": [
    "### Try CLT for Roulette"
   ]
  },
  {
   "cell_type": "code",
   "execution_count": null,
   "id": "a6e73aa2",
   "metadata": {},
   "outputs": [],
   "source": [
    "class FairRoulette():\n",
    "    def __init__(self):\n",
    "        self.pockets = []\n",
    "        for i in range(1,37):\n",
    "            self.pockets.append(i)\n",
    "        self.ball = None\n",
    "        self.pocketOdds = len(self.pockets) - 1\n",
    "    def spin(self):\n",
    "        self.ball = random.choice(self.pockets)\n",
    "    def betPocket(self, pocket, amt):\n",
    "        if str(pocket) == str(self.ball):\n",
    "            return amt*self.pocketOdds\n",
    "        else: return -amt\n",
    "    def __str__(self):\n",
    "        return 'Fair Roulette'\n",
    "\n",
    "def playRoulette(game, numSpins, pocket, bet, toPrint):\n",
    "    totPocket = 0\n",
    "    for i in range(numSpins):\n",
    "        game.spin()\n",
    "        totPocket += game.betPocket(pocket, bet)\n",
    "    if toPrint:\n",
    "        print(numSpins, 'spins of', game)\n",
    "        print('Expected return betting', pocket, '=',\\\n",
    "              str(100*totPocket/numSpins) + '%\\n')\n",
    "    return (totPocket/numSpins)\n",
    "        \n",
    "def findPocketReturn(game, numTrials, trialSize, toPrint):\n",
    "    pocketReturns = []\n",
    "    for t in range(numTrials):\n",
    "        trialVals = playRoulette(game, trialSize, 2, 1, toPrint)\n",
    "        pocketReturns.append(trialVals)\n",
    "    return pocketReturns"
   ]
  },
  {
   "cell_type": "code",
   "execution_count": null,
   "id": "4250b930",
   "metadata": {},
   "outputs": [],
   "source": [
    "import pylab\n",
    "\n",
    "numTrials = 1000000\n",
    "numSpins = 200 # Spin 200 times in each trial\n",
    "game = FairRoulette()\n",
    "\n",
    "means = []\n",
    "for i in range(numTrials):\n",
    "    means.append(findPocketReturn(game, 1, numSpins,\n",
    "                                  False)[0])\n",
    "\n",
    "pylab.hist(means, bins = 19,\n",
    "           weights = [1/len(means)]*len(means))\n",
    "pylab.xlabel('Mean Return')\n",
    "pylab.ylabel('Probability')\n",
    "pylab.title('Expected Return Betting a Pocket 200 Times')"
   ]
  },
  {
   "cell_type": "markdown",
   "id": "6a61a8f1",
   "metadata": {},
   "source": [
    "## Estimate of Pi \n",
    "1. In the sense of Monete Carlo simulation"
   ]
  },
  {
   "cell_type": "code",
   "execution_count": null,
   "id": "1fe744a6",
   "metadata": {},
   "outputs": [],
   "source": [
    "def throwNeedles(numNeedles):\n",
    "    inCircle = 0\n",
    "    for Needles in range(1, numNeedles + 1, 1):\n",
    "        x = random.random() # generate [0,1)\n",
    "        y = random.random()\n",
    "        if (x*x + y*y)**0.5 <= 1.0:\n",
    "            inCircle += 1\n",
    "    return 4*(inCircle/float(numNeedles))"
   ]
  },
  {
   "cell_type": "code",
   "execution_count": null,
   "id": "f86a5cb3",
   "metadata": {},
   "outputs": [],
   "source": [
    "import numpy, random\n",
    "\n",
    "def getEst(numNeedles, numTrials):\n",
    "    estimates = [] # empty list\n",
    "    for t in range(numTrials):\n",
    "        piGuess = throwNeedles(numNeedles)\n",
    "        estimates.append(piGuess)\n",
    "    sDev = numpy.std(estimates) # get standard deviation of the estimates\n",
    "    curEst = sum(estimates)/len(estimates) # mean of the estimates\n",
    "    print('Est. = ' + str(curEst) +\\\n",
    "          ', Std. dev. = ' + str(round(sDev, 6))\\\n",
    "          + ', Needles = ' + str(numNeedles))\n",
    "    return (curEst, sDev)"
   ]
  },
  {
   "cell_type": "code",
   "execution_count": null,
   "id": "76b6cd03",
   "metadata": {},
   "outputs": [],
   "source": [
    "def estPi(precision, numTrials):\n",
    "    numNeedles = 1000\n",
    "    sDev = precision # use standard deviation as a precision guard\n",
    "    while sDev >= precision/2:\n",
    "        curEst, sDev = getEst(numNeedles,\n",
    "                              numTrials)\n",
    "        # keep increse the number of needles untile we get sDev <= precision/2 \n",
    "        # we don't know how many needles we will need. We can just start with a small number\n",
    "        numNeedles *= 2 \n",
    "    return curEst\n",
    "\n",
    "random.seed(0)\n",
    "estPi(0.005, 100) "
   ]
  },
  {
   "cell_type": "markdown",
   "id": "03709e00",
   "metadata": {},
   "source": [
    "## Useful Way to do Integration\n",
    "1. To estimate the area of some region, `R`\n",
    "    1. Pick an enclosing region, `E` , such that the area of `E` is easy to calculate and `R` lies completely within `E`\n",
    "    2. Pick a set of random points that lie within `E`\n",
    "    3. Let `F` be the fraction of the points that fall within `R`\n",
    "    4. Multiple the area of `E` by `F`\n",
    "2. People use this trick over and over again when you have something (`e.g. gradient`) that is mathematically hard to obtain "
   ]
  },
  {
   "cell_type": "markdown",
   "id": "98dfbd2b",
   "metadata": {},
   "source": [
    "# Sampling and Standard Error \n",
    "1. Simple Random Sampling\n",
    "    1. Each member has an equal chance of being chosen\n",
    "    2. Not always appropriate\n",
    "2. Strtified Sampling\n",
    "    1. partition population into subgroups\n",
    "    2. take a simple random sample from each subgroup\n",
    "    3. When there are small subgroups that should be represented"
   ]
  },
  {
   "cell_type": "markdown",
   "id": "78aa6773",
   "metadata": {},
   "source": [
    "## Read CSV Temperature Data \n",
    "\n",
    "[File Handling](https://www.w3schools.com/python/python_file_open.asp)"
   ]
  },
  {
   "cell_type": "code",
   "execution_count": null,
   "id": "521f2e37",
   "metadata": {},
   "outputs": [],
   "source": [
    "def getHighs():\n",
    "    inFile = open('temperatures.csv') # open csv, get a file handle\n",
    "    population = [] # a list with all the temperature\n",
    "    for l in inFile: # loop through the file line by line\n",
    "        try:\n",
    "            # print(l)\n",
    "            tempC = float(l.split(',')[1]) # l is a string? \n",
    "            population.append(tempC)\n",
    "        except:\n",
    "            # the continue statement in Python returns the control to the beginning of a loop (skip the remaining statements)\n",
    "            continue \n",
    "    return population"
   ]
  },
  {
   "cell_type": "markdown",
   "id": "417abeb9",
   "metadata": {},
   "source": [
    "## Uniformly Sample Temperature Data"
   ]
  },
  {
   "cell_type": "code",
   "execution_count": null,
   "id": "0e0e13fc",
   "metadata": {},
   "outputs": [],
   "source": [
    "def makeHist(data, title, xlabel, ylabel, bins = 20):\n",
    "    pylab.hist(data, bins = bins)\n",
    "    pylab.title(title)\n",
    "    pylab.xlabel(xlabel)\n",
    "    pylab.ylabel(ylabel)"
   ]
  },
  {
   "cell_type": "code",
   "execution_count": null,
   "id": "1515b44d",
   "metadata": {},
   "outputs": [],
   "source": [
    "def getMeansAndSDs(population, sample, verbose = False):\n",
    "    popMean = sum(population)/len(population)\n",
    "    sampleMean = sum(sample)/len(sample)\n",
    "    if verbose:\n",
    "        makeHist(population,\n",
    "                 'Daily High 1961-2015, Population\\n' +\\\n",
    "                 '(mean = '  + str(round(popMean, 2)) + ')',\n",
    "                 'Degrees C', 'Number Days')\n",
    "        pylab.figure()\n",
    "        makeHist(sample, 'Daily High 1961-2015, Sample\\n' +\\\n",
    "                 '(mean = ' + str(round(sampleMean, 2)) + ')',\n",
    "                 'Degrees C', 'Number Days')   \n",
    "        print('Population mean =', popMean)\n",
    "        print('Standard deviation of population =',\n",
    "              numpy.std(population))\n",
    "        print('Sample mean =', sampleMean)\n",
    "        print('Standard deviation of sample =',\n",
    "              numpy.std(sample))\n",
    "    return popMean, sampleMean,\\\n",
    "           numpy.std(population), numpy.std(sample)"
   ]
  },
  {
   "cell_type": "code",
   "execution_count": null,
   "id": "e9520390",
   "metadata": {},
   "outputs": [],
   "source": [
    "import random, numpy\n",
    "random.seed(0)     \n",
    "\n",
    "population = getHighs() # population data\n",
    "# returns a list containing sampleSzie randonmly chosen distinct elements of population \n",
    "# sampling without replacement\n",
    "sample = random.sample(population, 100) # dample data\n",
    "\n",
    "getMeansAndSDs(population, sample, True)"
   ]
  },
  {
   "cell_type": "markdown",
   "id": "6eeab2da",
   "metadata": {},
   "source": [
    "### CLT Application"
   ]
  },
  {
   "cell_type": "code",
   "execution_count": null,
   "id": "2fa1b012",
   "metadata": {},
   "outputs": [],
   "source": [
    "random.seed(0) \n",
    "\n",
    "population = getHighs()\n",
    "sampleSize = 100 # each time we choose 100 samples\n",
    "numSamples = 1000 # we do this 1000 times (number of trials)\n",
    "sampleMeans = []\n",
    "for i in range(numSamples):\n",
    "    sample = random.sample(population, sampleSize)\n",
    "    popMean, sampleMean, popSD, sampleSD =\\\n",
    "       getMeansAndSDs(population, sample, verbose = False)\n",
    "    sampleMeans.append(sampleMean)\n",
    "print('Mean of sample Means =',\n",
    "      round(sum(sampleMeans)/len(sampleMeans), 3))\n",
    "print('Standard deviation of sample means =',\n",
    "      round(numpy.std(sampleMeans), 3))\n",
    "makeHist(sampleMeans, 'Means of Samples', 'Mean', 'Frequency')\n",
    "# draws a red vertical line at popMean on the x-axis\n",
    "# there is also a pylab.axhline function\n",
    "pylab.axvline(x = popMean, color = 'r') "
   ]
  },
  {
   "cell_type": "markdown",
   "id": "5b7f05b1",
   "metadata": {},
   "source": [
    "### Error Bars\n",
    "1. Graphical representation of the variability of data\n",
    "2. way to visualize uncertainty\n",
    "3. When confidence intervals do not overlap, we can conclude that means are statistically significantly different at 95% level.\n",
    "4. larger samples seem to be better"
   ]
  },
  {
   "cell_type": "code",
   "execution_count": null,
   "id": "dfaa0d88",
   "metadata": {},
   "outputs": [],
   "source": [
    "def showErrorBars(population, sizes, numTrials):\n",
    "    xVals = []\n",
    "    sizeMeans, sizeSDs = [], []\n",
    "    for sampleSize in sizes:\n",
    "        xVals.append(sampleSize)\n",
    "        trialMeans = []\n",
    "        for t in range(numTrials):\n",
    "            sample = random.sample(population, sampleSize)\n",
    "            popMean, sampleMean, popSD, sampleSD =\\\n",
    "               getMeansAndSDs(population, sample)\n",
    "            trialMeans.append(sampleMean)\n",
    "        sizeMeans.append(sum(trialMeans)/len(trialMeans))\n",
    "        sizeSDs.append(numpy.std(trialMeans))\n",
    "    print(sizeSDs)\n",
    "\n",
    "    # plot error bar\n",
    "    pylab.errorbar(xVals, sizeMeans,\n",
    "                   yerr = 1.96*pylab.array(sizeSDs), fmt = 'o',\n",
    "                   label = '95% Confidence Interval')\n",
    "    pylab.title('Mean Temperature ('\n",
    "                + str(numTrials) + ' trials)')\n",
    "    pylab.xlabel('Sample Size')\n",
    "    pylab.ylabel('Mean')\n",
    "\n",
    "    # plot horizontal bar\n",
    "    pylab.axhline(y = popMean, color ='r', label = 'Population Mean')\n",
    "    pylab.xlim(0, sizes[-1] + 10)\n",
    "    pylab.legend()"
   ]
  },
  {
   "cell_type": "code",
   "execution_count": null,
   "id": "6e6f9a7e",
   "metadata": {},
   "outputs": [],
   "source": [
    "random.seed(0)\n",
    "population = getHighs()   \n",
    "showErrorBars(population,\n",
    "             (50, 100, 200, 300, 400, 500, 600), 100)"
   ]
  },
  {
   "cell_type": "markdown",
   "id": "4f77115c",
   "metadata": {},
   "source": [
    "## Standard Error of the Mean\n",
    "1. more than you might think, thanks to the central limit theorem.\n",
    "2. Recall central limit theorem (`3rd property`)\n",
    "    1. The variance of the sample means will be close to the variance of the population divided by the sample size.\n",
    "    \n",
    "    ![Standard Error of Mean](images/std_error_mean.PNG)\n",
    "3. Sample standard deviation `almost =` SEM\n",
    "4. But, we do not know standard deviation of population.\n",
    "5. How might we approximate it? \n",
    "    1. once sample reaches a reasonable size, sample std is a pretty good approximation to population std."
   ]
  },
  {
   "cell_type": "code",
   "execution_count": null,
   "id": "21bc951b",
   "metadata": {},
   "outputs": [],
   "source": [
    "def sem(popSD, sampleSize):\n",
    "    return popSD/sampleSize**0.5"
   ]
  },
  {
   "cell_type": "markdown",
   "id": "8a1777d1",
   "metadata": {},
   "source": [
    "### Test the SEM"
   ]
  },
  {
   "cell_type": "code",
   "execution_count": null,
   "id": "a4b9399e",
   "metadata": {},
   "outputs": [],
   "source": [
    "sampleSizes = (25, 50, 100, 200, 300, 400, 500, 600)\n",
    "numTrials = 50 # 50 samples\n",
    "population = getHighs()\n",
    "popSD = numpy.std(population)\n",
    "sems = []\n",
    "sampleSDs = []\n",
    "for size in sampleSizes:\n",
    "    sems.append(sem(popSD, size))\n",
    "    means = []\n",
    "    for t in range(numTrials):\n",
    "        sample = random.sample(population, size)\n",
    "        means.append(sum(sample)/len(sample))\n",
    "    sampleSDs.append(numpy.std(means))\n",
    "pylab.plot(sampleSizes, sampleSDs,\n",
    "           label = 'Std of ' + str(numTrials) + ' means')\n",
    "pylab.plot(sampleSizes, sems, 'r--', label = 'SEM')\n",
    "pylab.xlabel('Sample Size')\n",
    "pylab.ylabel('Std and SEM')\n",
    "pylab.title('SD for ' + str(numTrials) + ' Means and SEM')\n",
    "pylab.legend()"
   ]
  },
  {
   "cell_type": "markdown",
   "id": "a611b058",
   "metadata": {},
   "source": [
    "### Look at Distributions\n",
    "1. more skew you have, more samples you need to get a good approximation of the population standard deviation"
   ]
  },
  {
   "cell_type": "code",
   "execution_count": null,
   "id": "e117e44d",
   "metadata": {},
   "outputs": [],
   "source": [
    "def plotDistributions():\n",
    "    uniform, normal, exp = [], [], []\n",
    "    for i in range(100000):\n",
    "        uniform.append(random.random()) # uniform distribution\n",
    "        normal.append(random.gauss(0, 1)) # guassian distribution (normal)\n",
    "        exp.append(random.expovariate(0.5)) # exponential distribution \n",
    "    makeHist(uniform, 'Uniform', 'Value', 'Frequency')\n",
    "    pylab.figure()\n",
    "    makeHist(normal, 'Gaussian', 'Value', 'Frequency')\n",
    "    pylab.figure()\n",
    "    makeHist(exp, 'Exponential', 'Value', 'Frequency')"
   ]
  },
  {
   "cell_type": "code",
   "execution_count": null,
   "id": "65db4462",
   "metadata": {},
   "outputs": [],
   "source": [
    "plotDistributions()"
   ]
  },
  {
   "cell_type": "code",
   "execution_count": null,
   "id": "9d39ab6c",
   "metadata": {},
   "outputs": [],
   "source": [
    "# Get difference between population standard deviation and sample standard deviation\n",
    "def getDiffs(population, sampleSizes):\n",
    "    popStd = numpy.std(population)\n",
    "    diffsFracs = []\n",
    "    for sampleSize in sampleSizes:\n",
    "        diffs = []\n",
    "        for t in range(100): # 100 trials (do not have to use this)\n",
    "            sample = random.sample(population, sampleSize)\n",
    "            diffs.append(abs(popStd - numpy.std(sample)))\n",
    "        diffMean = sum(diffs)/len(diffs) # mean difference from 100 trials\n",
    "        diffsFracs.append(diffMean/popStd)\n",
    "    return pylab.array(diffsFracs)*100"
   ]
  },
  {
   "cell_type": "code",
   "execution_count": null,
   "id": "b75b49f4",
   "metadata": {},
   "outputs": [],
   "source": [
    "def plotDiffs(sampleSizes, diffs, title, label, color = 'b'):\n",
    "    pylab.plot(sampleSizes, diffs, label = label,\n",
    "               color = color)\n",
    "    pylab.xlabel('Sample Size')\n",
    "    pylab.ylabel('% Difference in SD')\n",
    "    pylab.title(title)\n",
    "    pylab.legend()"
   ]
  },
  {
   "cell_type": "code",
   "execution_count": null,
   "id": "eb03fc64",
   "metadata": {},
   "outputs": [],
   "source": [
    "sampleSizes = range(20, 600, 1)\n",
    "diffs = getDiffs(getHighs(), sampleSizes)\n",
    "\n",
    "plotDiffs(sampleSizes, diffs,\n",
    "          'Sample SD vs Population SD, Temperatures',\n",
    "          label = 'High temps')"
   ]
  },
  {
   "cell_type": "code",
   "execution_count": null,
   "id": "4ad21990",
   "metadata": {},
   "outputs": [],
   "source": [
    "# compare different distributions\n",
    "def compareDists():\n",
    "    uniform, normal, exp = [], [], []\n",
    "    for i in range(100000):\n",
    "        uniform.append(random.random())\n",
    "        normal.append(random.gauss(0, 1))\n",
    "        exp.append(random.expovariate(0.5))\n",
    "    sampleSizes = range(20, 600, 1)\n",
    "    udiffs = getDiffs(uniform, sampleSizes)\n",
    "    ndiffs = getDiffs(normal, sampleSizes)\n",
    "    ediffs = getDiffs(exp, sampleSizes)\n",
    "    plotDiffs(sampleSizes, udiffs,\n",
    "              'Sample SD vs Population SD',\n",
    "              'Uniform population', 'm')\n",
    "    plotDiffs(sampleSizes, ndiffs,\n",
    "              'Sample SD vs Population SD',\n",
    "              'Normal population', 'b')\n",
    "    plotDiffs(sampleSizes, ediffs,\n",
    "              'Sample SD vs Population SD',\n",
    "              'Exponential population', 'r')"
   ]
  },
  {
   "cell_type": "code",
   "execution_count": null,
   "id": "750da986",
   "metadata": {},
   "outputs": [],
   "source": [
    "compareDists()  "
   ]
  },
  {
   "cell_type": "markdown",
   "id": "50ac1e0f",
   "metadata": {},
   "source": [
    "### Look at Population Sizes\n",
    "1. Does population size matter?\n",
    "2. Shockingly, the answer is no. \n",
    "3. When you have large population, we do not actually need large samples \n",
    "4. That the polotical poll is amazingly small."
   ]
  },
  {
   "cell_type": "code",
   "execution_count": null,
   "id": "b2998eab",
   "metadata": {},
   "outputs": [],
   "source": [
    "popSizes = (10000, 100000, 1000000)\n",
    "sampleSizes = range(20, 600, 1)\n",
    "for size in popSizes:\n",
    "    population = []\n",
    "    for i in range(size):\n",
    "        population.append(random.expovariate(0.5))\n",
    "    ediffs = getDiffs(population, sampleSizes)\n",
    "    plotDiffs(sampleSizes, ediffs,\n",
    "              'Sample SD vs Population SD, Uniform',\n",
    "              'Population size = ' + str(size))"
   ]
  },
  {
   "cell_type": "markdown",
   "id": "a18ba19e",
   "metadata": {},
   "source": [
    "### Estimate Mean from a Single Sample\n",
    "1. Choose sample size based on estimate of skew in population\n",
    "2. chose a random sample from the population\n",
    "3. compute the mean and standard devitaion of that sample\n",
    "4. use the standard deviation of that sample to estimate the SE (standard error)\n",
    "5. use the estimated SE to generate confidence intervals around the sample mean"
   ]
  },
  {
   "cell_type": "markdown",
   "id": "a87a8f5f",
   "metadata": {},
   "source": [
    "### Are 200 Samples Enough?"
   ]
  },
  {
   "cell_type": "code",
   "execution_count": null,
   "id": "caed63e3",
   "metadata": {},
   "outputs": [],
   "source": [
    "temps = getHighs()\n",
    "popMean = sum(temps)/len(temps)\n",
    "sampleSize = 200\n",
    "numTrials = 10000\n",
    "\n",
    "random.seed(0)      \n",
    "numBad = 0\n",
    "for t in range(numTrials):\n",
    "    sample = random.sample(temps, sampleSize)\n",
    "    sampleMean = sum(sample)/sampleSize\n",
    "    se = numpy.std(sample)/sampleSize**0.5 # sample std is approximately equal to the population std\n",
    "    if abs(popMean - sampleMean) > 1.96*se:\n",
    "        numBad += 1\n",
    "print('Fraction outside 95% confidence interval =',\n",
    "      numBad/numTrials) # almost 5% "
   ]
  },
  {
   "cell_type": "markdown",
   "id": "d1fc5f32",
   "metadata": {},
   "source": [
    "# Understanding Experimental Data"
   ]
  },
  {
   "cell_type": "markdown",
   "id": "10d215ff",
   "metadata": {},
   "source": [
    "## Linear Springs\n",
    "1. Get the spring constant"
   ]
  },
  {
   "cell_type": "markdown",
   "id": "c86d27d2",
   "metadata": {},
   "source": [
    "### Plot Data\n",
    "1. [readline()](https://www.w3schools.com/python/ref_file_readline.asp)"
   ]
  },
  {
   "cell_type": "code",
   "execution_count": null,
   "id": "e80dfffd",
   "metadata": {},
   "outputs": [],
   "source": [
    "def getData(fileName):\n",
    "    dataFile = open('data/'+fileName, 'r') # the input argument is a string\n",
    "    distances = []\n",
    "    masses = []\n",
    "    dataFile.readline() #discard header\n",
    "    for line in dataFile:\n",
    "        d, m = line.split()\n",
    "        distances.append(float(d))\n",
    "        masses.append(float(m))\n",
    "    dataFile.close()\n",
    "    return (masses, distances)"
   ]
  },
  {
   "cell_type": "code",
   "execution_count": null,
   "id": "2876adba",
   "metadata": {},
   "outputs": [],
   "source": [
    "def labelPlot():\n",
    "    pylab.title('Measured Displacement of Spring')\n",
    "    pylab.xlabel('|Force| (Newtons)')\n",
    "    pylab.ylabel('Distance (meters)')"
   ]
  },
  {
   "cell_type": "code",
   "execution_count": null,
   "id": "731b9ecc",
   "metadata": {},
   "outputs": [],
   "source": [
    "def plotData(fileName):\n",
    "    xVals, yVals = getData(fileName)\n",
    "    xVals = pylab.array(xVals)\n",
    "    yVals = pylab.array(yVals)\n",
    "    xVals = xVals*9.81  #acc. due to gravity, convert to newtons\n",
    "    pylab.plot(xVals, yVals, 'bo',\n",
    "               label = 'Measured displacements')\n",
    "    pylab.legend() # show legend\n",
    "    labelPlot()"
   ]
  },
  {
   "cell_type": "code",
   "execution_count": null,
   "id": "c46f907e",
   "metadata": {},
   "outputs": [],
   "source": [
    "import pylab,numpy\n",
    "plotData('springData.txt') # input argument is a string"
   ]
  },
  {
   "cell_type": "markdown",
   "id": "8393c204",
   "metadata": {},
   "source": [
    "### Fitting Curves to Data\n",
    "1. Variance as a cost function (least squares)\n",
    "\n",
    "![cost function](images/line_fitting_objective_function.PNG)\n",
    "\n",
    "2. [numpy.polyfit](https://numpy.org/doc/stable/reference/generated/numpy.polyfit.html) : find polynomial fits\n",
    "    1. specify the polynomial of degree n, n=1 means best line, n=2 means best parabola.\n",
    "3. [numpy.polyval](https://numpy.org/doc/stable/reference/generated/numpy.polyval.html): Evaluate a polynomial at specific values"
   ]
  },
  {
   "cell_type": "code",
   "execution_count": null,
   "id": "a2d8619a",
   "metadata": {},
   "outputs": [],
   "source": [
    "# using numpy.polyfit\n",
    "def fitData(fileName):\n",
    "    xVals, yVals = getData(fileName) # read data\n",
    "\n",
    "    xVals = pylab.array(xVals) # convert to array\n",
    "    yVals = pylab.array(yVals)\n",
    "\n",
    "    xVals = xVals*9.81 #get force\n",
    "\n",
    "    pylab.plot(xVals, yVals, 'bo',\n",
    "               label = 'Measured points') # plot data\n",
    "    labelPlot()\n",
    "    \n",
    "    # return a tuple (a,b)\n",
    "    a,b = pylab.polyfit(xVals, yVals, 1) # apply polyfit with polynomial order = 1\n",
    "    estYVals = a*pylab.array(xVals) + b # get the fit data (array), array operation (can use numpy.polyval)\n",
    "\n",
    "    print('a =', a, 'b =', b)\n",
    "\n",
    "    pylab.plot(xVals, estYVals, 'r',\n",
    "               label = 'Linear fit, k = '\n",
    "               + str(round(1/a, 5))) # superimpose with the fit data\n",
    "    pylab.legend(loc = 'best') # print out legends on the best location"
   ]
  },
  {
   "cell_type": "code",
   "execution_count": null,
   "id": "406078a2",
   "metadata": {},
   "outputs": [],
   "source": [
    "import pylab \n",
    "fitData('springData.txt')"
   ]
  },
  {
   "cell_type": "code",
   "execution_count": null,
   "id": "8d97d0d2",
   "metadata": {},
   "outputs": [],
   "source": [
    "# polyval\n",
    "def fitData1(fileName):\n",
    "    xVals, yVals = getData(fileName)\n",
    "    xVals = pylab.array(xVals)\n",
    "    yVals = pylab.array(yVals)\n",
    "    xVals = xVals*9.81 #get force\n",
    "    pylab.plot(xVals, yVals, 'bo',\n",
    "               label = 'Measured points')\n",
    "    labelPlot() \n",
    "\n",
    "    model = pylab.polyfit(xVals, yVals, 1) # model is a tuple (a,b)\n",
    "    estYVals = pylab.polyval(model, xVals) # evaluate polynomial\n",
    "\n",
    "    pylab.plot(xVals, estYVals, 'r',\n",
    "               label = 'Linear fit, k = '\n",
    "               + str(round(1/model[0], 5)))\n",
    "    pylab.legend(loc = 'best')"
   ]
  },
  {
   "cell_type": "code",
   "execution_count": null,
   "id": "07d882ff",
   "metadata": {},
   "outputs": [],
   "source": [
    "import pylab\n",
    "fitData1('springData.txt')"
   ]
  },
  {
   "cell_type": "code",
   "execution_count": null,
   "id": "2981f738",
   "metadata": {},
   "outputs": [],
   "source": [
    "#Demonstration using mystery data\n",
    "\n",
    "xVals, yVals = getData('mysteryData.txt')\n",
    "pylab.plot(xVals, yVals, 'o', label = 'Data Points')\n",
    "pylab.title('Mystery Data')\n",
    "\n",
    "#Try linear model\n",
    "model1 = pylab.polyfit(xVals, yVals, 1) # 1st order polynomial\n",
    "pylab.plot(xVals, pylab.polyval(model1, xVals),\n",
    "           label = 'Linear Model')\n",
    "\n",
    "#Try a quadratic model\n",
    "model2 = pylab.polyfit(xVals, yVals, 2) # 2nd order polynomial\n",
    "pylab.plot(xVals, pylab.polyval(model2, xVals),\n",
    "          'r--', label = 'Quadratic Model')\n",
    "pylab.legend()"
   ]
  },
  {
   "cell_type": "markdown",
   "id": "f968d1f2",
   "metadata": {},
   "source": [
    "### Compare Different Fitting Models"
   ]
  },
  {
   "cell_type": "markdown",
   "id": "40cfc4a5",
   "metadata": {},
   "source": [
    "#### Compare Mean Standard Error"
   ]
  },
  {
   "cell_type": "code",
   "execution_count": null,
   "id": "e168c23e",
   "metadata": {},
   "outputs": [],
   "source": [
    "def aveMeanSquareError(data, predicted):\n",
    "    error = 0.0\n",
    "    for i in range(len(data)):\n",
    "        error += (data[i] - predicted[i])**2\n",
    "    return error/len(data)"
   ]
  },
  {
   "cell_type": "code",
   "execution_count": null,
   "id": "4ba3a031",
   "metadata": {},
   "outputs": [],
   "source": [
    "#code to compare fits for mystery data\n",
    "estYVals = pylab.polyval(model1, xVals)  \n",
    "\n",
    "print('Ave. mean square error for linear model =',\n",
    "      aveMeanSquareError(yVals, estYVals))\n",
    "\n",
    "estYVals = pylab.polyval(model2, xVals)\n",
    "print('Ave. mean square error for quadratic model =',\n",
    "      aveMeanSquareError(yVals, estYVals))"
   ]
  },
  {
   "cell_type": "markdown",
   "id": "b6f527ae",
   "metadata": {},
   "source": [
    "#### Coefficient of Determination\n",
    "1. `R^2`, 1 is good, 0 is bad\n",
    "2. A scale-independent measure of goodness-of-fit\n",
    "\n",
    "![R Square](images/r_square.PNG)"
   ]
  },
  {
   "cell_type": "code",
   "execution_count": null,
   "id": "ea88a449",
   "metadata": {},
   "outputs": [],
   "source": [
    "def rSquared(observed, predicted):\n",
    "    error = ((predicted - observed)**2).sum() # built-in sum function to add all elements in arrays\n",
    "    meanError = error/len(observed)\n",
    "    return 1 - (meanError/numpy.var(observed))"
   ]
  },
  {
   "cell_type": "code",
   "execution_count": null,
   "id": "645995d8",
   "metadata": {},
   "outputs": [],
   "source": [
    "def genFits(xVals, yVals, degrees):\n",
    "    models = [] # empty list\n",
    "    for d in degrees: # loop through degs (tuple)\n",
    "        model = pylab.polyfit(xVals, yVals, d)\n",
    "        models.append(model) \n",
    "    return models"
   ]
  },
  {
   "cell_type": "code",
   "execution_count": null,
   "id": "321e538a",
   "metadata": {},
   "outputs": [],
   "source": [
    "def testFits(models, degrees, xVals, yVals, title):\n",
    "    # plot data\n",
    "    pylab.plot(xVals, yVals, 'o', label = 'Data')\n",
    "    # loop through models\n",
    "    for i in range(len(models)): \n",
    "        estYVals = pylab.polyval(models[i], xVals) # geenrate model values\n",
    "        error = rSquared(yVals, estYVals) # compute r square\n",
    "        # plot model data\n",
    "        pylab.plot(xVals, estYVals,\n",
    "                   label = 'Fit of degree '\\\n",
    "                   + str(degrees[i])\\\n",
    "                   + ', R2 = ' + str(round(error, 5)))\n",
    "    pylab.legend(loc = 'best')\n",
    "    pylab.title(title)"
   ]
  },
  {
   "cell_type": "code",
   "execution_count": null,
   "id": "ea0d8940",
   "metadata": {},
   "outputs": [],
   "source": [
    "#code for testing goodness of fit to parabolic data\n",
    "\n",
    "xVals, yVals = getData('mysteryData.txt')\n",
    "degrees = (1, 2)\n",
    "models = genFits(xVals, yVals, degrees)\n",
    "testFits(models, degrees, xVals, yVals, 'Mystery Data')"
   ]
  },
  {
   "cell_type": "code",
   "execution_count": null,
   "id": "33013eed",
   "metadata": {},
   "outputs": [],
   "source": [
    "#Compare higher-order fits\n",
    "degrees = (2, 4, 8, 16)\n",
    "models = genFits(xVals, yVals, degrees)\n",
    "testFits(models, degrees, xVals, yVals, 'Mystery Data')"
   ]
  },
  {
   "cell_type": "markdown",
   "id": "2bc04c7c",
   "metadata": {},
   "source": [
    "#### Look at Two Data Sets"
   ]
  },
  {
   "cell_type": "code",
   "execution_count": null,
   "id": "990866fd",
   "metadata": {},
   "outputs": [],
   "source": [
    "import pylab, numpy\n",
    "\n",
    "degrees = (2, 4, 8, 16)\n",
    "\n",
    "xVals1, yVals1 = getData('Dataset 1.txt')\n",
    "models1 = genFits(xVals1, yVals1, degrees)\n",
    "testFits(models1, degrees, xVals1, yVals1,\n",
    "        'DataSet 1.txt')\n",
    "\n",
    "pylab.figure()\n",
    "xVals2, yVals2 = getData('Dataset 2.txt')\n",
    "models2 = genFits(xVals2, yVals2, degrees)\n",
    "testFits(models2, degrees, xVals2, yVals2,\n",
    "         'DataSet 2.txt')"
   ]
  },
  {
   "cell_type": "markdown",
   "id": "0cc0ffd2",
   "metadata": {},
   "source": [
    "#### Cross Validation\n",
    "1. To check if we are over-fitting the data"
   ]
  },
  {
   "cell_type": "code",
   "execution_count": null,
   "id": "3b6e42c4",
   "metadata": {},
   "outputs": [],
   "source": [
    "pylab.figure()\n",
    "testFits(models1, degrees, xVals2, yVals2,\n",
    "         'DataSet 2/Model 1') # try 2nd data set on 1st model\n",
    "pylab.figure()\n",
    "testFits(models2, degrees, xVals1, yVals1,\n",
    "         'DataSet 1/Model 2') # try 1st data set on 2nd model"
   ]
  },
  {
   "cell_type": "markdown",
   "id": "c7d09e65",
   "metadata": {},
   "source": [
    "## Generate Mystery Data"
   ]
  },
  {
   "cell_type": "code",
   "execution_count": null,
   "id": "8012c4ba",
   "metadata": {},
   "outputs": [],
   "source": [
    "def genNoisyParabolicData(a, b, c, xVals, fName):\n",
    "    yVals = []\n",
    "    for x in xVals: # xVale is a tuple\n",
    "        theoreticalVal = a*x**2 + b*x + c\n",
    "        yVals.append(theoreticalVal\\\n",
    "        + random.gauss(0, 35)) # add random noise\n",
    "    f = open(fName,'w') # open file for write\n",
    "    f.write('x        y\\n') # write 1st line\n",
    "    for i in range(len(yVals)):\n",
    "        f.write(str(yVals[i]) + ' ' + str(xVals[i]) + '\\n') # wirte in data\n",
    "    f.close() # close file"
   ]
  },
  {
   "cell_type": "code",
   "execution_count": null,
   "id": "5870f109",
   "metadata": {},
   "outputs": [],
   "source": [
    "#parameters for generating data\n",
    "import random\n",
    "\n",
    "xVals = range(-10, 11, 1)\n",
    "a, b, c = 3.0, 0.0, 0.0\n",
    "genNoisyParabolicData(a, b, c, xVals,\n",
    "                      'Mystery Data.txt')"
   ]
  },
  {
   "cell_type": "markdown",
   "id": "7eae7387",
   "metadata": {},
   "source": [
    "## Fitting Quadratic to a Perfect Line\n",
    "1. choosing an overly-complex model leads to overfitting to the training data\n",
    "2. Increases the risk of a model that works poorly on data not included in the training set\n",
    "3. Choosing insufficiently complex model has other problems\n",
    "    1. e.g. fit a line to data that was basically parabolic\n",
    "    2. everything should be made as simple as possible, but not simpler (Albert Einstein)"
   ]
  },
  {
   "cell_type": "code",
   "execution_count": null,
   "id": "25a11f24",
   "metadata": {},
   "outputs": [],
   "source": [
    "#a line\n",
    "xVals = (0,1,2,3)\n",
    "yVals = xVals\n",
    "\n",
    "pylab.plot(xVals, yVals, label = 'Actual values')\n",
    "\n",
    "a,b,c = pylab.polyfit(xVals, yVals, 2) # fitting a quadratic line\n",
    "print('a =', round(a, 4), 'b =', round(b, 4),\n",
    "      'c =', round(c, 4)) # a = 0, b= 1, c = 0 (high order term a is zero)\n",
    "estYVals = pylab.polyval((a,b,c), xVals)\n",
    "\n",
    "pylab.plot(xVals, estYVals, 'r--', label = 'Predictive values')\n",
    "print('R-squared = ', rSquared(yVals, estYVals))\n",
    "pylab.legend(loc = 'best')"
   ]
  },
  {
   "cell_type": "code",
   "execution_count": null,
   "id": "e75d88b7",
   "metadata": {},
   "outputs": [],
   "source": [
    "#OPEN FOR SECOND DEMO\n",
    "\n",
    "pylab.figure()\n",
    "#Extend domain\n",
    "xVals = xVals + (20,)\n",
    "yVals = xVals\n",
    "pylab.plot(xVals, yVals, label = 'Actual values')\n",
    "estYVals = pylab.polyval((a,b,c), xVals)\n",
    "pylab.plot(xVals, estYVals, 'r--', label = 'Predictive values')\n",
    "print('R-squared = ', rSquared(yVals, estYVals))\n",
    "pylab.legend(loc = 'best')"
   ]
  },
  {
   "cell_type": "code",
   "execution_count": null,
   "id": "04b91d15",
   "metadata": {},
   "outputs": [],
   "source": [
    "#OPEN FOR THIRD DEMO\n",
    "#almost a line\n",
    "pylab.figure()\n",
    "xVals = (0,1,2,3)\n",
    "yVals = (0,1,2,3.1)\n",
    "pylab.plot(xVals, yVals, label = 'Actual values')\n",
    "model = pylab.polyfit(xVals, yVals, 2)\n",
    "print(model)\n",
    "estYVals = pylab.polyval(model, xVals)\n",
    "pylab.plot(xVals, estYVals, 'r--', label = 'Predicted values')\n",
    "print('R-squared = ', rSquared(yVals, estYVals))\n",
    "pylab.legend(loc = 'best')"
   ]
  },
  {
   "cell_type": "code",
   "execution_count": null,
   "id": "e1c1af78",
   "metadata": {},
   "outputs": [],
   "source": [
    "#OPEN FOR FOURTH DEMO\n",
    "# Fitting with higher order polynomial can cause issues with new data\n",
    "\n",
    "pylab.figure()\n",
    "#Extend domain\n",
    "xVals = xVals + (20,)\n",
    "yVals = xVals\n",
    "pylab.plot(xVals, yVals, label = 'Actual values')\n",
    "estYVals = pylab.polyval(model, xVals)\n",
    "pylab.plot(xVals, estYVals, 'r--', label = 'Predicted values')\n",
    "print('R-squared = ', rSquared(yVals, estYVals))\n",
    "pylab.legend(loc = 'best')"
   ]
  },
  {
   "cell_type": "markdown",
   "id": "925c284c",
   "metadata": {},
   "source": [
    "## Cross Validation Method\n",
    "1. Leave-one-out Cross Validation\n",
    "    1. applies when we have large amount of data\n",
    "    2. partition the original data into k equal size sets\n",
    "    3. model trained on k-1 sets, and tested on remaining set\n",
    "    4. k-folder \n",
    "2. Repeated Random Sampling\n",
    "    1. randomly pick n samples (20% to 50%) from the original data\n",
    "    2. repeat k trials"
   ]
  },
  {
   "cell_type": "code",
   "execution_count": null,
   "id": "5dfee647",
   "metadata": {},
   "outputs": [],
   "source": [
    "# store temprature and year data as an object\n",
    "class tempDatum(object):\n",
    "    def __init__(self, s):\n",
    "        info = s.split(',')\n",
    "        self.high = float(info[1])\n",
    "        self.year = int(info[2][0:4])\n",
    "    def getHigh(self):\n",
    "        return self.high\n",
    "    def getYear(self):\n",
    "        return self.year"
   ]
  },
  {
   "cell_type": "code",
   "execution_count": null,
   "id": "0a900425",
   "metadata": {},
   "outputs": [],
   "source": [
    "# get object data\n",
    "def getTempData():\n",
    "    inFile = open('temperatures.csv')\n",
    "    data = []\n",
    "    for l in inFile:\n",
    "        data.append(tempDatum(l))\n",
    "    return data"
   ]
  },
  {
   "cell_type": "code",
   "execution_count": null,
   "id": "c3618daa",
   "metadata": {},
   "outputs": [],
   "source": [
    "# Get means\n",
    "def getYearlyMeans(data):\n",
    "    years = {} # empty dictionary\n",
    "    for d in data:\n",
    "        try:\n",
    "            years[d.getYear()].append(d.getHigh())\n",
    "        except:\n",
    "            years[d.getYear()] = [d.getHigh()]\n",
    "    for y in years:\n",
    "        years[y] = sum(years[y])/len(years[y]) # calculate avg temp\n",
    "    return years"
   ]
  },
  {
   "cell_type": "code",
   "execution_count": null,
   "id": "f10f191f",
   "metadata": {},
   "outputs": [],
   "source": [
    "# Get and plot data\n",
    "import pylab\n",
    "\n",
    "data = getTempData()\n",
    "years = getYearlyMeans(data)\n",
    "xVals, yVals = [], []\n",
    "for e in years:\n",
    "    xVals.append(e)\n",
    "    yVals.append(years[e])\n",
    "pylab.plot(xVals, yVals)\n",
    "pylab.xlabel('Year')\n",
    "pylab.ylabel('Mean Daily High (C)')\n",
    "pylab.title('Select U.S. Cities')"
   ]
  },
  {
   "cell_type": "code",
   "execution_count": null,
   "id": "979cd0d3",
   "metadata": {},
   "outputs": [],
   "source": [
    "# Split data, half for traning, hald for testing\n",
    "def splitData(xVals, yVals):\n",
    "    toTrain = random.sample(range(len(xVals)),\n",
    "                            len(xVals)//2)\n",
    "    trainX, trainY, testX, testY = [],[],[],[]\n",
    "    for i in range(len(xVals)):\n",
    "        if i in toTrain:\n",
    "            trainX.append(xVals[i])\n",
    "            trainY.append(yVals[i])\n",
    "        else:\n",
    "            testX.append(xVals[i])\n",
    "            testY.append(yVals[i])\n",
    "    return trainX, trainY, testX, testY"
   ]
  },
  {
   "cell_type": "code",
   "execution_count": null,
   "id": "0fa2040b",
   "metadata": {},
   "outputs": [],
   "source": [
    "#UNCOVER FOR SECOND DEMO    \n",
    "numSubsets = 10\n",
    "dimensions = (1, 2, 3, 4)\n",
    "rSquares = {}\n",
    "for d in dimensions:\n",
    "    rSquares[d] = []"
   ]
  },
  {
   "cell_type": "code",
   "execution_count": null,
   "id": "6708b7b1",
   "metadata": {},
   "outputs": [],
   "source": [
    "import random, pylab, numpy\n",
    "\n",
    "for f in range(numSubsets):\n",
    "    trainX, trainY, testX, testY = splitData(xVals, yVals)\n",
    "    for d in dimensions:\n",
    "        model = pylab.polyfit(trainX, trainY, d)\n",
    "        estYVals = pylab.polyval(model, trainX)\n",
    "        estYVals = pylab.polyval(model, testX)\n",
    "        rSquares[d].append(rSquared(testY, estYVals))\n",
    "print('Mean R-squares for test data')"
   ]
  },
  {
   "cell_type": "code",
   "execution_count": null,
   "id": "7c1ebcf0",
   "metadata": {},
   "outputs": [],
   "source": [
    "for d in dimensions:\n",
    "    mean = round(sum(rSquares[d])/len(rSquares[d]), 4)\n",
    "    sd = round(numpy.std(rSquares[d]), 4)\n",
    "    print('For dimensionality', d, 'mean =', mean,\n",
    "          'Std =', sd)"
   ]
  },
  {
   "cell_type": "markdown",
   "id": "a608b959",
   "metadata": {},
   "source": [
    "# Introduction to Machine Learning\n",
    "- Other machine learning courses offered in MIT : [Applied Machine Learning](http://courses.csail.mit.edu/6.862/), [Introduction to Machine Learning](http://courses.csail.mit.edu/6.036/). [Machine Learning](http://www.ai.mit.edu/courses/6.867-f04/).\n",
    "- Field of study that gives computers the ability to learn without being explicitly programmed. \n",
    "- Confusion matrix\n",
    "\n",
    "![confusion matrix](images/confusion_matrix.PNG)\n",
    "\n",
    "![Training accuracy](images/training_accuracy.PNG)\n",
    "\n",
    "- Other measures\n",
    "\n",
    "![ppd](images/positive_predictive_value.PNG)\n",
    "\n",
    "![sensitivity](images/sensitivity_specificity.PNG)"
   ]
  },
  {
   "cell_type": "code",
   "execution_count": null,
   "id": "37a8c67e",
   "metadata": {},
   "outputs": [],
   "source": [
    "def variance(X):\n",
    "    mean = float(sum(X))/len(X)\n",
    "    diffs = 0.0\n",
    "    for x in X:\n",
    "        diffs += (x - mean)**2\n",
    "    return diffs/len(X)"
   ]
  },
  {
   "cell_type": "code",
   "execution_count": null,
   "id": "25069157",
   "metadata": {},
   "outputs": [],
   "source": [
    "def stdDev(X):\n",
    "    return variance(X)**0.5"
   ]
  },
  {
   "cell_type": "code",
   "execution_count": null,
   "id": "ea56ce4a",
   "metadata": {},
   "outputs": [],
   "source": [
    "# p=1 is manhattan distance, p=2 is euclidean distance\n",
    "def minkowskiDist(v1, v2, p):\n",
    "    \"\"\"Assumes v1 and v2 are equal-length arrays of numbers\n",
    "       Returns Minkowski distance of order p between v1 and v2\"\"\"\n",
    "    dist = 0.0\n",
    "    for i in range(len(v1)):\n",
    "        dist += abs(v1[i] - v2[i])**p\n",
    "    return dist**(1.0/p)"
   ]
  },
  {
   "cell_type": "code",
   "execution_count": null,
   "id": "9b3dd084",
   "metadata": {},
   "outputs": [],
   "source": [
    "\n",
    "class Animal(object):\n",
    "    def __init__(self, name, features):\n",
    "        \"\"\"Assumes name a string; features a list of numbers\"\"\"\n",
    "        self.name = name\n",
    "        self.features = pylab.array(features) # array of features\n",
    "        \n",
    "    def getName(self):\n",
    "        return self.name\n",
    "    \n",
    "    def getFeatures(self):\n",
    "        return self.features\n",
    "    \n",
    "    def distance(self, other): # distance\n",
    "        \"\"\"Assumes other an Animal\n",
    "           Returns the Euclidean distance between feature vectors\n",
    "              of self and other\"\"\"\n",
    "        return minkowskiDist(self.getFeatures(),\n",
    "                             other.getFeatures(), 2)"
   ]
  },
  {
   "cell_type": "code",
   "execution_count": null,
   "id": "1d50d6f7",
   "metadata": {},
   "outputs": [],
   "source": [
    "def compareAnimals(animals, precision):\n",
    "    \"\"\"Assumes animals is a list of animals, precision an int >= 0\n",
    "       Builds a table of Euclidean distance between each animal\"\"\"\n",
    "    #Get labels for columns and rows\n",
    "    columnLabels = []\n",
    "    for a in animals:\n",
    "        columnLabels.append(a.getName())\n",
    "    rowLabels = columnLabels[:]\n",
    "    tableVals = []\n",
    "    #Get distances between pairs of animals\n",
    "    #For each row\n",
    "    for a1 in animals:\n",
    "        row = []\n",
    "        #For each column\n",
    "        for a2 in animals:\n",
    "            if a1 == a2:\n",
    "                row.append('--')\n",
    "            else:\n",
    "                distance = a1.distance(a2)\n",
    "                row.append(str(round(distance, precision)))\n",
    "        tableVals.append(row)\n",
    "    #Produce table\n",
    "    fig = pylab.subplot()\n",
    "    table = pylab.table(rowLabels = rowLabels,\n",
    "                        colLabels = columnLabels,\n",
    "                        cellText = tableVals,\n",
    "                        cellLoc = 'center',\n",
    "                        loc = 'center',\n",
    "                        colWidths = [0.2]*len(animals))\n",
    "    table.scale(1, 2.5)\n",
    "    pylab.title('Eucliedan Distance Between Animals')"
   ]
  },
  {
   "cell_type": "code",
   "execution_count": null,
   "id": "41d5c0f7",
   "metadata": {},
   "outputs": [],
   "source": [
    "import pylab\n",
    "\n",
    "# animal instances\n",
    "rattlesnake = Animal('rattlesnake', [1,1,1,1,0])\n",
    "boa = Animal('boa\\nconstrictor', [0,1,0,1,0])\n",
    "dartFrog = Animal('dart frog', [1,0,1,0,4])\n",
    "\n",
    "animals = [rattlesnake, boa, dartFrog] # list of animals\n",
    "compareAnimals(animals, 3)"
   ]
  },
  {
   "cell_type": "code",
   "execution_count": null,
   "id": "7f5a0955",
   "metadata": {},
   "outputs": [],
   "source": [
    "alligator = Animal('alligator', [1,1,0,1,4])\n",
    "animals.append(alligator)\n",
    "compareAnimals(animals, 3)"
   ]
  },
  {
   "cell_type": "code",
   "execution_count": null,
   "id": "b42f3215",
   "metadata": {},
   "outputs": [],
   "source": [
    "rattlesnake = Animal('rattlesnake', [1,1,1,1,0])\n",
    "boa = Animal('boa\\nconstrictor', [0,1,0,1,0])\n",
    "dartFrog = Animal('dart frog', [1,0,1,0,1])\n",
    "alligator = Animal('alligator', [1,1,0,1,1])\n",
    "animals = [rattlesnake, boa, dartFrog, alligator]\n",
    "compareAnimals(animals, 3)\n"
   ]
  },
  {
   "cell_type": "markdown",
   "id": "d1fb4af6",
   "metadata": {},
   "source": [
    "## Clustering"
   ]
  },
  {
   "cell_type": "markdown",
   "id": "08bd9ec4",
   "metadata": {},
   "source": [
    "### Hierarchical Clustering\n",
    "1. Satrting by assigning each item to a clsuter, so that if you have N items, you now have N clusters, each containing just one item.\n",
    "2. Find the closest (most similar) pair of clusters and merge them into a single cluster, so that now you have one fewer cluster.\n",
    "3. Continue the process until all items are clustered into a single cluster of size N\n",
    "4. Linkage metrics (distance)\n",
    "    1. single-linkage: distance between two clusters to be equal to the shortest disatnce from any member of one cluster to any member of the other cluster\n",
    "    2. complete-linkage: greatest distance\n",
    "    3. average-linkage: average distance\n"
   ]
  },
  {
   "cell_type": "markdown",
   "id": "39a8d358",
   "metadata": {},
   "source": [
    "### K-means Clustering\n",
    "1. k is the number of clusters you want (most useful when you know many clusters you want)\n",
    "2. k-means is much faster `(most commonly used clustering algorithm)`\n",
    "3. randomly chose k examples as initial centroids\n",
    "4. while true\n",
    "    1. create k clusters by assigning each example to cloest centroid\n",
    "    2. compute k new centroids by averaging examples in each cluster\n",
    "    3. if centorid don't change: break\n",
    "5. Issues with k-means\n",
    "    1. choosing `wrong k` can lead to strange results\n",
    "    2. results can depend upon `initial centroid` (we can try multiple sets of randomly chosen initial centroids)\n",
    "6. How to choose K\n",
    "    1. a priori knowledge about application domain\n",
    "    2. search for a good k\n",
    "7. Refer to my repo to get the code for K-means"
   ]
  },
  {
   "cell_type": "markdown",
   "id": "c8bdceec",
   "metadata": {},
   "source": [
    "## Classification\n",
    "1. Nearest neighbor \n",
    "2. K-nearest neighbor (KNN)\n",
    "    1. learning fast, no explicit training\n",
    "    2. no theory required\n",
    "    3. easy to explain method and results\n",
    "    4. memory intensive and predictions can take a long time (better than brute force)\n",
    "    5. No model to shed light on process that generated data\n",
    "3. `Sensitivity` (recall) and `specificity` = precision\n",
    "\n",
    "![other_metrics](images/other_metrics.PNG)\n",
    "\n",
    "4. Testing Methodology Matters\n",
    "    1. leave-one-out (when you have a small number of examples)\n",
    "    2. repeated random subsampling (whe you have a large number of examples)"
   ]
  },
  {
   "cell_type": "code",
   "execution_count": null,
   "id": "3d8c2ad3",
   "metadata": {},
   "outputs": [],
   "source": [
    "def getStats(truePos, falsePos, trueNeg, falseNeg, toPrint = True):\n",
    "    accur = accuracy(truePos, falsePos, trueNeg, falseNeg)\n",
    "    sens = sensitivity(truePos, falseNeg)\n",
    "    spec = specificity(trueNeg, falsePos)\n",
    "    ppv = posPredVal(truePos, falsePos)\n",
    "    if toPrint:\n",
    "        print(' Accuracy =', round(accur, 3))\n",
    "        print(' Sensitivity =', round(sens, 3))\n",
    "        print(' Specificity =', round(spec, 3))\n",
    "        print(' Pos. Pred. Val. =', round(ppv, 3))\n",
    "    return (accur, sens, spec, ppv)"
   ]
  },
  {
   "cell_type": "code",
   "execution_count": null,
   "id": "e07206f7",
   "metadata": {},
   "outputs": [],
   "source": [
    "# leave one out method\n",
    "def leaveOneOut(examples, method, toPrint = True):\n",
    "    truePos, falsePos, trueNeg, falseNeg = 0, 0, 0, 0\n",
    "    for i in range(len(examples)):\n",
    "        testCase = examples[i]\n",
    "        trainingData = examples[0:i] + examples[i+1:]\n",
    "        results = method(trainingData, [testCase])\n",
    "        truePos += results[0]\n",
    "        falsePos += results[1]\n",
    "        trueNeg += results[2]\n",
    "        falseNeg += results[3]\n",
    "    if toPrint:\n",
    "        getStats(truePos, falsePos, trueNeg, falseNeg)\n",
    "    return truePos, falsePos, trueNeg, falseNeg"
   ]
  },
  {
   "cell_type": "code",
   "execution_count": null,
   "id": "2ef941e9",
   "metadata": {},
   "outputs": [],
   "source": [
    "# randomly split data to 80% for training, 20% for testing\n",
    "def split80_20(examples):\n",
    "    sampleIndices = random.sample(range(len(examples)),\n",
    "                                  len(examples)//5) # 20% percent\n",
    "    trainingSet, testSet = [], []\n",
    "    for i in range(len(examples)):\n",
    "        if i in sampleIndices:\n",
    "            testSet.append(examples[i]) # 20% test set\n",
    "        else:\n",
    "            trainingSet.append(examples[i]) # 80% trining set\n",
    "    return trainingSet, testSet"
   ]
  },
  {
   "cell_type": "code",
   "execution_count": null,
   "id": "6a6b01a5",
   "metadata": {},
   "outputs": [],
   "source": [
    "def randomSplits(examples, method, numSplits, toPrint = True):\n",
    "    truePos, falsePos, trueNeg, falseNeg = 0, 0, 0, 0\n",
    "    random.seed(0)\n",
    "    for t in range(numSplits):\n",
    "        trainingSet, testSet = split80_20(examples)\n",
    "        results = method(trainingSet, testSet)\n",
    "        truePos += results[0]\n",
    "        falsePos += results[1]\n",
    "        trueNeg += results[2]\n",
    "        falseNeg += results[3]\n",
    "    getStats(truePos/numSplits, falsePos/numSplits,\n",
    "             trueNeg/numSplits, falseNeg/numSplits, toPrint)\n",
    "    return truePos/numSplits, falsePos/numSplits,\\\n",
    "             trueNeg/numSplits, falseNeg/numSplits"
   ]
  },
  {
   "cell_type": "markdown",
   "id": "5089f3a5",
   "metadata": {},
   "source": [
    "### Try KNN"
   ]
  },
  {
   "cell_type": "code",
   "execution_count": null,
   "id": "a81880e2",
   "metadata": {},
   "outputs": [],
   "source": [
    "def KNearestClassify(training, testSet, label, k):\n",
    "    \"\"\"Assumes training & testSet lists of examples, k an int\n",
    "       Predicts whether each example in testSet has label\n",
    "       Returns number of true positives, false positives,\n",
    "          true negatives, and false negatives\"\"\"\n",
    "    truePos, falsePos, trueNeg, falseNeg = 0, 0, 0, 0\n",
    "    for testCase in testSet:\n",
    "        nearest, distances = findKNearest(testCase, training, k)\n",
    "        #conduct vote\n",
    "        numMatch = 0\n",
    "        for i in range(len(nearest)):\n",
    "            if nearest[i].getLabel() == label:\n",
    "                numMatch += 1\n",
    "        if numMatch > k//2: #guess label\n",
    "            if testCase.getLabel() == label:\n",
    "                truePos += 1\n",
    "            else:\n",
    "                falsePos += 1\n",
    "        else: #guess not label\n",
    "            if testCase.getLabel() != label:\n",
    "                trueNeg += 1\n",
    "            else:\n",
    "                falseNeg += 1\n",
    "    return truePos, falsePos, trueNeg, falseNeg"
   ]
  },
  {
   "cell_type": "code",
   "execution_count": null,
   "id": "8c61da73",
   "metadata": {},
   "outputs": [],
   "source": [
    "# a new funcation called knn with only two variables and two constants ('survived',3)\n",
    "# very common programming trick to use\n",
    "knn = lambda training, testSet:\\\n",
    "             KNearestClassify(training, testSet,\n",
    "                              'Survived', 3) "
   ]
  },
  {
   "cell_type": "code",
   "execution_count": null,
   "id": "34ca4aab",
   "metadata": {},
   "outputs": [],
   "source": [
    "# run KNN\n",
    "numSplits = 10\n",
    "print('Average of', numSplits,\n",
    "      '80/20 splits using KNN (k=3)')\n",
    "truePos, falsePos, trueNeg, falseNeg =\\\n",
    "      randomSplits(examples, knn, numSplits)\n",
    "\n",
    "print('Average of LOO testing using KNN (k=3)')\n",
    "truePos, falsePos, trueNeg, falseNeg =\\\n",
    "      leaveOneOut(examples, knn)"
   ]
  },
  {
   "cell_type": "markdown",
   "id": "e71b0ce4",
   "metadata": {},
   "source": [
    "### Logistic Regression Method\n",
    "1. Design explicitly for predicting probability of an event"
   ]
  },
  {
   "cell_type": "markdown",
   "id": "eb7162e6",
   "metadata": {},
   "source": [
    "## Statistical Sins"
   ]
  },
  {
   "cell_type": "markdown",
   "id": "333a5a88",
   "metadata": {},
   "source": [
    "# Numpy Tutorial \n",
    "[Numpy](https://numpy.org/) is the fundamental package for scientific computing with Python.\n",
    "It provides a high-performance multidimensional array object, and tools for working with these arrays. \n",
    "If you are already familiar with MATLAB, you might find this [tutorial](https://numpy.org/doc/stable/user/numpy-for-matlab-users.html) useful to get started with Numpy.\n",
    "More details can be found from the [Numpy Reference](https://numpy.org/doc/stable/reference/)\n",
    "\n",
    "- [Numpy Basics](#numpy-basics)"
   ]
  },
  {
   "cell_type": "markdown",
   "id": "9dcaa312",
   "metadata": {},
   "source": [
    "## Numpy Basics\n",
    "The following content are from [Python Numpy Tutorial](https://cs231n.github.io/python-numpy-tutorial/#numpy)"
   ]
  },
  {
   "cell_type": "markdown",
   "id": "61749cbd",
   "metadata": {},
   "source": [
    "### Arrays\n",
    "- A numpy array is a grid of values, all of the same type, and is indexed by a `tuple` of nonnegative integers. The number of **dimensions** is the `rank ` (number of most outside brackets)of the array; the `shape` of an array is a `tuple` of integers giving the **size** of the array along each dimension.\n",
    "- We can initialize numpy arrays from nested Python lists, and access elements using square brackets.\n",
    "- More methods about the array creation in Numpy can be found [here](https://numpy.org/doc/stable/user/basics.creation.html#arrays-creation)"
   ]
  },
  {
   "cell_type": "code",
   "execution_count": null,
   "id": "7f6453e5",
   "metadata": {},
   "outputs": [],
   "source": [
    "import numpy as np\n",
    "\n",
    "a = np.array([1, 2, 3])   # Create a rank 1 array\n",
    "print(type(a))            # Prints \"<class 'numpy.ndarray'>\"\n",
    "print(a.shape)            # Prints \"(3,)\"\n",
    "print(a[0], a[1], a[2])   # Prints \"1 2 3\"\n",
    "a[0] = 5                  # Change an element of the array\n",
    "print(a)                  # Prints \"[5, 2, 3]\"\n",
    "\n",
    "b = np.array([[1,2,3],[4,5,6]])    # Create a rank 2 array\n",
    "print(b.shape)                     # Prints \"(2, 3)\"\n",
    "print(b[0, 0], b[0, 1], b[1, 0])   # Prints \"1 2 4\""
   ]
  },
  {
   "cell_type": "code",
   "execution_count": null,
   "id": "f7f5eaca",
   "metadata": {},
   "outputs": [],
   "source": [
    "# Numpy also provides many functions to create arrays:\n",
    "a = np.zeros((2,2))   # Create an array of all zeros\n",
    "print(a)              # Prints \"[[ 0.  0.]\n",
    "                      #          [ 0.  0.]]\"\n",
    "\n",
    "b = np.ones((1,2))    # Create an array of all ones\n",
    "print(b)              # Prints \"[[ 1.  1.]]\"\n",
    "\n",
    "c = np.full((2,2), 7)  # Create a constant array\n",
    "print(c)               # Prints \"[[ 7.  7.]\n",
    "                       #          [ 7.  7.]]\"\n",
    "\n",
    "d = np.eye(2)         # Create a 2x2 identity matrix\n",
    "print(d)              # Prints \"[[ 1.  0.]\n",
    "                      #          [ 0.  1.]]\"\n",
    "\n",
    "e = np.random.random((2,2))  # Create an array filled with random values\n",
    "print(e)                     # Might print \"[[ 0.91940167  0.08143941]\n",
    "                             #               [ 0.68744134  0.87236687]]\""
   ]
  },
  {
   "cell_type": "markdown",
   "id": "9a520bb6",
   "metadata": {},
   "source": [
    "### Array Indexing\n",
    "- Numpy offers several ways to index into arrays. \n",
    "- `slicing` Similar to Python lists, numpy arrays can be sliced. Since arrays may be multidimensional, you must specify a slice for each dimension of the array:\n",
    "- `Integer array indexing`\n",
    "- `Boolean array indexing`\n",
    "- More information about array indexing can be found [here](https://numpy.org/doc/stable/reference/arrays.indexing.html)"
   ]
  },
  {
   "cell_type": "markdown",
   "id": "04041e1e",
   "metadata": {},
   "source": [
    "Slicing "
   ]
  },
  {
   "cell_type": "code",
   "execution_count": null,
   "id": "98a740d0",
   "metadata": {},
   "outputs": [],
   "source": [
    "import numpy as np\n",
    "\n",
    "# Create the following rank 2 array with shape (3, 4)\n",
    "# [[ 1  2  3  4]\n",
    "#  [ 5  6  7  8]\n",
    "#  [ 9 10 11 12]]\n",
    "a = np.array([[1,2,3,4], [5,6,7,8], [9,10,11,12]])\n",
    "\n",
    "# Use slicing to pull out the subarray consisting of the first 2 rows\n",
    "# and columns 1 and 2; b is the following array of shape (2, 2):\n",
    "# [[2 3]\n",
    "#  [6 7]]\n",
    "b = a[:2, 1:3]\n",
    "\n",
    "# A slice of an array is a view into the same data, so modifying it\n",
    "# will modify the original array. (This is different from Matlab)\n",
    "print(a[0, 1])   # Prints \"2\"\n",
    "b[0, 0] = 77     # b[0, 0] is the same piece of data as a[0, 1]\n",
    "print(a[0, 1])   # Prints \"77\""
   ]
  },
  {
   "cell_type": "code",
   "execution_count": null,
   "id": "59395a43",
   "metadata": {},
   "outputs": [],
   "source": [
    "# You can also mix integer indexing with slice indexing. \n",
    "# However, doing so will yield an array of lower rank than the original array.\n",
    "# Note that this is quite different from the way that MATLAB handles array slicing:\n",
    "import numpy as np\n",
    "\n",
    "# Create the following rank 2 array with shape (3, 4)\n",
    "# [[ 1  2  3  4]\n",
    "#  [ 5  6  7  8]\n",
    "#  [ 9 10 11 12]]\n",
    "a = np.array([[1,2,3,4], [5,6,7,8], [9,10,11,12]])\n",
    "\n",
    "# Two ways of accessing the data in the middle row of the array.\n",
    "# Mixing integer indexing with slices yields an array of lower rank,\n",
    "# while using only slices yields an array of the same rank as the\n",
    "# original array:\n",
    "row_r1 = a[1, :]    # Rank 1 view of the second row of a\n",
    "row_r2 = a[1:2, :]  # Rank 2 view of the second row of a\n",
    "print(row_r1, row_r1.shape)  # Prints \"[5 6 7 8] (4,)\"\n",
    "print(row_r2, row_r2.shape)  # Prints \"[[5 6 7 8]] (1, 4)\"\n",
    "\n",
    "# We can make the same distinction when accessing columns of an array:\n",
    "col_r1 = a[:, 1]\n",
    "col_r2 = a[:, 1:2]\n",
    "print(col_r1, col_r1.shape)  # Prints \"[ 2  6 10] (3,)\"\n",
    "print(col_r2, col_r2.shape)  # Prints \"[[ 2]\n",
    "                             #          [ 6]\n",
    "                             #          [10]] (3, 1)\""
   ]
  },
  {
   "cell_type": "markdown",
   "id": "165814ef",
   "metadata": {},
   "source": [
    "Integer Array Indexing"
   ]
  },
  {
   "cell_type": "code",
   "execution_count": null,
   "id": "54ec10ee",
   "metadata": {},
   "outputs": [],
   "source": [
    "# - When you index into numpy arrays using slicing, the resulting array view will always be a subarray of the original array. \n",
    "# In contrast, integer array indexing allows you to construct arbitrary arrays using the data from another array.\n",
    "import numpy as np\n",
    "\n",
    "a = np.array([[1,2], [3, 4], [5, 6]]) # rank 2, shpae is (3,2)\n",
    "\n",
    "# An example of integer array indexing.\n",
    "# The returned array will have shape (3,) and\n",
    "print(a[[0, 1, 2], [0, 1, 0]])  # Prints \"[1 4 5]\"\n",
    "\n",
    "# The above example of integer array indexing is equivalent to this:\n",
    "print(np.array([a[0, 0], a[1, 1], a[2, 0]]))  # Prints \"[1 4 5]\"\n",
    "\n",
    "# When using integer array indexing, you can reuse the same\n",
    "# element from the source array:\n",
    "print(a[[0, 0], [1, 1]])  # Prints \"[2 2]\"\n",
    "\n",
    "# Equivalent to the previous integer array indexing example\n",
    "print(np.array([a[0, 1], a[0, 1]]))  # Prints \"[2 2]\"\n",
    "\n",
    "# Produce a new array\n",
    "b = a[[0, 1, 2], [0, 1, 0]]\n",
    "print(b) # [1 4 5] \n",
    "\n",
    "# change value\n",
    "b[0]=10 # does not change the value in a\n",
    "\n",
    "print(b) # [10 4 5]\n",
    "print(a) # unchanged"
   ]
  },
  {
   "cell_type": "code",
   "execution_count": null,
   "id": "b6d017c9",
   "metadata": {},
   "outputs": [],
   "source": [
    "# One useful trick with integer array indexing is selecting or mutating one element from each row of a matrix:\n",
    "import numpy as np\n",
    "\n",
    "# Create a new array from which we will select elements\n",
    "a = np.array([[1,2,3], [4,5,6], [7,8,9], [10, 11, 12]]) # rank 2, shape = (4,3)\n",
    "\n",
    "print(a)  # prints \"array([[ 1,  2,  3],\n",
    "          #                [ 4,  5,  6],\n",
    "          #                [ 7,  8,  9],\n",
    "          #                [10, 11, 12]])\"\n",
    "\n",
    "# Create an array of indices\n",
    "b = np.array([0, 2, 0, 1])\n",
    "\n",
    "# Select one element from each row of a using the indices in b\n",
    "print(np.arange(4)) # [0 1 2 3]\n",
    "print(a[np.arange(4), b])  # Prints \"[ 1  6  7 11]\"\n",
    "\n",
    "# Mutate one element from each row of a using the indices in b\n",
    "a[np.arange(4), b] += 10 # like generator? \n",
    "\n",
    "print(a)  # prints \"array([[11,  2,  3],\n",
    "          #                [ 4,  5, 16],\n",
    "          #                [17,  8,  9],\n",
    "          #                [10, 21, 12]])"
   ]
  },
  {
   "cell_type": "markdown",
   "id": "7f62da12",
   "metadata": {},
   "source": [
    "Boolean Array Indexing "
   ]
  },
  {
   "cell_type": "code",
   "execution_count": null,
   "id": "d9153dd8",
   "metadata": {},
   "outputs": [],
   "source": [
    "# Boolean array indexing lets you pick out arbitrary elements of an array. \n",
    "# Frequently this type of indexing is used to select the elements of an array that satisfy some condition. \n",
    "import numpy as np\n",
    "\n",
    "a = np.array([[1,2], [3, 4], [5, 6]])\n",
    "\n",
    "bool_idx = (a > 2)   # Find the elements of a that are bigger than 2;\n",
    "                     # this returns a numpy array of Booleans of the same\n",
    "                     # shape as a, where each slot of bool_idx tells\n",
    "                     # whether that element of a is > 2.\n",
    "\n",
    "print(bool_idx)      # Prints \"[[False False]\n",
    "                     #          [ True  True]\n",
    "                     #          [ True  True]]\"\n",
    "\n",
    "# We use boolean array indexing to construct a rank 1 array\n",
    "# consisting of the elements of a corresponding to the True values\n",
    "# of bool_idx\n",
    "print(a[bool_idx])  # Prints \"[3 4 5 6]\"\n",
    "\n",
    "# We can do all of the above in a single concise statement:\n",
    "print(a[a > 2])     # Prints \"[3 4 5 6]\""
   ]
  },
  {
   "cell_type": "markdown",
   "id": "fb952dad",
   "metadata": {},
   "source": [
    "### Datatypes\n",
    "Every numpy array is a grid of elements of the same type. **Numpy** provides a large set of **numeric datatypes** that you can use to construct arrays. **Numpy** tries to guess a datatype when you create an array, but functions that construct arrays usually also include an optional argument to explicitly specify the datatype. "
   ]
  },
  {
   "cell_type": "code",
   "execution_count": null,
   "id": "e870bff0",
   "metadata": {},
   "outputs": [],
   "source": [
    "import numpy as np\n",
    "\n",
    "x = np.array([1, 2])   # Let numpy choose the datatype\n",
    "print(x.dtype)         # Prints \"int32\"\n",
    "\n",
    "x = np.array([1.0, 2.0])   # Let numpy choose the datatype\n",
    "print(x.dtype)             # Prints \"float64\"\n",
    "\n",
    "x = np.array([1, 2], dtype=np.int64)   # Force a particular datatype\n",
    "print(x.dtype)                         # Prints \"int64\""
   ]
  },
  {
   "cell_type": "markdown",
   "id": "eb58ba09",
   "metadata": {},
   "source": [
    "### Array Math\n",
    "- Basic mathematical functions operate `elementwise` on arrays, and are available both as operator overloads and as functions in the numpy module.\n",
    "- Note that unlike MATLAB, * is elementwise multiplication, not matrix multiplication.\n",
    "- Numpy provides many useful functions for performing computations on arrays; one of the most useful is `sum`\n",
    "- You can find the full list of mathematical functions provided by numpy in the [documentation](https://numpy.org/doc/stable/reference/routines.math.html)\n",
    "- reshape or otherwise manipulate data in arrays. The simplest example of this type of operation is transposing a matrix; to transpose a matrix `T`.\n",
    "- Numpy provides many more functions for manipulating arrays; the full list can be found from [here](https://numpy.org/doc/stable/reference/routines.array-manipulation.html)"
   ]
  },
  {
   "cell_type": "code",
   "execution_count": null,
   "id": "012aa188",
   "metadata": {},
   "outputs": [],
   "source": [
    "import numpy as np\n",
    "\n",
    "x = np.array([[1,2],[3,4]], dtype=np.float64)\n",
    "y = np.array([[5,6],[7,8]], dtype=np.float64)\n",
    "\n",
    "# Elementwise sum; both produce the array\n",
    "# [[ 6.0  8.0]\n",
    "#  [10.0 12.0]]\n",
    "print(x + y)\n",
    "print(np.add(x, y))\n",
    "\n",
    "# Elementwise difference; both produce the array\n",
    "# [[-4.0 -4.0]\n",
    "#  [-4.0 -4.0]]\n",
    "print(x - y)\n",
    "print(np.subtract(x, y))\n",
    "\n",
    "# Elementwise product; both produce the array\n",
    "# [[ 5.0 12.0]\n",
    "#  [21.0 32.0]]\n",
    "print(x * y)\n",
    "print(np.multiply(x, y))\n",
    "\n",
    "# Elementwise division; both produce the array\n",
    "# [[ 0.2         0.33333333]\n",
    "#  [ 0.42857143  0.5       ]]\n",
    "print(x / y)\n",
    "print(np.divide(x, y))\n",
    "\n",
    "# Elementwise square root; produces the array\n",
    "# [[ 1.          1.41421356]\n",
    "#  [ 1.73205081  2.        ]]\n",
    "print(np.sqrt(x))"
   ]
  },
  {
   "cell_type": "code",
   "execution_count": null,
   "id": "d215d76d",
   "metadata": {},
   "outputs": [],
   "source": [
    "# Note that unlike MATLAB, * is elementwise multiplication, not matrix multiplication. \n",
    "# We instead use the dot function to compute inner products of vectors, to multiply a vector by a matrix, and to multiply matrices.\n",
    "# dot is available both as a function in the numpy module and as an instance method of array objects:\n",
    "import numpy as np\n",
    "\n",
    "x = np.array([[1,2],[3,4]])\n",
    "y = np.array([[5,6],[7,8]])\n",
    "\n",
    "v = np.array([9,10])\n",
    "w = np.array([11, 12])\n",
    "\n",
    "# Inner product of vectors; both produce 219\n",
    "print(v.dot(w))\n",
    "print(np.dot(v, w))\n",
    "\n",
    "# Matrix / vector product; both produce the rank 1 array [29 67]\n",
    "print(x.dot(v))\n",
    "print(np.dot(x, v))\n",
    "\n",
    "# Matrix / matrix product; both produce the rank 2 array\n",
    "# [[19 22]\n",
    "#  [43 50]]\n",
    "print(x.dot(y))\n",
    "print(np.dot(x, y))"
   ]
  },
  {
   "cell_type": "code",
   "execution_count": null,
   "id": "4851b907",
   "metadata": {},
   "outputs": [],
   "source": [
    "# Numpy provides many useful functions for performing computations on arrays; one of the most useful is sum\n",
    "import numpy as np\n",
    "\n",
    "x = np.array([[1,2],[3,4]])\n",
    "\n",
    "print(np.sum(x))  # Compute sum of all elements; prints \"10\"\n",
    "print(np.sum(x, axis=0))  # Compute sum of each column; prints \"[4 6]\"\n",
    "print(np.sum(x, axis=1))  # Compute sum of each row; prints \"[3 7]\""
   ]
  },
  {
   "cell_type": "code",
   "execution_count": null,
   "id": "e5f4c747",
   "metadata": {},
   "outputs": [],
   "source": [
    "import numpy as np\n",
    "\n",
    "x = np.array([[1,2], [3,4]])\n",
    "print(x)    # Prints \"[[1 2]\n",
    "            #          [3 4]]\"\n",
    "print(x.T)  # Prints \"[[1 3]\n",
    "            #          [2 4]]\"\n",
    "\n",
    "# Note that taking the transpose of a rank 1 array does nothing: \n",
    "# Python does not distinguish between a rank 1 row array or a column array\n",
    "v = np.array([1,2,3])\n",
    "print(v)    # Prints \"[1 2 3]\"\n",
    "print(v.T)  # Prints \"[1 2 3]\""
   ]
  },
  {
   "cell_type": "markdown",
   "id": "ea36ff97",
   "metadata": {},
   "source": [
    "### Broadcasting\n",
    "- Broadcasting is a powerful mechanism that allows numpy to work with arrays of different shapes when performing arithmetic operations.\n",
    "- Frequently we have a smaller array and a larger array, and we want to use the smaller array multiple times to perform some operation on the larger array.\n",
    "- `np.tile(A,reps)` is desribed [here](https://numpy.org/doc/stable/reference/generated/numpy.tile.html)  \n",
    "- Broadcasting two arrays together follows these rules:\n",
    "    - If the arrays do not have the same rank, prepend the shape of the lower rank array with 1s until both shapes have the same length.\n",
    "    - The two arrays are said to be compatible in a dimension if they have the same size in the dimension, or if one of the arrays has size 1 in that dimension.\n",
    "    - The arrays can be broadcast together if they are compatible in all dimensions.\n",
    "    - After broadcasting, each array behaves as if it had shape equal to the elementwise maximum of shapes of the two input arrays.\n",
    "    - In any dimension where one array had size 1 and the other array had size greater than 1, the first array behaves as if it were copied along that dimension\n",
    "- More explanation about **array broascasting in Nunpy** can be found from [here](https://scipy.github.io/old-wiki/pages/EricsBroadcastingDoc) and [here](https://numpy.org/doc/stable/user/basics.broadcasting.html)\n",
    "- Broadcasting typically makes your code more concise and faster, so you should strive to use it where possible.\n",
    "- Functions that support broadcasting are known as universal functions. You can find the list of all universal functions in the [documentation](https://numpy.org/doc/stable/reference/ufuncs.html#available-ufuncs)."
   ]
  },
  {
   "cell_type": "code",
   "execution_count": null,
   "id": "57a2d297",
   "metadata": {},
   "outputs": [],
   "source": [
    "# For example, suppose that we want to add a constant vector to each row of a matrix. \n",
    "import numpy as np\n",
    "\n",
    "# We will add the vector v to each row of the matrix x,\n",
    "# storing the result in the matrix y\n",
    "x = np.array([[1,2,3], [4,5,6], [7,8,9], [10, 11, 12]])\n",
    "v = np.array([1, 0, 1])\n",
    "y = np.empty_like(x)   # Create an empty matrix with the same shape as x\n",
    "\n",
    "# Add the vector v to each row of the matrix x with an explicit loop\n",
    "for i in range(4):\n",
    "    y[i, :] = x[i, :] + v\n",
    "\n",
    "# Now y is the following\n",
    "# [[ 2  2  4]\n",
    "#  [ 5  5  7]\n",
    "#  [ 8  8 10]\n",
    "#  [11 11 13]]\n",
    "print(y)\n",
    "print(x)"
   ]
  },
  {
   "cell_type": "code",
   "execution_count": null,
   "id": "2f35b6bb",
   "metadata": {},
   "outputs": [],
   "source": [
    "# This works; however when the matrix x is very large, computing an explicit loop in Python could be slow. \n",
    "# Note that adding the vector v to each row of the matrix x is equivalent to forming a matrix vv \n",
    "# by stacking multiple copies of v vertically, then performing elementwise summation of x and vv.\n",
    "import numpy as np\n",
    "\n",
    "# We will add the vector v to each row of the matrix x,\n",
    "# storing the result in the matrix y\n",
    "x = np.array([[1,2,3], [4,5,6], [7,8,9], [10, 11, 12]])\n",
    "v = np.array([1, 0, 1])\n",
    "vv = np.tile(v, (4, 1))   # Stack 4 copies of v on top of each other\n",
    "print(vv)                 # Prints \"[[1 0 1]\n",
    "                          #          [1 0 1]\n",
    "                          #          [1 0 1]\n",
    "                          #          [1 0 1]]\"\n",
    "y = x + vv  # Add x and vv elementwise\n",
    "print(y)  # Prints \"[[ 2  2  4\n",
    "          #          [ 5  5  7]\n",
    "          #          [ 8  8 10]\n",
    "          #          [11 11 13]]\""
   ]
  },
  {
   "cell_type": "code",
   "execution_count": null,
   "id": "c1867b86",
   "metadata": {},
   "outputs": [],
   "source": [
    "# Numpy broadcasting allows us to perform this computation without actually creating multiple copies of v. \n",
    "# Consider this version, using broadcasting:\n",
    "import numpy as np\n",
    "\n",
    "# We will add the vector v to each row of the matrix x,\n",
    "# storing the result in the matrix y\n",
    "x = np.array([[1,2,3], [4,5,6], [7,8,9], [10, 11, 12]])\n",
    "v = np.array([1, 0, 1])\n",
    "y = x + v  # Add v to each row of x using broadcasting\n",
    "print(y)  # Prints \"[[ 2  2  4]\n",
    "          #          [ 5  5  7]\n",
    "          #          [ 8  8 10]\n",
    "          #          [11 11 13]]\"\n",
    "# The line y = x + v works even though x has shape (4, 3) and v has shape (3,) due to broadcasting; \n",
    "# this line works as if v actually had shape (4, 3), where each row was a copy of v, and the sum was performed elementwise."
   ]
  },
  {
   "cell_type": "code",
   "execution_count": null,
   "id": "99454fc3",
   "metadata": {},
   "outputs": [],
   "source": [
    "# Here are some applications of broadcasting:\n",
    "import numpy as np\n",
    "\n",
    "# Compute outer product of vectors\n",
    "v = np.array([1,2,3])  # v has shape (3,)\n",
    "w = np.array([4,5])    # w has shape (2,)\n",
    "# To compute an outer product, we first reshape v to be a column\n",
    "# vector of shape (3, 1); we can then broadcast it against w to yield\n",
    "# an output of shape (3, 2), which is the outer product of v and w:\n",
    "# [[ 4  5]\n",
    "#  [ 8 10]\n",
    "#  [12 15]]\n",
    "print(np.reshape(v, (3, 1)) * w)\n",
    "\n",
    "# Add a vector to each row of a matrix\n",
    "x = np.array([[1,2,3], [4,5,6]])\n",
    "# x has shape (2, 3) and v has shape (3,) so they broadcast to (2, 3),\n",
    "# giving the following matrix:\n",
    "# [[2 4 6]\n",
    "#  [5 7 9]]\n",
    "print(x + v)\n",
    "\n",
    "# Add a vector to each column of a matrix\n",
    "# x has shape (2, 3) and w has shape (2,).\n",
    "# If we transpose x then it has shape (3, 2) and can be broadcast\n",
    "# against w to yield a result of shape (3, 2); transposing this result\n",
    "# yields the final result of shape (2, 3) which is the matrix x with\n",
    "# the vector w added to each column. Gives the following matrix:\n",
    "# [[ 5  6  7]\n",
    "#  [ 9 10 11]]\n",
    "print((x.T + w).T)\n",
    "# Another solution is to reshape w to be a column vector of shape (2, 1);\n",
    "# we can then broadcast it directly against x to produce the same\n",
    "# output.\n",
    "print(x + np.reshape(w, (2, 1)))\n",
    "\n",
    "# Multiply a matrix by a constant:\n",
    "# x has shape (2, 3). Numpy treats scalars as arrays of shape ();\n",
    "# these can be broadcast together to shape (2, 3), producing the\n",
    "# following array:\n",
    "# [[ 2  4  6]\n",
    "#  [ 8 10 12]]\n",
    "print(x * 2)"
   ]
  },
  {
   "cell_type": "markdown",
   "id": "73ec0692",
   "metadata": {},
   "source": [
    "# Appendix\n",
    "- [Useful Python Libraries](#useful-python-libraries)\n",
    "- [Usful Python Learning Resources](#usful-python-learning-resources)"
   ]
  },
  {
   "cell_type": "markdown",
   "id": "97315761",
   "metadata": {},
   "source": [
    "## Useful Python Libraries\n",
    "- [Pylab](https://www.tutorialspoint.com/matplotlib/matplotlib_pylab_module.htm) : Includes `numpy` and `matplotlib`. This library is no longer recommended. \n",
    "- [Pyomo](http://www.pyomo.org/) : A Python library for optimization (quadprog/linprog/mixed prog) ...\n",
    "- [random](https://docs.python.org/3/library/random.html): generate randome numbers\n",
    "- [datetime](https://docs.python.org/3/library/datetime.html): basic date and time types\n",
    "- [time](https://docs.python.org/3/library/time.html#module-time): time access and conversions (a submodule of datetime module)\n",
    "- [matplotlib](https://matplotlib.org/): visualization, object-oriented API for plotting\n",
    "- [numpy](https://numpy.org/doc/stable/index.html): fundamental package for scientific computing in Python\n",
    "- [scipy](https://scipy.org/): Fundamental algorithms for scientific computing in Python (e.g `integration`)\n",
    "- [ffmpy](https://pypi.org/project/ffmpy/):  for converting video files from mp4 to avi. Follow [here](https://blog.csdn.net/zhangpeterx/article/details/88581437) for installation.\n",
    "- [Python Control Systems Library](https://python-control.readthedocs.io/en/0.9.1/): for control system design\n",
    "    - [Youtube Tutorial](https://www.youtube.com/watch?v=fI9Q_haTnVI)\n",
    "- Note need to open the VS code app from Anaconda navigator to use Conda libraries"
   ]
  },
  {
   "cell_type": "markdown",
   "id": "83a0f52c",
   "metadata": {},
   "source": [
    "## Speed up Python Code\n",
    "-[Cython](https://pythonprogramming.net/introduction-and-basics-cython-tutorial/): Cython is an inetrmediate step between Python and C/C++. It allows you to write pure Python code sith some minor modificitions, which is then translated directly into C code. More information can be found form [here](https://cython.org/#about). "
   ]
  },
  {
   "cell_type": "markdown",
   "id": "e50b5b0e",
   "metadata": {},
   "source": [
    "## Usful Python Learning Resources\n",
    "- [Chemical Process Control](https://jckantor.github.io/CBE30338/) : A process control course taught in Pyhton (modeling/PID/frequency domain/optimal control/linearization/optimization)"
   ]
  }
 ],
 "metadata": {
  "kernelspec": {
   "display_name": "Python 3 (ipykernel)",
   "language": "python",
   "name": "python3"
  },
  "language_info": {
   "codemirror_mode": {
    "name": "ipython",
    "version": 3
   },
   "file_extension": ".py",
   "mimetype": "text/x-python",
   "name": "python",
   "nbconvert_exporter": "python",
   "pygments_lexer": "ipython3",
   "version": "3.7.11"
  }
 },
 "nbformat": 4,
 "nbformat_minor": 5
}
