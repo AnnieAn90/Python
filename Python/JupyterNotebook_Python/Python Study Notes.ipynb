{
 "cells": [
  {
   "cell_type": "markdown",
   "id": "69192afc",
   "metadata": {},
   "source": [
    "# Python Basics\n",
    "This notebook serves as the sutdy notes for Python Language. The material is mainly follow the MIT courseware [Introduction to Computer Science and Programming Using Python](https://learning.edx.org/course/course-v1:MITx+6.00.1x+2T2017_2/home). \n",
    "This Chapter describes the basic `objects/while/for/if/logic/operations` concepts in Python language.\n",
    "\n",
    "- [Scalar and Non-scalar Objects](#scaler_obj)\n",
    "- [Expressions in Python](#expression)\n",
    "- [Binding Variables](#bind_var)\n",
    "- [Comparison Operators](#compare)\n",
    "- [Logic Operators](#logic)\n",
    "- [Conditional Statement](#condition)\n",
    "- [Strings](#string)\n",
    "- [While Loops](#while)\n",
    "- [For Loops](#for)\n",
    "- [Iteration](#iteration)\n",
    "- [Guess and Check](#guess)"
   ]
  },
  {
   "cell_type": "markdown",
   "id": "2f82c824",
   "metadata": {},
   "source": [
    "## Scaler and Non-scalar Objects <a id=\"scaler_obj\"></a>\n",
    "`int`, `float`, `bool`, `NoneType` are built-in scalar obejcts (Python is an object-oriented language and eveything in python is an object of a class).\n",
    "\n",
    "`list`,` tuple`, `list`, `dictionary` are non-scalar objects.\n",
    "\n",
    "Can use `type()` to see the type (class) of an object.\n",
    "\n",
    "We can directly convert object of one type to another."
   ]
  },
  {
   "cell_type": "code",
   "execution_count": null,
   "id": "70853d1f",
   "metadata": {},
   "outputs": [],
   "source": [
    "print(type(5))"
   ]
  },
  {
   "cell_type": "code",
   "execution_count": null,
   "id": "20a6c8d2",
   "metadata": {},
   "outputs": [],
   "source": [
    "print(type(3.0))"
   ]
  },
  {
   "cell_type": "code",
   "execution_count": null,
   "id": "1d27a94a",
   "metadata": {},
   "outputs": [],
   "source": [
    "print(float(3))\n",
    "print(int(3.9))"
   ]
  },
  {
   "cell_type": "markdown",
   "id": "1f2abcd2",
   "metadata": {},
   "source": [
    "## Expressions in Python <a id=\"expression\"></a>\n",
    "\n",
    "Syntax for a simple expression `<object> <operator> <object>`\n",
    "\n",
    "Common operators on `ints` and `floats` are `+,-,*,/`, **int division** `//`, **remainder** `%` and the **power** `**`.\n",
    "\n",
    "Parentheses have the highest priority. \n"
   ]
  },
  {
   "cell_type": "code",
   "execution_count": null,
   "id": "5ea966fc",
   "metadata": {},
   "outputs": [],
   "source": [
    "# 6/3 get 2.0 returns float 3.0, 5//2 returns integer 2\n",
    "print(6/3)\n",
    "print(5//2)\n",
    "print(5%2)"
   ]
  },
  {
   "cell_type": "markdown",
   "id": "7ad12407",
   "metadata": {},
   "source": [
    "### Input/Output in Python\n",
    "Keywords are `print(), input()`\n",
    "\n",
    "`Text = input(\"Type anything...\")`, input() takes string input and we can convert string to integer using `num=int(input(\"Type a number\"))`"
   ]
  },
  {
   "cell_type": "markdown",
   "id": "576e0b34",
   "metadata": {},
   "source": [
    "## Binding variables and Values <a id=\"bind_var\"></a>\n",
    "Equal sign is an assignment of a value to a variable name. Re-bind variable names using new assignment statements. Previous value may still stored in memory but lost the handle of it."
   ]
  },
  {
   "cell_type": "markdown",
   "id": "f9c18fa8",
   "metadata": {},
   "source": [
    "## Comparion Operators <a id=\"compare\"></a>\n",
    "Used for integers and floats  `i>j`,`i>=j`, `i<j`, `i<=j`, **equality test** `i==j`, and **inequality test** `i!=j`."
   ]
  },
  {
   "cell_type": "markdown",
   "id": "b3a2759c",
   "metadata": {},
   "source": [
    "## Logic Operators <a id=\"logic\"></a>\n",
    "Used for bools `not a`, `a and b`, `a or b`."
   ]
  },
  {
   "cell_type": "markdown",
   "id": "dcc48dca",
   "metadata": {},
   "source": [
    "## Conditional Statement <a id=\"condition\"></a>\n",
    "`if (conditon): ... elif (condition): ... else:`, indentation matters in Python"
   ]
  },
  {
   "cell_type": "code",
   "execution_count": null,
   "id": "b1bae564",
   "metadata": {},
   "outputs": [],
   "source": [
    "# x = int(input('Enter an interger')) # input in Python\n",
    "# COMPOUND BOOLEANS\n",
    "x = 1; y =2; z = 3\n",
    "if x<y and x<z:\n",
    "    print('x is least')\n",
    "elif y<z: # ELSE IF\n",
    "    print('y is least')\n",
    "else:\n",
    "    print('z is least')\n"
   ]
  },
  {
   "cell_type": "markdown",
   "id": "f46b61ee",
   "metadata": {},
   "source": [
    "## Strings <a id=\"string\"></a>\n",
    "Strings can represent letters, special characters, spaces, digits. Strings are enclosed in double or single quotation marks. \n",
    "\n",
    "1. Double quotation is handy and we can mainly use double quotes.  \n",
    "\n",
    "2. Use `+` to add (concatenate) strings together\n",
    "\n",
    "3. Use `\" \"` as a blank space\n",
    "\n",
    "4. String is a **non-scalar** object, meaning there are attributes associated with each string object."
   ]
  },
  {
   "cell_type": "code",
   "execution_count": null,
   "id": "736e44af",
   "metadata": {},
   "outputs": [],
   "source": [
    "hi = \"Hello There!\"\n",
    "print(hi)\n",
    "name = \"eric!\"\n",
    "greeting = hi+\" \"+name\n",
    "print(greeting)"
   ]
  },
  {
   "cell_type": "markdown",
   "id": "b4652536",
   "metadata": {},
   "source": [
    "### String Operations\n",
    "`Concatenation, successive concatenation, length, indexing, slicing, reverse, in` (Note python uses a 0-based indexing system, while MATLAB uses the 1-based indexing system).\n",
    "\n",
    "Strings are **immutable**; however, we can do re-assignment to modify the String."
   ]
  },
  {
   "cell_type": "code",
   "execution_count": null,
   "id": "18b6e1ce",
   "metadata": {},
   "outputs": [],
   "source": [
    "hi = 'ab'+'cd' # CONCATENATION\n",
    "print(hi)\n",
    "hi1 = 3*'eric' # SUCCESSIVE CONCATENATION\n",
    "print(hi1)\n",
    "hi2 = len('eric') # THE LENGTH, ALSO INCLUDES THE SPACE\n",
    "print(hi2)\n",
    "hi3 = 'eric'[1] # INDEXING, BEGINS WITH INDEX 0, THIS RETURNS r\n",
    "print(hi3)\n",
    "hi4 = 'eric'[1:3] # SLICING, EXTRACTS SEQUENCE STARTING AT FIRST INDEX AND ENDING BEFORE THE 3 INDEX\n",
    "print(hi4)\n",
    "\n",
    "# STRING OPERATION EXAMPLES\n",
    "str1 = 'hello'\n",
    "str2 = ','\n",
    "str3 = 'world'\n",
    "               \n",
    "print('a' in str3) # bool, False, in/not in ARE TWO BASIC PYTHON MEMBERSHIP OPERATORS\n",
    "print('HELLO' == str1) # bool, False\n",
    "str4 = str1 + str3 # STRING CONCATENATION\n",
    "print('low' in str4) # bool, True\n",
    "print(str3[:-1]) # string, worl, note -1 means the last element, -2 means the second last element\n",
    "print(str4[1:9:2]) # string, elwr, EXTRACT THE LETTERS WITH INDEX 1,3,5,7\n",
    "print(str4[::-1]) # string, dlrowolleh, (REVERSE ORDER)\n",
    "print(str4) # str4 itself is not changed in slicing operations\n",
    "s = \"hello\" \n",
    "s = \"y\" + s[1:len(s)] # strings are immutable, but we can re-assign the string.\n",
    "print(s)"
   ]
  },
  {
   "cell_type": "markdown",
   "id": "9d996340",
   "metadata": {},
   "source": [
    "### String Comparison Operations\n",
    "`==, !=, >, >=, <, <= `\n",
    "\n",
    "PYTHON COMPARES STRING LEXICOGRAPHICALLY (USING ASCII VLAUE OF CHARACTERS)\n",
    "\n",
    "e.g. Str1 = \"Mary\", Str2 = \"Mac\", THE FIRST TWO CHARS ARE M = M, THE SECOND CHARS ARE THEN COMPARED a,a\n",
    "\n",
    "ARE STILL EQUAL, THE THIRD TWO CHARS ARE THEN COMPARED r(ASCII 114) > c (ASCII 099)\n",
    "\n",
    "A<B<C<...<Z<a<b<c<...<x<y<z"
   ]
  },
  {
   "cell_type": "code",
   "execution_count": null,
   "id": "96215609",
   "metadata": {},
   "outputs": [],
   "source": [
    "print(\"tim\" == \"tie\") # False\n",
    "print(\"free\" != \"freedom\") # True\n",
    "print(\"arrow\" > \"aron\") # True\n",
    "print(\"right\" >= \"left\") # True\n",
    "print(\"teeth\" < \"tee\") # False\n",
    "print(\"yellow\" <= \"fellow\") # False\n",
    "print(\"abc\">\"\") # True, NOTE THE EMPTY STRING \"\" IS SMALLER THAN ALL OTHER STRINGS"
   ]
  },
  {
   "cell_type": "markdown",
   "id": "3322bf0e",
   "metadata": {},
   "source": [
    "### String Method \n",
    "1. EVERYTHING IN PYTHON IS AN OBJECT. OBJECTS ARE SPECIAL BECAUSE WE CAN ASSOCIATE SPECIAL FUNCTIONS, REFERRED TO AS OBJECT METHODS, WITH THE OBJECT. \n",
    "2. More methods associated with Strings can be found [here](https://docs.python.org/3/library/stdtypes.html#string-methods)"
   ]
  },
  {
   "cell_type": "code",
   "execution_count": null,
   "id": "b44deb44",
   "metadata": {},
   "outputs": [],
   "source": [
    "s = 'abc'\n",
    "s.capitalize # returns the function type\n",
    "s.capitalize() # invoke the function and returns Abc (need () to indicate a method is invoked)\n",
    "print(s.capitalize()) \n",
    "s.upper() # Return a copy of the string with all the cased chars converted to uppercase\n",
    "print(s.upper())\n",
    "print(s.isupper()) # Return true if all cased characters in the string are uppercase\n",
    "            # and there is at least one cased character, false otherwise.\n",
    "print(s.islower()) # similar to s.isupper\n",
    "print(s.swapcase()) #Return a copy of the string with uppercase chars converted to lowercase, vice versa.\n",
    "print(s.find('e')) # Return the lowest index in the string where substring 'e' is found,-1 if sub is not found\n",
    "print(s.index('c')) # Like find(), but raise ValueError when the substring is not found.\n",
    "print(s.count('e')) # Return the number of non-overlapping occurrences of substring e\n",
    "print(s.replace('old','new')) # Return a copy of the str, all occurrences of substr 'old' replaced by 'new'"
   ]
  },
  {
   "cell_type": "markdown",
   "id": "71d7dcc1",
   "metadata": {},
   "source": [
    "## While Loops <a id=\"while\"></a>\n",
    "`while <condition>: <expression>`, note `<condition>` evaluates to a Boolean. If `<condition>` is `True`, do all the steps inside the while code block, and then check the `<condition>` again and repeat until `<condition>` is `False`. \n",
    "\n",
    "Indentation matters! "
   ]
  },
  {
   "cell_type": "code",
   "execution_count": null,
   "id": "4b05ca57",
   "metadata": {},
   "outputs": [],
   "source": [
    "# CONTRL FLOW while LOOPS , range(start,stop,step)\n",
    "n = 0\n",
    "while n<5: # CTRL + c IN THE CONSOLE TO STOP THE PROGRAM\n",
    "    print(n)\n",
    "    n = n+1"
   ]
  },
  {
   "cell_type": "markdown",
   "id": "3912e255",
   "metadata": {},
   "source": [
    "## For Loops <a id=\"for\"></a>\n",
    "`for n in range(5)`, is equivalent to n in [0,1,2,3,4] \n",
    "\n",
    "`range(7,10)` starts at 7 stops at 10 (7,8,9) and `range(5,11,2)` starts at 5, stops at 11, step 2 (5,7,9)\n",
    "\n",
    "`break` can be used for exiting the innermost loop (for,while)\n",
    "\n",
    "`for` can loop through characters in strings"
   ]
  },
  {
   "cell_type": "code",
   "execution_count": null,
   "id": "024fe773",
   "metadata": {},
   "outputs": [],
   "source": [
    "# break STATEMENT\n",
    "mysum = 0\n",
    "for i in range(5,11,2):\n",
    "    mysum = mysum + i\n",
    "    if mysum == 5:\n",
    "        break\n",
    "print(mysum)\n",
    "\n",
    "# h, o ,l, a (for CAN LOOP CHARACTERS IN THE STRING)\n",
    "for letter in 'hola': \n",
    "    print(letter)"
   ]
  },
  {
   "cell_type": "markdown",
   "id": "249cd860",
   "metadata": {},
   "source": [
    "## Iteration <a id=\"iteration\"></a>\n",
    "\n",
    "Repeatedly use the same code. Need to set an iteration variable outside loop then test variable to determine when done and change variable within the loop. \n",
    "\n",
    "Iterative algorithms allow us to do more complex things than simple arithmetic, one useful example are **guess and check** methods."
   ]
  },
  {
   "cell_type": "code",
   "execution_count": null,
   "id": "f7b4d98a",
   "metadata": {},
   "outputs": [],
   "source": [
    "x = 3\n",
    "ans = 0\n",
    "itersLeft = x\n",
    "while(itersLeft != 0):\n",
    "    ans = ans +x\n",
    "    itersLeft = itersLeft - 1\n",
    "print(str(x)+'*'+str(x)+'='+str(ans))"
   ]
  },
  {
   "cell_type": "markdown",
   "id": "9a0b0383",
   "metadata": {},
   "source": [
    "## Guess and Check Algorithm <a id=\"guess\"></a>\n",
    "\n",
    "We guess a solution and check iteratively. Guess a value for solution. Check if the solution is correct. Keep guessing until find solution or guessed all values. The process is exhaustive enumeration. Can work on problems with a finite number of possibilities."
   ]
  },
  {
   "cell_type": "code",
   "execution_count": null,
   "id": "0096e1e7",
   "metadata": {},
   "outputs": [],
   "source": [
    "# GUESS-AND-CHECK-cube root\n",
    "cube = 28\n",
    "for guess in range(abs(cube)+1):\n",
    "    if guess**3 >= abs(cube):\n",
    "        break\n",
    "if guess**3 != abs(cube):\n",
    "    print(cube, 'is not a perfect cube')\n",
    "else:\n",
    "    if cube < 0:\n",
    "        guess = -guess \n",
    "    print('Cube root of ' + str(cube) + ' is ' + str(guess))"
   ]
  },
  {
   "cell_type": "markdown",
   "id": "13ad39a6",
   "metadata": {},
   "source": [
    "# Function/Iteration/Recursion/Modules/Files\n",
    "\n",
    "This Chapter describes the Python `function/iteration/recrusion/modules/files`\n",
    "\n",
    "- [Bisection Search Algorithm](#bisec)\n",
    "- [Floats amd Fractions](#float)\n",
    "- [Newton-Rampson Root Finding Algorithm](#rampson)\n",
    "- [Functions](#func)\n",
    "- [Recursion](#recursion)\n",
    "- [Modules](#module)\n",
    "- [Files](#files)"
   ]
  },
  {
   "cell_type": "markdown",
   "id": "bb955b3f",
   "metadata": {},
   "source": [
    "## Bisection Search Algorithms <a id=\"bisec\"></a>\n",
    "\n",
    "We can use this algorithm to compute the monthly payment of a mortgage.\n"
   ]
  },
  {
   "cell_type": "code",
   "execution_count": null,
   "id": "1bc299af",
   "metadata": {},
   "outputs": [],
   "source": [
    "\"\"\"\n",
    "BISECTION SEARCH - SQUARE ROOT\n",
    "# REALLY RADICALLY REDUCES COMPUTATION TIME\n",
    "\"\"\"\n",
    "x = 25\n",
    "epsilon = 0.01\n",
    "numGuesses = 0\n",
    "low = 1.0\n",
    "high = x\n",
    "ans = (high + low)/2.0\n",
    "\n",
    "while abs(ans**2-x) >= epsilon:\n",
    "    print('low = '+str(low)+' high = '+str(high)+' ans = '+ str(ans))\n",
    "    numGuesses += 1\n",
    "    if ans**2 < x:\n",
    "        low = ans\n",
    "    else:\n",
    "        high = ans\n",
    "    ans = (high + low)/2.0\n",
    "    \n",
    "print('numGuesses = '+ str(numGuesses)) \n",
    "print(str(ans) + ' is close to square root of '+ str(x))"
   ]
  },
  {
   "cell_type": "code",
   "execution_count": null,
   "id": "d403f877",
   "metadata": {},
   "outputs": [],
   "source": [
    "\"\"\"\n",
    "BISECTION SEARCH - CUBE ROOT\n",
    "# THIS SCRIPT ALSO ADDRESSES THE CASES WHERE X IN (-1,1) AND X < 0\n",
    "\"\"\"\n",
    "x = -8\n",
    "epsilon = 0.01\n",
    "numGuesses = 0\n",
    "low = 1.0\n",
    "high = abs(x)\n",
    "\n",
    "if abs(x) <= 1:\n",
    "    low = 0\n",
    "    high = 1\n",
    "\n",
    "ans = (high + low)/2.0 # BISECTION METHOD\n",
    "\n",
    "while abs(ans**3-abs(x)) >= epsilon:\n",
    "    print('low = '+str(low)+' high = '+str(high)+' ans = '+ str(ans))\n",
    "    numGuesses += 1\n",
    "    if ans**3 < abs(x):\n",
    "        low = ans\n",
    "    else:\n",
    "        high = ans\n",
    "    ans = (high + low)/2.0\n",
    "    \n",
    "if x < 0:\n",
    "    ans = -ans\n",
    "\n",
    "print('numGuesses = '+ str(numGuesses)) \n",
    "print(str(ans) + ' is close to cubic root of '+ str(x))"
   ]
  },
  {
   "cell_type": "markdown",
   "id": "8acb00ae",
   "metadata": {},
   "source": [
    "## Floats and Fractions <a id=\"float\"></a>\n",
    "\n",
    "1. Comupter represent numbers in binary format \n",
    "2. Decimal  number `302 = 3*100 + 0*10 + 2*1`\n",
    "3. Convert an interger to binary form\n",
    "4. For floats, IF WE MULTIPLE BY A POWER OF 2 (e.g 2^3) WHICH IS BIG ENOUGH TO CONVERT INTO  A WHOLE NUMBER, CAN THEN CONVERT TO BINARY, AND THEN DIVIDE BY THE SAME POWER OF 2\n",
    "    1. e.g. 3/8 = 0.375 = 3*10^-1 + 7*10^-2 + 5*10^-3; 0.375*(2**3) = 3 (DECIMAL), THEN CONVERT TO BINARY (NOW 11)\n",
    "    2. THEN DIVIDE BY 2**3(SHIFT RIGHT) TO GET 0.011 (BINARY)\n",
    "5. THERE ARE SOME PORBLEMS WITH COMPRAING TWO FLOAT POINTS BECAUSE COMPUTER TRIES TO SEE IF THE BINARIES ARE SAME.\n",
    "    1.  WE ALWAYS USE abs(x-y)< some small number, rather than x == y\n",
    "\n",
    "\n"
   ]
  },
  {
   "cell_type": "code",
   "execution_count": null,
   "id": "2c1f9afe",
   "metadata": {},
   "outputs": [],
   "source": [
    "#THE FOLLOWING PROGRAM CONVERTS INTERGERS TO BINARY FORMS\n",
    "num = -10\n",
    "if num < 0:\n",
    "    isNeg = True\n",
    "    num = abs(num)\n",
    "else:\n",
    "    isNeg = False\n",
    "result = ''\n",
    "if num == 0:\n",
    "    result = '0'\n",
    "while num > 0:\n",
    "    result = str(num%2) + result \n",
    "    num = num//2\n",
    "if isNeg:\n",
    "    result = '-'+ result\n",
    "print(result)"
   ]
  },
  {
   "cell_type": "code",
   "execution_count": null,
   "id": "706be163",
   "metadata": {},
   "outputs": [],
   "source": [
    "x = float(input('Enter a decimal number between 0 and 1:'))\n",
    "p = 0\n",
    "while ((2**p)*x)%1 != 0: # CONVERT TO A WHOLE NUMBER\n",
    "    print('Remainder = '+str((2**p)*x-int((2**p)*x)))\n",
    "    p += 1\n",
    "    \n",
    "num = int(x*(2**p))\n",
    "\n",
    "result = ''\n",
    "if num == 0:\n",
    "    result = '0'\n",
    "while num > 0: # CONVERT TO BINARY\n",
    "    result = str(num%2) + result\n",
    "    num = num//2\n",
    "    \n",
    "for i in range(p-len(result)):\n",
    "    result = '0' + result\n",
    "\n",
    "result = result[0:-p]+'.'+result[-p:]\n",
    "print('The binary representation of the decimal '+str(x)+' is'+str(result))\n",
    "    "
   ]
  },
  {
   "cell_type": "markdown",
   "id": "98ad0e24",
   "metadata": {},
   "source": [
    "## Newton-Raphson (Root Finding for 1-var Polynomials) <a id=\"rampson\"></a>\n",
    "GENERAL APPROXIMATION ALGORITHM TO FIND ROOTS OF A POLYNOMIAL IN ONE VARIABLE\n",
    "P(X)=a_n x^n + a_n-1 x^n-1 + ... + a_1 x + a_0 = 0"
   ]
  },
  {
   "cell_type": "code",
   "execution_count": null,
   "id": "def88517",
   "metadata": {},
   "outputs": [],
   "source": [
    "# WE USE THIS METHOD TO SOLVE p(x) = x^2 -24 = 0, WHREE x IS THE SQUARE ROOT OF 24\n",
    "epsilon  = 0.01 \n",
    "y = 24.0 \n",
    "guess = y/2.0\n",
    "numGuesses = 0\n",
    "  \n",
    "while abs(guess*guess - y) >= epsilon:\n",
    "    numGuesses += 1\n",
    "    guess = guess - (((guess**2)-y)/(2*guess)) # Intuitive explanation from wiki\n",
    "print('numGuesses = '+str(numGuesses))\n",
    "print('Square root of '+str(y)+' is about '+ str(guess))\n"
   ]
  },
  {
   "cell_type": "markdown",
   "id": "ee19b610",
   "metadata": {},
   "source": [
    "## Functions <a id=\"func\"></a>\n",
    "1. Called/invokded/; `parameter/docstrings/body`; key word `def`; variable scope/global scope/function scope\n",
    "2. Returns None if no return given\n",
    "3. `printName(lastName = 'Huang',firstName = 'Zipeng', reverse = False)` (Most robust way with default value)"
   ]
  },
  {
   "cell_type": "code",
   "execution_count": null,
   "id": "c98f7008",
   "metadata": {},
   "outputs": [],
   "source": [
    "\"\"\"\n",
    "FUNCTIONS\n",
    "ARE NOT RUN IN A PROGRAM UNTIL THEY ARE CALLED/INVIKED\n",
    "THEY HAVE: NAME, PARAMETERS (0, OR MORE), DOCSTRING(EXPLAIN WHAT A FUNCTION DOES) , BODY\n",
    "\"\"\"\n",
    "def is_even(i): # def IS A KEYWORD, IS_EVEN (NAME), i is PARAMETER/ARGUMENT\n",
    "    \"\"\"\n",
    "    INPUT: i, a positive int\n",
    "    Returns True if i is even, otherwise False\n",
    "    \"\"\"\n",
    "    print(\"hi\")\n",
    "    return i%2 == 0 # None, if no return given, only one return executed inside a function\n",
    "                    # code insider function but after return statement noe excuted\n",
    "\n",
    "x = is_even(3) # x is False\n",
    "\n",
    "def func_a(): # no parameter\n",
    "    print('inside func_a')\n",
    "\n",
    "def func_b(y):\n",
    "    print('inside func_b')\n",
    "    return y\n",
    "\n",
    "def func_c(z):\n",
    "    print('inside func_c')\n",
    "    return z()\n",
    "\n",
    "print(func_a())\n",
    "print(5+func_b(2))\n",
    "print(func_c(func_a)) # call func_c, takes one parameter, another function (a func invokes another func)\n",
    "\n",
    "# INSIDE A FUCNTION, CAN ACCESS A VARIABLE DEFINED OUTSIDE\n",
    "# INSIDE A FUCNTION, CANNOT MODIFY A VARIABLE DEFINED OUTSIDE\n",
    "def g(y):\n",
    "    print(x)\n",
    "    print(x+1) # x = x+1 is not valid\n",
    "x = 5\n",
    "g(x)\n",
    "print(x)"
   ]
  },
  {
   "cell_type": "code",
   "execution_count": null,
   "id": "9d4c17ae",
   "metadata": {},
   "outputs": [],
   "source": [
    "\"\"\"\n",
    "KWYWORD ARGUMENTS AND DEFAULT VALUES\n",
    "\"\"\"\n",
    "def printName(firstName,lastName,reverse):\n",
    "    if reverse:\n",
    "        print(lastName + ','+firstName)\n",
    "    else:\n",
    "        print(firstName,lastName)\n",
    "        \n",
    "# EACH OF RHESE ONVOCATIONS IS EQUIVALENT\n",
    "printName('Zipeng','Huang',False)\n",
    "printName('Zipeng','Huang',reverse = False)\n",
    "printName('Zipeng',lastName = 'Huang',reverse = False)\n",
    "# THE LAST INVOCATION IS RECOMMENDED SINCE IT IS ROBUST \n",
    "printName(lastName = 'Huang',firstName = 'Zipeng', reverse = False)\n",
    "\n",
    "\"\"\"\n",
    "WE CAN ALSO SPECIFY THAT SOME ARGUMENTS HAVE DEFAULT VALUES, SO IF NO VALUE\n",
    "SUPPLIED, JUST USE THAT VALUE （Default value）\n",
    "\"\"\"\n",
    "def printName(firstName,lastName,reverse = False):\n",
    "    if reverse:\n",
    "        print(lastName + ','+firstName)\n",
    "    else:\n",
    "        print(firstName,lastName)\n",
    "\n",
    "printName('Zipeng','Huang')\n",
    "printName('Zipeng','Huang',True)\n"
   ]
  },
  {
   "cell_type": "markdown",
   "id": "ddf5fe8c",
   "metadata": {},
   "source": [
    "## Recursion <a id=\"recursion\"></a>\n",
    "1. DIVIDE AND CONQUER, `A FUNCTION CALLS ITSELF` (Mathematical Induction Reasoning)\n",
    "    1. WE SOLVE A HARD PROBLEM BY BREAKING IT INTO A SET OF SUBPROBLEMS SUCH THAT:\n",
    "    2. SUB-PROBLEMS ARE EASIER TO SOLVE THAN THE ORIGINAL\n",
    "    3. SOLUTIONS OF THE SUB-PROBELMS CAN BE COMBINED TO SOLVE THE ORIGINAL\n",
    "2. RECURSIVE STEP: THINK HOW TO REDUCE PROBLEM TO A SIMPLER/SMALLER VERSION OF SAME PROBLEM.\n",
    "3. BASE CASE: KEEP REDUCING RPOBLEM UNTIL REACH A SIMPLE CASE THAT CAN BE SOLVED DIRECTLY.\n",
    "4. ITERATION vs. RECURSION (DOES THE SAME THING) \n",
    "    1. RECURSION MAY BE SIMPLER, MORE INTUITIVE \n",
    "    2. RECURSION MAY BE EFFICIENT FROM PROGRAMMER'S POINT OF VIEW\n",
    "    3. RECURSION MAY NOT BE EFFICIENT FROM COMPUTER POINT OF VIEW"
   ]
  },
  {
   "cell_type": "code",
   "execution_count": null,
   "id": "781b1087",
   "metadata": {},
   "outputs": [],
   "source": [
    "# MULTIPLICATION-RECURSIVE SOLUTION\n",
    "# MATHEMATICAL INDUCTION REASONING OF THE CODE\n",
    "def mult(a,b):\n",
    "    if b == 1: # BASE CASE\n",
    "        return a\n",
    "    else: # RECURSIVE STEP\n",
    "        return a + mult(a,b-1)\n",
    "\n",
    "# FACTORIAL \n",
    "def fact(n):\n",
    "    if n==1:\n",
    "        return 1\n",
    "    else:\n",
    "        return n*fact(n-1)"
   ]
  },
  {
   "cell_type": "code",
   "execution_count": null,
   "id": "d0d0575d",
   "metadata": {},
   "outputs": [],
   "source": [
    "# TOWERS OF HANOI (THINK RECURSIVELY! )\n",
    "# SOLVE A SMALLER PROBELM/ SOLVE A BASIC PROBLEM\n",
    "# fr: from stack (INITAL TOWER); to: to stack (FINAL TOWER); spare: (SPARE TOWER);  \n",
    "def printMove(fr,to):\n",
    "    print('move from'+str(fr)+'to'+str(to))\n",
    "\n",
    "def Towers(n,fr,to,spare):\n",
    "    if n==1: \n",
    "        printMove(fr,to)\n",
    "    else:\n",
    "        # WE CAN HAVE MULTIPLE RECURSIVE CALLS INSIDE A FUNCTION\n",
    "        # THINK IT RECURSIVELY\n",
    "        Towers(n-1,fr,spare,to) # move the stack size of n-1 to a spare disc\n",
    "        Towers(1,fr,to,spare) # move the bottom to the desired disc\n",
    "        Towers(n-1,spare,to,fr) # move the n-1 back to the desired disc \n",
    "\n",
    "print(Towers(3,'P1','P2','P3'))"
   ]
  },
  {
   "cell_type": "code",
   "execution_count": null,
   "id": "7bca61ab",
   "metadata": {},
   "outputs": [],
   "source": [
    "# RECURSION WITH MULTIPLE BASE CASES\n",
    "# FIBONACCI NUMBERS\n",
    "def fib(x):\n",
    "    \"\"\"assumes x an int >=0, returns Fibonacci of x \"\"\"\n",
    "    if x == 0 or x ==1: # base cases\n",
    "        return 1\n",
    "    else: \n",
    "        return fib(x-1)+ fib(x-2) # we have two recurisve functions calls in a return"
   ]
  },
  {
   "cell_type": "code",
   "execution_count": null,
   "id": "d2ae29e9",
   "metadata": {},
   "outputs": [],
   "source": [
    "# RECURSION ON NON-NUMERICS (STRINGS)\n",
    "def isPalindrome(s):\n",
    "    def toChars(s): # convert string to all lower cases\n",
    "        s = s.lower() # convert to lower case\n",
    "        ans = ''\n",
    "        for c in s: # remove all the punctuations/space\n",
    "            if c in 'abcdefghijklmnopqrstuvwxyz':\n",
    "                ans = ans + c\n",
    "        return ans\n",
    "        \n",
    "    def isPal(s):\n",
    "        if len(s)<= 1: # recursive base case\n",
    "            return True\n",
    "        else: \n",
    "            return s[0] == s[-1] and isPal(s[1:-1]) # recursive step happens here\n",
    "                                                    # we compare the fisrt and last letter then\n",
    "                                                    # we convert the problem to a smaller probelm\n",
    "    \n",
    "    return isPal(toChars(s))"
   ]
  },
  {
   "cell_type": "markdown",
   "id": "82faa534",
   "metadata": {},
   "source": [
    "## Modules <a id=\"module\"></a>\n",
    "A module is a `.py` file containing python definitions and statements\n",
    "\n",
    "`import circle` (import a module), we can then use `circle.pi` to access a attribute/method inside a module\n",
    "\n",
    "`from circle import *`\n",
    "    1. from the module `circle` import everything\n",
    "    2. we can then directly use `pi` variable defined in cirle without suing `circle.pi`\n",
    "    3. Need to make sure no name collision when use importing method\n",
    "\n"
   ]
  },
  {
   "cell_type": "code",
   "execution_count": null,
   "id": "349348dc",
   "metadata": {},
   "outputs": [],
   "source": [
    "# the file circle.py contains \n",
    "pi = 3.14159\n",
    "def area(radius):\n",
    "    return pi*(radius**2)\n",
    "def circumference(radius):\n",
    "    return 2*pi*radius\n",
    "    \n",
    "# then we can import and use this module\n",
    "import circle\n",
    "pi = 3   # can still define the pi in the shell\n",
    "print(pi) # 3\n",
    "print(circle.pi) # 3.14159, look for pi defined in the module\n",
    "print(circle.circumference(3)) # 18.84953999  \n",
    "    \n",
    "# if we don't want to refer to functions and vars by their module, and the names don't\n",
    "# collide with other bindings, then we can use:\n",
    "from circle import* # means from the module, import everything (denoted by the star sign)\n",
    "print(pi)\n",
    "print(area(3)) # we can refer them by calling their own name"
   ]
  },
  {
   "cell_type": "markdown",
   "id": "d2cb178b",
   "metadata": {},
   "source": [
    "## Files <a id=\"files\"></a>\n",
    "\n",
    "Python provides an operating-system independent means to access files, using a file handle. \n",
    "\n",
    "`nameHandle = open('kids','w')` (open kids for write, r for read)\n",
    "\n",
    "`name = input('Enter name: ')`\n",
    "\n",
    "`nameHandle.write(name+ '\\n')`\n",
    "\n",
    "`nameHandle.close()`, (() means that we are referring to the close() function) \n"
   ]
  },
  {
   "cell_type": "code",
   "execution_count": null,
   "id": "441fb0fe",
   "metadata": {},
   "outputs": [],
   "source": [
    "\"\"\"\n",
    "WRITE/READ FILES\n",
    "\"\"\"\n",
    "nameHandle = open('kids','w') # 'kid': name of file; w: write command\n",
    "for i in range(2):\n",
    "    name = input('Enter name: ')\n",
    "    nameHandle.write(name+ '\\n')\n",
    "nameHandle.close()    \n",
    "    \n",
    "nameHandle = open('kids','r') # read\n",
    "for line in nameHandle:\n",
    "    print(line)\n",
    "nameHandle.close()   "
   ]
  }
 ],
 "metadata": {
  "kernelspec": {
   "display_name": "Python 3 (ipykernel)",
   "language": "python",
   "name": "python3"
  },
  "language_info": {
   "codemirror_mode": {
    "name": "ipython",
    "version": 3
   },
   "file_extension": ".py",
   "mimetype": "text/x-python",
   "name": "python",
   "nbconvert_exporter": "python",
   "pygments_lexer": "ipython3",
   "version": "3.7.11"
  }
 },
 "nbformat": 4,
 "nbformat_minor": 5
}
