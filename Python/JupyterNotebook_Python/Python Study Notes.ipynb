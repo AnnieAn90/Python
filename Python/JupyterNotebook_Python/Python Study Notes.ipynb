{
 "cells": [
  {
   "cell_type": "markdown",
   "id": "69192afc",
   "metadata": {},
   "source": [
    "# Python Basics\n",
    "This notebook serves as the sutdy notes for Python Language. The material is mainly follow the MIT courseware [Introduction to Computer Science and Programming Using Python](https://learning.edx.org/course/course-v1:MITx+6.00.1x+2T2017_2/home). \n",
    "This Chapter describes the basic `objects/while/for/if/logic/operations` concepts in Python language."
   ]
  },
  {
   "cell_type": "markdown",
   "id": "f3781dd8",
   "metadata": {},
   "source": [
    "## Table of Content \n",
    "* [Scalar and Non-scalar Objects](#scaler_obj)\n",
    "* [Expressions in Python](#expression)\n",
    "* [Binding Variables](#bind_var)\n",
    "* [Comparison Operators](#compare)\n",
    "* [Logic Operators](#logic)\n",
    "* [Conditional Statement](#condition)\n",
    "* [Strings](#string)\n",
    "* [While Loops](#while)\n",
    "* [For Loops](#for)\n",
    "* [Iteration](#iteration)\n",
    "* [Guess and Check](#guess)"
   ]
  },
  {
   "cell_type": "markdown",
   "id": "2f82c824",
   "metadata": {},
   "source": [
    "## Scaler and Non-scalar Objects <a class=\"anchor\" id=\"scaler_obj\"></a>\n",
    "`int`, `float`, `bool`, `NoneType` are built-in scalar obejcts (Python is an object-oriented language and eveything in python is an object of a class).\n",
    "\n",
    "`list`,` tuple`, `list`, `dictionary` are non-scalar objects.\n",
    "\n",
    "Can use `type()` to see the type (class) of an object.\n",
    "\n",
    "We can directly convert object of one type to another."
   ]
  },
  {
   "cell_type": "code",
   "execution_count": null,
   "id": "70853d1f",
   "metadata": {},
   "outputs": [],
   "source": [
    "print(type(5))"
   ]
  },
  {
   "cell_type": "code",
   "execution_count": null,
   "id": "20a6c8d2",
   "metadata": {},
   "outputs": [],
   "source": [
    "print(type(3.0))"
   ]
  },
  {
   "cell_type": "code",
   "execution_count": null,
   "id": "1d27a94a",
   "metadata": {},
   "outputs": [],
   "source": [
    "print(float(3))\n",
    "print(int(3.9))"
   ]
  },
  {
   "cell_type": "markdown",
   "id": "1f2abcd2",
   "metadata": {},
   "source": [
    "## Expressions in Python <a class=\"anchor\" id=\"expression\"></a>\n",
    "\n",
    "Syntax for a simple expression `<object> <operator> <object>`\n",
    "\n",
    "Common operators on `ints` and `floats` are `+,-,*,/`, **int division** `//`, **remainder** `%` and the **power** `**`.\n",
    "\n",
    "Parentheses have the highest priority. \n"
   ]
  },
  {
   "cell_type": "code",
   "execution_count": null,
   "id": "5ea966fc",
   "metadata": {},
   "outputs": [],
   "source": [
    "# 6/3 get 2.0 returns float 3.0, 5//2 returns integer 2\n",
    "print(6/3)\n",
    "print(5//2)\n",
    "print(5%2)"
   ]
  },
  {
   "cell_type": "markdown",
   "id": "7ad12407",
   "metadata": {},
   "source": [
    "### Input/Output in Python\n",
    "Keywords are `print(), input()`\n",
    "\n",
    "`Text = input(\"Type anything...\")`, input() takes string input and we can convert string to integer using `num=int(input(\"Type a number\"))`"
   ]
  },
  {
   "cell_type": "markdown",
   "id": "576e0b34",
   "metadata": {},
   "source": [
    "## Binding variables and Values <a class=\"anchor\" id=\"bind_var\"></a>\n",
    "Equal sign is an assignment of a value to a variable name. Re-bind variable names using new assignment statements. Previous value may still stored in memory but lost the handle of it."
   ]
  },
  {
   "cell_type": "markdown",
   "id": "f9c18fa8",
   "metadata": {},
   "source": [
    "## Comparion Operators <a class=\"anchor\" id=\"compare\"></a>\n",
    "Used for integers and floats  `i>j`,`i>=j`, `i<j`, `i<=j`, **equality test** `i==j`, and **inequality test** `i!=j`."
   ]
  },
  {
   "cell_type": "markdown",
   "id": "b3a2759c",
   "metadata": {},
   "source": [
    "## Logic Operators <a class=\"anchor\" id=\"logic\"></a>\n",
    "Used for bools `not a`, `a and b`, `a or b`."
   ]
  },
  {
   "cell_type": "markdown",
   "id": "dcc48dca",
   "metadata": {},
   "source": [
    "## Conditional Statement <a class=\"anchor\" id=\"condition\"></a>\n",
    "`if (conditon): ... elif (condition): ... else:`, indentation matters in Python"
   ]
  },
  {
   "cell_type": "code",
   "execution_count": null,
   "id": "b1bae564",
   "metadata": {},
   "outputs": [],
   "source": [
    "# x = int(input('Enter an interger')) # input in Python\n",
    "# COMPOUND BOOLEANS\n",
    "x = 1; y =2; z = 3\n",
    "if x<y and x<z:\n",
    "    print('x is least')\n",
    "elif y<z: # ELSE IF\n",
    "    print('y is least')\n",
    "else:\n",
    "    print('z is least')\n"
   ]
  },
  {
   "cell_type": "markdown",
   "id": "f46b61ee",
   "metadata": {},
   "source": [
    "## Strings <a class=\"anchor\" id=\"string\"></a>\n",
    "Strings can represent letters, special characters, spaces, digits. Strings are enclosed in double or single quotation marks. \n",
    "\n",
    "1. Double quotation is handy and we can mainly use double quotes.  \n",
    "\n",
    "2. Use `+` to add (concatenate) strings together\n",
    "\n",
    "3. Use `\" \"` as a blank space\n",
    "\n",
    "4. String is a **non-scalar** object, meaning there are attributes associated with each string object."
   ]
  },
  {
   "cell_type": "code",
   "execution_count": null,
   "id": "736e44af",
   "metadata": {},
   "outputs": [],
   "source": [
    "hi = \"Hello There!\"\n",
    "print(hi)\n",
    "name = \"eric!\"\n",
    "greeting = hi+\" \"+name\n",
    "print(greeting)"
   ]
  },
  {
   "cell_type": "markdown",
   "id": "b4652536",
   "metadata": {},
   "source": [
    "### String Operations\n",
    "`Concatenation, successive concatenation, length, indexing, slicing, reverse, in` (Note python uses a 0-based indexing system, while MATLAB uses the 1-based indexing system).\n",
    "\n",
    "Strings are **immutable**; however, we can do re-assignment to modify the String."
   ]
  },
  {
   "cell_type": "code",
   "execution_count": null,
   "id": "18b6e1ce",
   "metadata": {},
   "outputs": [],
   "source": [
    "hi = 'ab'+'cd' # CONCATENATION\n",
    "print(hi)\n",
    "hi1 = 3*'eric' # SUCCESSIVE CONCATENATION\n",
    "print(hi1)\n",
    "hi2 = len('eric') # THE LENGTH, ALSO INCLUDES THE SPACE\n",
    "print(hi2)\n",
    "hi3 = 'eric'[1] # INDEXING, BEGINS WITH INDEX 0, THIS RETURNS r\n",
    "print(hi3)\n",
    "hi4 = 'eric'[1:3] # SLICING, EXTRACTS SEQUENCE STARTING AT FIRST INDEX AND ENDING BEFORE THE 3 INDEX\n",
    "print(hi4)\n",
    "\n",
    "# STRING OPERATION EXAMPLES\n",
    "str1 = 'hello'\n",
    "str2 = ','\n",
    "str3 = 'world'\n",
    "               \n",
    "print('a' in str3) # bool, False, in/not in ARE TWO BASIC PYTHON MEMBERSHIP OPERATORS\n",
    "print('HELLO' == str1) # bool, False\n",
    "str4 = str1 + str3 # STRING CONCATENATION\n",
    "print('low' in str4) # bool, True\n",
    "print(str3[:-1]) # string, worl, note -1 means the last element, -2 means the second last element\n",
    "print(str4[1:9:2]) # string, elwr, EXTRACT THE LETTERS WITH INDEX 1,3,5,7\n",
    "print(str4[::-1]) # string, dlrowolleh, (REVERSE ORDER)\n",
    "print(str4) # str4 itself is not changed in slicing operations\n",
    "s = \"hello\" \n",
    "s = \"y\" + s[1:len(s)] # strings are immutable, but we can re-assign the string.\n",
    "print(s)"
   ]
  },
  {
   "cell_type": "markdown",
   "id": "9d996340",
   "metadata": {},
   "source": [
    "### String Comparison Operations\n",
    "`==, !=, >, >=, <, <= `\n",
    "\n",
    "PYTHON COMPARES STRING LEXICOGRAPHICALLY (USING ASCII VLAUE OF CHARACTERS)\n",
    "\n",
    "e.g. Str1 = \"Mary\", Str2 = \"Mac\", THE FIRST TWO CHARS ARE M = M, THE SECOND CHARS ARE THEN COMPARED a,a\n",
    "\n",
    "ARE STILL EQUAL, THE THIRD TWO CHARS ARE THEN COMPARED r(ASCII 114) > c (ASCII 099)\n",
    "\n",
    "A<B<C<...<Z<a<b<c<...<x<y<z"
   ]
  },
  {
   "cell_type": "code",
   "execution_count": null,
   "id": "96215609",
   "metadata": {},
   "outputs": [],
   "source": [
    "print(\"tim\" == \"tie\") # False\n",
    "print(\"free\" != \"freedom\") # True\n",
    "print(\"arrow\" > \"aron\") # True\n",
    "print(\"right\" >= \"left\") # True\n",
    "print(\"teeth\" < \"tee\") # False\n",
    "print(\"yellow\" <= \"fellow\") # False\n",
    "print(\"abc\">\"\") # True, NOTE THE EMPTY STRING \"\" IS SMALLER THAN ALL OTHER STRINGS"
   ]
  },
  {
   "cell_type": "markdown",
   "id": "71d7dcc1",
   "metadata": {},
   "source": [
    "## While Loops <a class=\"anchor\" id=\"while\"></a>\n",
    "`while <condition>: <expression>`, note `<condition>` evaluates to a Boolean. If `<condition>` is `True`, do all the steps inside the while code block, and then check the `<condition>` again and repeat until `<condition>` is `False`. \n",
    "\n",
    "Indentation matters! "
   ]
  },
  {
   "cell_type": "code",
   "execution_count": null,
   "id": "4b05ca57",
   "metadata": {},
   "outputs": [],
   "source": [
    "# CONTRL FLOW while LOOPS , range(start,stop,step)\n",
    "n = 0\n",
    "while n<5: # CTRL + c IN THE CONSOLE TO STOP THE PROGRAM\n",
    "    print(n)\n",
    "    n = n+1"
   ]
  },
  {
   "cell_type": "markdown",
   "id": "3912e255",
   "metadata": {},
   "source": [
    "## For Loops <a class=\"anchor\" id=\"for\"></a>\n",
    "`for n in range(5)`, is equivalent to n in [0,1,2,3,4] \n",
    "\n",
    "`range(7,10)` starts at 7 stops at 10 (7,8,9) and `range(5,11,2)` starts at 5, stops at 11, step 2 (5,7,9)\n",
    "\n",
    "`break` can be used for exiting the innermost loop (for,while)\n",
    "\n",
    "`for` can loop through characters in strings"
   ]
  },
  {
   "cell_type": "code",
   "execution_count": null,
   "id": "024fe773",
   "metadata": {},
   "outputs": [],
   "source": [
    "# break STATEMENT\n",
    "mysum = 0\n",
    "for i in range(5,11,2):\n",
    "    mysum = mysum + i\n",
    "    if mysum == 5:\n",
    "        break\n",
    "print(mysum)\n",
    "\n",
    "# h, o ,l, a (for CAN LOOP CHARACTERS IN THE STRING)\n",
    "for letter in 'hola': \n",
    "    print(letter)"
   ]
  },
  {
   "cell_type": "markdown",
   "id": "249cd860",
   "metadata": {},
   "source": [
    "## Iteration <a class=\"anchor\" id=\"iteration\"></a>\n",
    "\n",
    "Repeatedly use the same code. Need to set an iteration variable outside loop then test variable to determine when done and change variable within the loop. \n",
    "\n",
    "Iterative algorithms allow us to do more complex things than simple arithmetic, one useful example are **guess and check** methods."
   ]
  },
  {
   "cell_type": "code",
   "execution_count": null,
   "id": "f7b4d98a",
   "metadata": {},
   "outputs": [],
   "source": [
    "x = 3\n",
    "ans = 0\n",
    "itersLeft = x\n",
    "while(itersLeft != 0):\n",
    "    ans = ans +x\n",
    "    itersLeft = itersLeft - 1\n",
    "print(str(x)+'*'+str(x)+'='+str(ans))"
   ]
  },
  {
   "cell_type": "markdown",
   "id": "9a0b0383",
   "metadata": {},
   "source": [
    "## Guess and Check Algorithm <a class=\"anchor\" id=\"guess\"></a>\n",
    "\n",
    "We guess a solution and check iteratively. Guess a value for solution. Check if the solution is correct. Keep guessing until find solution or guessed all values. The process is exhaustive enumeration. Can work on problems with a finite number of possibilities."
   ]
  },
  {
   "cell_type": "code",
   "execution_count": null,
   "id": "0096e1e7",
   "metadata": {},
   "outputs": [],
   "source": [
    "# GUESS-AND-CHECK-cube root\n",
    "cube = 28\n",
    "for guess in range(abs(cube)+1):\n",
    "    if guess**3 >= abs(cube):\n",
    "        break\n",
    "if guess**3 != abs(cube):\n",
    "    print(cube, 'is not a perfect cube')\n",
    "else:\n",
    "    if cube < 0:\n",
    "        guess = -guess \n",
    "    print('Cube root of ' + str(cube) + ' is ' + str(guess))"
   ]
  },
  {
   "cell_type": "markdown",
   "id": "13ad39a6",
   "metadata": {},
   "source": [
    "# Function/Iteration/Recursion/Modules/Files\n",
    "\n",
    "This Chapter describes the Python `function/iteration/recrusion/modules/files`"
   ]
  },
  {
   "cell_type": "markdown",
   "id": "c24569c5",
   "metadata": {},
   "source": [
    "## Table of Content \n",
    "* [Scalar and Non-scalar Objects](#scaler_obj)"
   ]
  }
 ],
 "metadata": {
  "kernelspec": {
   "display_name": "Python 3 (ipykernel)",
   "language": "python",
   "name": "python3"
  },
  "language_info": {
   "codemirror_mode": {
    "name": "ipython",
    "version": 3
   },
   "file_extension": ".py",
   "mimetype": "text/x-python",
   "name": "python",
   "nbconvert_exporter": "python",
   "pygments_lexer": "ipython3",
   "version": "3.7.11"
  }
 },
 "nbformat": 4,
 "nbformat_minor": 5
}
